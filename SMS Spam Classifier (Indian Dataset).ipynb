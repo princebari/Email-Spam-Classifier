{
  "cells": [
    {
      "cell_type": "markdown",
      "metadata": {
        "id": "-c2YvVMUF-Vv"
      },
      "source": [
        "**<h1> SMS SPAM CLASSIFIER</h1>**"
      ]
    },
    {
      "cell_type": "markdown",
      "source": [
        "This spam SMS dataset has 1000 ham SMS and 1000 spam messages. For collecting this SMS, Yadav, K., Kumaraguru, P., Goyal, A., Gupta, A., and Naik ran an incentivized crowd-sourcing scheme on their campus in 2011. It contains both Hindi and English messages collected from 43 participants.  \n",
        "\n",
        "Dataset link : http://precog.iiitd.edu.in/requester.php?dataset=smsspam.\n",
        "\n"
      ],
      "metadata": {
        "id": "H3L96pGpFPve"
      }
    },
    {
      "cell_type": "markdown",
      "metadata": {
        "id": "HPVsrsveGQSm"
      },
      "source": [
        "**<h2>Feature Engineering and Modelling</h2>**"
      ]
    },
    {
      "cell_type": "code",
      "execution_count": null,
      "metadata": {
        "colab": {
          "base_uri": "https://localhost:8080/"
        },
        "id": "CorrrSfbVQSM",
        "outputId": "8592f8d6-06ba-4023-ff8b-f58822c8d574"
      },
      "outputs": [
        {
          "output_type": "stream",
          "name": "stderr",
          "text": [
            "[nltk_data] Downloading package punkt to /root/nltk_data...\n",
            "[nltk_data]   Unzipping tokenizers/punkt.zip.\n",
            "[nltk_data] Downloading package stopwords to /root/nltk_data...\n",
            "[nltk_data]   Unzipping corpora/stopwords.zip.\n"
          ]
        }
      ],
      "source": [
        "# importing useful libraries\n",
        "import pandas as pd\n",
        "import numpy as np\n",
        "import matplotlib.pyplot as plt\n",
        "import seaborn as sns\n",
        "from scipy.sparse import hstack\n",
        "from sklearn.feature_extraction.text import CountVectorizer\n",
        "from sklearn.feature_extraction.text import TfidfVectorizer\n",
        "from sklearn.model_selection import train_test_split\n",
        "from sklearn.metrics import accuracy_score ,precision_score, recall_score ,f1_score , confusion_matrix\n",
        "from sklearn.naive_bayes import GaussianNB \n",
        "import nltk\n",
        "nltk.download('punkt')\n",
        "%matplotlib inline\n",
        "from wordcloud import WordCloud\n",
        "import re\n",
        "import string\n",
        "nltk.download('stopwords')\n",
        "from nltk.corpus import stopwords"
      ]
    },
    {
      "cell_type": "markdown",
      "metadata": {
        "id": "zlHIYrr9pLe_"
      },
      "source": [
        "<h3> Modelling on Final Dataset </h3>\n"
      ]
    },
    {
      "cell_type": "code",
      "execution_count": null,
      "metadata": {
        "colab": {
          "base_uri": "https://localhost:8080/",
          "height": 206
        },
        "id": "HdZdtX-UVb7E",
        "outputId": "67af9479-fb33-4160-9032-945957dede49"
      },
      "outputs": [
        {
          "output_type": "execute_result",
          "data": {
            "text/plain": [
              "    v1                                                 v2\n",
              "0  ham    zyada itrao mat . english meko bi aati hai :-P \n",
              "1  ham  is ajnbi dunia me akle 1 khwab hu  swalon se k...\n",
              "2  ham  Husband n wife were opening joint bank ac Husb...\n",
              "3  ham  Husband Suhag raat pe- Tum ne kabhi Blue Film ...\n",
              "4  ham  indagi me 5 cheez kabhi bhi aa sakti h 'Hum' '..."
            ],
            "text/html": [
              "\n",
              "  <div id=\"df-a9d6c0d6-e5c6-4759-bf68-18833d5f37a4\">\n",
              "    <div class=\"colab-df-container\">\n",
              "      <div>\n",
              "<style scoped>\n",
              "    .dataframe tbody tr th:only-of-type {\n",
              "        vertical-align: middle;\n",
              "    }\n",
              "\n",
              "    .dataframe tbody tr th {\n",
              "        vertical-align: top;\n",
              "    }\n",
              "\n",
              "    .dataframe thead th {\n",
              "        text-align: right;\n",
              "    }\n",
              "</style>\n",
              "<table border=\"1\" class=\"dataframe\">\n",
              "  <thead>\n",
              "    <tr style=\"text-align: right;\">\n",
              "      <th></th>\n",
              "      <th>v1</th>\n",
              "      <th>v2</th>\n",
              "    </tr>\n",
              "  </thead>\n",
              "  <tbody>\n",
              "    <tr>\n",
              "      <th>0</th>\n",
              "      <td>ham</td>\n",
              "      <td>zyada itrao mat . english meko bi aati hai :-P</td>\n",
              "    </tr>\n",
              "    <tr>\n",
              "      <th>1</th>\n",
              "      <td>ham</td>\n",
              "      <td>is ajnbi dunia me akle 1 khwab hu  swalon se k...</td>\n",
              "    </tr>\n",
              "    <tr>\n",
              "      <th>2</th>\n",
              "      <td>ham</td>\n",
              "      <td>Husband n wife were opening joint bank ac Husb...</td>\n",
              "    </tr>\n",
              "    <tr>\n",
              "      <th>3</th>\n",
              "      <td>ham</td>\n",
              "      <td>Husband Suhag raat pe- Tum ne kabhi Blue Film ...</td>\n",
              "    </tr>\n",
              "    <tr>\n",
              "      <th>4</th>\n",
              "      <td>ham</td>\n",
              "      <td>indagi me 5 cheez kabhi bhi aa sakti h 'Hum' '...</td>\n",
              "    </tr>\n",
              "  </tbody>\n",
              "</table>\n",
              "</div>\n",
              "      <button class=\"colab-df-convert\" onclick=\"convertToInteractive('df-a9d6c0d6-e5c6-4759-bf68-18833d5f37a4')\"\n",
              "              title=\"Convert this dataframe to an interactive table.\"\n",
              "              style=\"display:none;\">\n",
              "        \n",
              "  <svg xmlns=\"http://www.w3.org/2000/svg\" height=\"24px\"viewBox=\"0 0 24 24\"\n",
              "       width=\"24px\">\n",
              "    <path d=\"M0 0h24v24H0V0z\" fill=\"none\"/>\n",
              "    <path d=\"M18.56 5.44l.94 2.06.94-2.06 2.06-.94-2.06-.94-.94-2.06-.94 2.06-2.06.94zm-11 1L8.5 8.5l.94-2.06 2.06-.94-2.06-.94L8.5 2.5l-.94 2.06-2.06.94zm10 10l.94 2.06.94-2.06 2.06-.94-2.06-.94-.94-2.06-.94 2.06-2.06.94z\"/><path d=\"M17.41 7.96l-1.37-1.37c-.4-.4-.92-.59-1.43-.59-.52 0-1.04.2-1.43.59L10.3 9.45l-7.72 7.72c-.78.78-.78 2.05 0 2.83L4 21.41c.39.39.9.59 1.41.59.51 0 1.02-.2 1.41-.59l7.78-7.78 2.81-2.81c.8-.78.8-2.07 0-2.86zM5.41 20L4 18.59l7.72-7.72 1.47 1.35L5.41 20z\"/>\n",
              "  </svg>\n",
              "      </button>\n",
              "      \n",
              "  <style>\n",
              "    .colab-df-container {\n",
              "      display:flex;\n",
              "      flex-wrap:wrap;\n",
              "      gap: 12px;\n",
              "    }\n",
              "\n",
              "    .colab-df-convert {\n",
              "      background-color: #E8F0FE;\n",
              "      border: none;\n",
              "      border-radius: 50%;\n",
              "      cursor: pointer;\n",
              "      display: none;\n",
              "      fill: #1967D2;\n",
              "      height: 32px;\n",
              "      padding: 0 0 0 0;\n",
              "      width: 32px;\n",
              "    }\n",
              "\n",
              "    .colab-df-convert:hover {\n",
              "      background-color: #E2EBFA;\n",
              "      box-shadow: 0px 1px 2px rgba(60, 64, 67, 0.3), 0px 1px 3px 1px rgba(60, 64, 67, 0.15);\n",
              "      fill: #174EA6;\n",
              "    }\n",
              "\n",
              "    [theme=dark] .colab-df-convert {\n",
              "      background-color: #3B4455;\n",
              "      fill: #D2E3FC;\n",
              "    }\n",
              "\n",
              "    [theme=dark] .colab-df-convert:hover {\n",
              "      background-color: #434B5C;\n",
              "      box-shadow: 0px 1px 3px 1px rgba(0, 0, 0, 0.15);\n",
              "      filter: drop-shadow(0px 1px 2px rgba(0, 0, 0, 0.3));\n",
              "      fill: #FFFFFF;\n",
              "    }\n",
              "  </style>\n",
              "\n",
              "      <script>\n",
              "        const buttonEl =\n",
              "          document.querySelector('#df-a9d6c0d6-e5c6-4759-bf68-18833d5f37a4 button.colab-df-convert');\n",
              "        buttonEl.style.display =\n",
              "          google.colab.kernel.accessAllowed ? 'block' : 'none';\n",
              "\n",
              "        async function convertToInteractive(key) {\n",
              "          const element = document.querySelector('#df-a9d6c0d6-e5c6-4759-bf68-18833d5f37a4');\n",
              "          const dataTable =\n",
              "            await google.colab.kernel.invokeFunction('convertToInteractive',\n",
              "                                                     [key], {});\n",
              "          if (!dataTable) return;\n",
              "\n",
              "          const docLinkHtml = 'Like what you see? Visit the ' +\n",
              "            '<a target=\"_blank\" href=https://colab.research.google.com/notebooks/data_table.ipynb>data table notebook</a>'\n",
              "            + ' to learn more about interactive tables.';\n",
              "          element.innerHTML = '';\n",
              "          dataTable['output_type'] = 'display_data';\n",
              "          await google.colab.output.renderOutput(dataTable, element);\n",
              "          const docLink = document.createElement('div');\n",
              "          docLink.innerHTML = docLinkHtml;\n",
              "          element.appendChild(docLink);\n",
              "        }\n",
              "      </script>\n",
              "    </div>\n",
              "  </div>\n",
              "  "
            ]
          },
          "metadata": {},
          "execution_count": 2
        }
      ],
      "source": [
        "# reading  final dataset\n",
        "data = pd.read_csv(\"indianspam.csv\")\n",
        "data.head()"
      ]
    },
    {
      "cell_type": "code",
      "execution_count": null,
      "metadata": {
        "colab": {
          "base_uri": "https://localhost:8080/"
        },
        "id": "8xb5vXvxbcre",
        "outputId": "e3e7c9ce-a16d-4231-d49d-c3918c505d15"
      },
      "outputs": [
        {
          "output_type": "execute_result",
          "data": {
            "text/plain": [
              "(2000, 2)"
            ]
          },
          "metadata": {},
          "execution_count": 3
        }
      ],
      "source": [
        "data.shape"
      ]
    },
    {
      "cell_type": "code",
      "execution_count": null,
      "metadata": {
        "colab": {
          "base_uri": "https://localhost:8080/"
        },
        "id": "kxWLSExpbkCe",
        "outputId": "880108cb-e575-44f4-9c4b-7ed3de272fd5"
      },
      "outputs": [
        {
          "output_type": "execute_result",
          "data": {
            "text/plain": [
              "Index(['v1', 'v2'], dtype='object')"
            ]
          },
          "metadata": {},
          "execution_count": 4
        }
      ],
      "source": [
        "data.columns"
      ]
    },
    {
      "cell_type": "code",
      "execution_count": null,
      "metadata": {
        "colab": {
          "base_uri": "https://localhost:8080/"
        },
        "id": "12rHCWDxbnLF",
        "outputId": "7432c612-3095-47df-b67d-4c4517bf0c85"
      },
      "outputs": [
        {
          "output_type": "stream",
          "name": "stdout",
          "text": [
            "<class 'pandas.core.frame.DataFrame'>\n",
            "RangeIndex: 2000 entries, 0 to 1999\n",
            "Data columns (total 2 columns):\n",
            " #   Column  Non-Null Count  Dtype \n",
            "---  ------  --------------  ----- \n",
            " 0   v1      2000 non-null   object\n",
            " 1   v2      2000 non-null   object\n",
            "dtypes: object(2)\n",
            "memory usage: 31.4+ KB\n"
          ]
        }
      ],
      "source": [
        "data.info()"
      ]
    },
    {
      "cell_type": "code",
      "execution_count": null,
      "metadata": {
        "colab": {
          "base_uri": "https://localhost:8080/",
          "height": 206
        },
        "id": "yRqD8k7jASww",
        "outputId": "d6155c3b-1cd5-48e0-fd33-42c7330e6468"
      },
      "outputs": [
        {
          "output_type": "execute_result",
          "data": {
            "text/plain": [
              "  target                                               text\n",
              "0    ham    zyada itrao mat . english meko bi aati hai :-P \n",
              "1    ham  is ajnbi dunia me akle 1 khwab hu  swalon se k...\n",
              "2    ham  Husband n wife were opening joint bank ac Husb...\n",
              "3    ham  Husband Suhag raat pe- Tum ne kabhi Blue Film ...\n",
              "4    ham  indagi me 5 cheez kabhi bhi aa sakti h 'Hum' '..."
            ],
            "text/html": [
              "\n",
              "  <div id=\"df-2d3a4398-3126-4c9f-8fed-43207e1bf385\">\n",
              "    <div class=\"colab-df-container\">\n",
              "      <div>\n",
              "<style scoped>\n",
              "    .dataframe tbody tr th:only-of-type {\n",
              "        vertical-align: middle;\n",
              "    }\n",
              "\n",
              "    .dataframe tbody tr th {\n",
              "        vertical-align: top;\n",
              "    }\n",
              "\n",
              "    .dataframe thead th {\n",
              "        text-align: right;\n",
              "    }\n",
              "</style>\n",
              "<table border=\"1\" class=\"dataframe\">\n",
              "  <thead>\n",
              "    <tr style=\"text-align: right;\">\n",
              "      <th></th>\n",
              "      <th>target</th>\n",
              "      <th>text</th>\n",
              "    </tr>\n",
              "  </thead>\n",
              "  <tbody>\n",
              "    <tr>\n",
              "      <th>0</th>\n",
              "      <td>ham</td>\n",
              "      <td>zyada itrao mat . english meko bi aati hai :-P</td>\n",
              "    </tr>\n",
              "    <tr>\n",
              "      <th>1</th>\n",
              "      <td>ham</td>\n",
              "      <td>is ajnbi dunia me akle 1 khwab hu  swalon se k...</td>\n",
              "    </tr>\n",
              "    <tr>\n",
              "      <th>2</th>\n",
              "      <td>ham</td>\n",
              "      <td>Husband n wife were opening joint bank ac Husb...</td>\n",
              "    </tr>\n",
              "    <tr>\n",
              "      <th>3</th>\n",
              "      <td>ham</td>\n",
              "      <td>Husband Suhag raat pe- Tum ne kabhi Blue Film ...</td>\n",
              "    </tr>\n",
              "    <tr>\n",
              "      <th>4</th>\n",
              "      <td>ham</td>\n",
              "      <td>indagi me 5 cheez kabhi bhi aa sakti h 'Hum' '...</td>\n",
              "    </tr>\n",
              "  </tbody>\n",
              "</table>\n",
              "</div>\n",
              "      <button class=\"colab-df-convert\" onclick=\"convertToInteractive('df-2d3a4398-3126-4c9f-8fed-43207e1bf385')\"\n",
              "              title=\"Convert this dataframe to an interactive table.\"\n",
              "              style=\"display:none;\">\n",
              "        \n",
              "  <svg xmlns=\"http://www.w3.org/2000/svg\" height=\"24px\"viewBox=\"0 0 24 24\"\n",
              "       width=\"24px\">\n",
              "    <path d=\"M0 0h24v24H0V0z\" fill=\"none\"/>\n",
              "    <path d=\"M18.56 5.44l.94 2.06.94-2.06 2.06-.94-2.06-.94-.94-2.06-.94 2.06-2.06.94zm-11 1L8.5 8.5l.94-2.06 2.06-.94-2.06-.94L8.5 2.5l-.94 2.06-2.06.94zm10 10l.94 2.06.94-2.06 2.06-.94-2.06-.94-.94-2.06-.94 2.06-2.06.94z\"/><path d=\"M17.41 7.96l-1.37-1.37c-.4-.4-.92-.59-1.43-.59-.52 0-1.04.2-1.43.59L10.3 9.45l-7.72 7.72c-.78.78-.78 2.05 0 2.83L4 21.41c.39.39.9.59 1.41.59.51 0 1.02-.2 1.41-.59l7.78-7.78 2.81-2.81c.8-.78.8-2.07 0-2.86zM5.41 20L4 18.59l7.72-7.72 1.47 1.35L5.41 20z\"/>\n",
              "  </svg>\n",
              "      </button>\n",
              "      \n",
              "  <style>\n",
              "    .colab-df-container {\n",
              "      display:flex;\n",
              "      flex-wrap:wrap;\n",
              "      gap: 12px;\n",
              "    }\n",
              "\n",
              "    .colab-df-convert {\n",
              "      background-color: #E8F0FE;\n",
              "      border: none;\n",
              "      border-radius: 50%;\n",
              "      cursor: pointer;\n",
              "      display: none;\n",
              "      fill: #1967D2;\n",
              "      height: 32px;\n",
              "      padding: 0 0 0 0;\n",
              "      width: 32px;\n",
              "    }\n",
              "\n",
              "    .colab-df-convert:hover {\n",
              "      background-color: #E2EBFA;\n",
              "      box-shadow: 0px 1px 2px rgba(60, 64, 67, 0.3), 0px 1px 3px 1px rgba(60, 64, 67, 0.15);\n",
              "      fill: #174EA6;\n",
              "    }\n",
              "\n",
              "    [theme=dark] .colab-df-convert {\n",
              "      background-color: #3B4455;\n",
              "      fill: #D2E3FC;\n",
              "    }\n",
              "\n",
              "    [theme=dark] .colab-df-convert:hover {\n",
              "      background-color: #434B5C;\n",
              "      box-shadow: 0px 1px 3px 1px rgba(0, 0, 0, 0.15);\n",
              "      filter: drop-shadow(0px 1px 2px rgba(0, 0, 0, 0.3));\n",
              "      fill: #FFFFFF;\n",
              "    }\n",
              "  </style>\n",
              "\n",
              "      <script>\n",
              "        const buttonEl =\n",
              "          document.querySelector('#df-2d3a4398-3126-4c9f-8fed-43207e1bf385 button.colab-df-convert');\n",
              "        buttonEl.style.display =\n",
              "          google.colab.kernel.accessAllowed ? 'block' : 'none';\n",
              "\n",
              "        async function convertToInteractive(key) {\n",
              "          const element = document.querySelector('#df-2d3a4398-3126-4c9f-8fed-43207e1bf385');\n",
              "          const dataTable =\n",
              "            await google.colab.kernel.invokeFunction('convertToInteractive',\n",
              "                                                     [key], {});\n",
              "          if (!dataTable) return;\n",
              "\n",
              "          const docLinkHtml = 'Like what you see? Visit the ' +\n",
              "            '<a target=\"_blank\" href=https://colab.research.google.com/notebooks/data_table.ipynb>data table notebook</a>'\n",
              "            + ' to learn more about interactive tables.';\n",
              "          element.innerHTML = '';\n",
              "          dataTable['output_type'] = 'display_data';\n",
              "          await google.colab.output.renderOutput(dataTable, element);\n",
              "          const docLink = document.createElement('div');\n",
              "          docLink.innerHTML = docLinkHtml;\n",
              "          element.appendChild(docLink);\n",
              "        }\n",
              "      </script>\n",
              "    </div>\n",
              "  </div>\n",
              "  "
            ]
          },
          "metadata": {},
          "execution_count": 6
        }
      ],
      "source": [
        "# Renaming Columns\n",
        "data.rename(columns = {'v1':'target', 'v2':'text'}, inplace = True)\n",
        "data.head()"
      ]
    },
    {
      "cell_type": "code",
      "source": [
        "# converting target variable into a Binary type( 0 and 1)\n",
        "# converting spam --> 1 and Ham --> 0\n",
        "from sklearn.preprocessing import LabelEncoder\n",
        "encoder = LabelEncoder()\n",
        "data['target']=encoder.fit_transform(data['target'])"
      ],
      "metadata": {
        "id": "ZzxbdfTxixLI"
      },
      "execution_count": null,
      "outputs": []
    },
    {
      "cell_type": "code",
      "source": [
        "# Pie Chart for class distribution\n",
        "explode = (0,0.13) \n",
        "plt.pie(data['target'].value_counts(), labels=['Ham labels','Spam labels'],autopct=\"%0.2f\",radius = 2, explode = explode)\n",
        "plt.show()"
      ],
      "metadata": {
        "id": "wHlbk-b9i88W",
        "outputId": "3550bfd9-7fc9-4a6d-991e-382217c3c880",
        "colab": {
          "base_uri": "https://localhost:8080/",
          "height": 435
        }
      },
      "execution_count": null,
      "outputs": [
        {
          "output_type": "display_data",
          "data": {
            "text/plain": [
              "<Figure size 432x288 with 1 Axes>"
            ],
            "image/png": "[encoded data removed]"
          },
          "metadata": {}
        }
      ]
    },
    {
      "cell_type": "code",
      "execution_count": null,
      "metadata": {
        "colab": {
          "base_uri": "https://localhost:8080/"
        },
        "id": "reOYwN-9dcw2",
        "outputId": "a06839a9-0fe7-4a2f-aac9-b12b38ed3ac8"
      },
      "outputs": [
        {
          "output_type": "execute_result",
          "data": {
            "text/plain": [
              "target    0\n",
              "text      0\n",
              "dtype: int64"
            ]
          },
          "metadata": {},
          "execution_count": 9
        }
      ],
      "source": [
        "# Checking for null values\n",
        "data.isnull().sum()"
      ]
    },
    {
      "cell_type": "code",
      "execution_count": null,
      "metadata": {
        "colab": {
          "base_uri": "https://localhost:8080/"
        },
        "id": "jPEt387Bdhjl",
        "outputId": "8fb1dd16-eb31-46c0-ce64-d0a3126652e5"
      },
      "outputs": [
        {
          "output_type": "stream",
          "name": "stdout",
          "text": [
            "1\n"
          ]
        }
      ],
      "source": [
        "# Checking for the duplicated values\n",
        "print(data.duplicated().sum())"
      ]
    },
    {
      "cell_type": "code",
      "execution_count": null,
      "metadata": {
        "colab": {
          "base_uri": "https://localhost:8080/"
        },
        "id": "ho4oKjRvfR68",
        "outputId": "0a36041c-b08e-4d1c-abc3-4728b5e0ae94"
      },
      "outputs": [
        {
          "output_type": "execute_result",
          "data": {
            "text/plain": [
              "1"
            ]
          },
          "metadata": {},
          "execution_count": 11
        }
      ],
      "source": [
        "# Rechecking any duplicate rows after removing duplicates from the dataset\n",
        "data.duplicated().sum()"
      ]
    },
    {
      "cell_type": "code",
      "execution_count": null,
      "metadata": {
        "id": "aYkR6Jm6fOUN"
      },
      "outputs": [],
      "source": [
        "# Removing duplicates rows from the dataset\n",
        "data = data.drop_duplicates(keep='first')"
      ]
    },
    {
      "cell_type": "code",
      "execution_count": null,
      "metadata": {
        "colab": {
          "base_uri": "https://localhost:8080/"
        },
        "id": "S-BL274PfXdl",
        "outputId": "c4b45d3a-f45a-478f-944d-7db2f8f99bcb"
      },
      "outputs": [
        {
          "output_type": "execute_result",
          "data": {
            "text/plain": [
              "(1999, 2)"
            ]
          },
          "metadata": {},
          "execution_count": 13
        }
      ],
      "source": [
        "# Shape of the dataset after removing dupliactes rows\n",
        "data.shape"
      ]
    },
    {
      "cell_type": "code",
      "execution_count": null,
      "metadata": {
        "colab": {
          "base_uri": "https://localhost:8080/",
          "height": 143
        },
        "id": "4_BofxKhfgIn",
        "outputId": "1a0c0409-90bd-4c31-e8a8-04e110ed853f"
      },
      "outputs": [
        {
          "output_type": "execute_result",
          "data": {
            "text/plain": [
              "   target                                               text  length\n",
              "0       0    zyada itrao mat . english meko bi aati hai :-P       47\n",
              "1       0  is ajnbi dunia me akle 1 khwab hu  swalon se k...     159\n",
              "2       0  Husband n wife were opening joint bank ac Husb...     159"
            ],
            "text/html": [
              "\n",
              "  <div id=\"df-dd4f983c-d273-4ac6-bda4-2504fce5137b\">\n",
              "    <div class=\"colab-df-container\">\n",
              "      <div>\n",
              "<style scoped>\n",
              "    .dataframe tbody tr th:only-of-type {\n",
              "        vertical-align: middle;\n",
              "    }\n",
              "\n",
              "    .dataframe tbody tr th {\n",
              "        vertical-align: top;\n",
              "    }\n",
              "\n",
              "    .dataframe thead th {\n",
              "        text-align: right;\n",
              "    }\n",
              "</style>\n",
              "<table border=\"1\" class=\"dataframe\">\n",
              "  <thead>\n",
              "    <tr style=\"text-align: right;\">\n",
              "      <th></th>\n",
              "      <th>target</th>\n",
              "      <th>text</th>\n",
              "      <th>length</th>\n",
              "    </tr>\n",
              "  </thead>\n",
              "  <tbody>\n",
              "    <tr>\n",
              "      <th>0</th>\n",
              "      <td>0</td>\n",
              "      <td>zyada itrao mat . english meko bi aati hai :-P</td>\n",
              "      <td>47</td>\n",
              "    </tr>\n",
              "    <tr>\n",
              "      <th>1</th>\n",
              "      <td>0</td>\n",
              "      <td>is ajnbi dunia me akle 1 khwab hu  swalon se k...</td>\n",
              "      <td>159</td>\n",
              "    </tr>\n",
              "    <tr>\n",
              "      <th>2</th>\n",
              "      <td>0</td>\n",
              "      <td>Husband n wife were opening joint bank ac Husb...</td>\n",
              "      <td>159</td>\n",
              "    </tr>\n",
              "  </tbody>\n",
              "</table>\n",
              "</div>\n",
              "      <button class=\"colab-df-convert\" onclick=\"convertToInteractive('df-dd4f983c-d273-4ac6-bda4-2504fce5137b')\"\n",
              "              title=\"Convert this dataframe to an interactive table.\"\n",
              "              style=\"display:none;\">\n",
              "        \n",
              "  <svg xmlns=\"http://www.w3.org/2000/svg\" height=\"24px\"viewBox=\"0 0 24 24\"\n",
              "       width=\"24px\">\n",
              "    <path d=\"M0 0h24v24H0V0z\" fill=\"none\"/>\n",
              "    <path d=\"M18.56 5.44l.94 2.06.94-2.06 2.06-.94-2.06-.94-.94-2.06-.94 2.06-2.06.94zm-11 1L8.5 8.5l.94-2.06 2.06-.94-2.06-.94L8.5 2.5l-.94 2.06-2.06.94zm10 10l.94 2.06.94-2.06 2.06-.94-2.06-.94-.94-2.06-.94 2.06-2.06.94z\"/><path d=\"M17.41 7.96l-1.37-1.37c-.4-.4-.92-.59-1.43-.59-.52 0-1.04.2-1.43.59L10.3 9.45l-7.72 7.72c-.78.78-.78 2.05 0 2.83L4 21.41c.39.39.9.59 1.41.59.51 0 1.02-.2 1.41-.59l7.78-7.78 2.81-2.81c.8-.78.8-2.07 0-2.86zM5.41 20L4 18.59l7.72-7.72 1.47 1.35L5.41 20z\"/>\n",
              "  </svg>\n",
              "      </button>\n",
              "      \n",
              "  <style>\n",
              "    .colab-df-container {\n",
              "      display:flex;\n",
              "      flex-wrap:wrap;\n",
              "      gap: 12px;\n",
              "    }\n",
              "\n",
              "    .colab-df-convert {\n",
              "      background-color: #E8F0FE;\n",
              "      border: none;\n",
              "      border-radius: 50%;\n",
              "      cursor: pointer;\n",
              "      display: none;\n",
              "      fill: #1967D2;\n",
              "      height: 32px;\n",
              "      padding: 0 0 0 0;\n",
              "      width: 32px;\n",
              "    }\n",
              "\n",
              "    .colab-df-convert:hover {\n",
              "      background-color: #E2EBFA;\n",
              "      box-shadow: 0px 1px 2px rgba(60, 64, 67, 0.3), 0px 1px 3px 1px rgba(60, 64, 67, 0.15);\n",
              "      fill: #174EA6;\n",
              "    }\n",
              "\n",
              "    [theme=dark] .colab-df-convert {\n",
              "      background-color: #3B4455;\n",
              "      fill: #D2E3FC;\n",
              "    }\n",
              "\n",
              "    [theme=dark] .colab-df-convert:hover {\n",
              "      background-color: #434B5C;\n",
              "      box-shadow: 0px 1px 3px 1px rgba(0, 0, 0, 0.15);\n",
              "      filter: drop-shadow(0px 1px 2px rgba(0, 0, 0, 0.3));\n",
              "      fill: #FFFFFF;\n",
              "    }\n",
              "  </style>\n",
              "\n",
              "      <script>\n",
              "        const buttonEl =\n",
              "          document.querySelector('#df-dd4f983c-d273-4ac6-bda4-2504fce5137b button.colab-df-convert');\n",
              "        buttonEl.style.display =\n",
              "          google.colab.kernel.accessAllowed ? 'block' : 'none';\n",
              "\n",
              "        async function convertToInteractive(key) {\n",
              "          const element = document.querySelector('#df-dd4f983c-d273-4ac6-bda4-2504fce5137b');\n",
              "          const dataTable =\n",
              "            await google.colab.kernel.invokeFunction('convertToInteractive',\n",
              "                                                     [key], {});\n",
              "          if (!dataTable) return;\n",
              "\n",
              "          const docLinkHtml = 'Like what you see? Visit the ' +\n",
              "            '<a target=\"_blank\" href=https://colab.research.google.com/notebooks/data_table.ipynb>data table notebook</a>'\n",
              "            + ' to learn more about interactive tables.';\n",
              "          element.innerHTML = '';\n",
              "          dataTable['output_type'] = 'display_data';\n",
              "          await google.colab.output.renderOutput(dataTable, element);\n",
              "          const docLink = document.createElement('div');\n",
              "          docLink.innerHTML = docLinkHtml;\n",
              "          element.appendChild(docLink);\n",
              "        }\n",
              "      </script>\n",
              "    </div>\n",
              "  </div>\n",
              "  "
            ]
          },
          "metadata": {},
          "execution_count": 14
        }
      ],
      "source": [
        "# Adding a new column to the dataset length (character length)\n",
        "data['length'] = data['text'].apply(len)\n",
        "data.head(3)"
      ]
    },
    {
      "cell_type": "code",
      "execution_count": null,
      "metadata": {
        "colab": {
          "base_uri": "https://localhost:8080/",
          "height": 206
        },
        "id": "3Iqtg_aFfobn",
        "outputId": "a0e86222-0ee8-44db-d522-4a642c0f67ee"
      },
      "outputs": [
        {
          "output_type": "execute_result",
          "data": {
            "text/plain": [
              "   target                                               text  length  \\\n",
              "0       0    zyada itrao mat . english meko bi aati hai :-P       47   \n",
              "1       0  is ajnbi dunia me akle 1 khwab hu  swalon se k...     159   \n",
              "2       0  Husband n wife were opening joint bank ac Husb...     159   \n",
              "3       0  Husband Suhag raat pe- Tum ne kabhi Blue Film ...     161   \n",
              "4       0  indagi me 5 cheez kabhi bhi aa sakti h 'Hum' '...     137   \n",
              "\n",
              "   word_count  \n",
              "0          11  \n",
              "1          38  \n",
              "2          26  \n",
              "3          34  \n",
              "4          35  "
            ],
            "text/html": [
              "\n",
              "  <div id=\"df-1519c5a0-4aed-4e9f-922a-e6e8ca0b4787\">\n",
              "    <div class=\"colab-df-container\">\n",
              "      <div>\n",
              "<style scoped>\n",
              "    .dataframe tbody tr th:only-of-type {\n",
              "        vertical-align: middle;\n",
              "    }\n",
              "\n",
              "    .dataframe tbody tr th {\n",
              "        vertical-align: top;\n",
              "    }\n",
              "\n",
              "    .dataframe thead th {\n",
              "        text-align: right;\n",
              "    }\n",
              "</style>\n",
              "<table border=\"1\" class=\"dataframe\">\n",
              "  <thead>\n",
              "    <tr style=\"text-align: right;\">\n",
              "      <th></th>\n",
              "      <th>target</th>\n",
              "      <th>text</th>\n",
              "      <th>length</th>\n",
              "      <th>word_count</th>\n",
              "    </tr>\n",
              "  </thead>\n",
              "  <tbody>\n",
              "    <tr>\n",
              "      <th>0</th>\n",
              "      <td>0</td>\n",
              "      <td>zyada itrao mat . english meko bi aati hai :-P</td>\n",
              "      <td>47</td>\n",
              "      <td>11</td>\n",
              "    </tr>\n",
              "    <tr>\n",
              "      <th>1</th>\n",
              "      <td>0</td>\n",
              "      <td>is ajnbi dunia me akle 1 khwab hu  swalon se k...</td>\n",
              "      <td>159</td>\n",
              "      <td>38</td>\n",
              "    </tr>\n",
              "    <tr>\n",
              "      <th>2</th>\n",
              "      <td>0</td>\n",
              "      <td>Husband n wife were opening joint bank ac Husb...</td>\n",
              "      <td>159</td>\n",
              "      <td>26</td>\n",
              "    </tr>\n",
              "    <tr>\n",
              "      <th>3</th>\n",
              "      <td>0</td>\n",
              "      <td>Husband Suhag raat pe- Tum ne kabhi Blue Film ...</td>\n",
              "      <td>161</td>\n",
              "      <td>34</td>\n",
              "    </tr>\n",
              "    <tr>\n",
              "      <th>4</th>\n",
              "      <td>0</td>\n",
              "      <td>indagi me 5 cheez kabhi bhi aa sakti h 'Hum' '...</td>\n",
              "      <td>137</td>\n",
              "      <td>35</td>\n",
              "    </tr>\n",
              "  </tbody>\n",
              "</table>\n",
              "</div>\n",
              "      <button class=\"colab-df-convert\" onclick=\"convertToInteractive('df-1519c5a0-4aed-4e9f-922a-e6e8ca0b4787')\"\n",
              "              title=\"Convert this dataframe to an interactive table.\"\n",
              "              style=\"display:none;\">\n",
              "        \n",
              "  <svg xmlns=\"http://www.w3.org/2000/svg\" height=\"24px\"viewBox=\"0 0 24 24\"\n",
              "       width=\"24px\">\n",
              "    <path d=\"M0 0h24v24H0V0z\" fill=\"none\"/>\n",
              "    <path d=\"M18.56 5.44l.94 2.06.94-2.06 2.06-.94-2.06-.94-.94-2.06-.94 2.06-2.06.94zm-11 1L8.5 8.5l.94-2.06 2.06-.94-2.06-.94L8.5 2.5l-.94 2.06-2.06.94zm10 10l.94 2.06.94-2.06 2.06-.94-2.06-.94-.94-2.06-.94 2.06-2.06.94z\"/><path d=\"M17.41 7.96l-1.37-1.37c-.4-.4-.92-.59-1.43-.59-.52 0-1.04.2-1.43.59L10.3 9.45l-7.72 7.72c-.78.78-.78 2.05 0 2.83L4 21.41c.39.39.9.59 1.41.59.51 0 1.02-.2 1.41-.59l7.78-7.78 2.81-2.81c.8-.78.8-2.07 0-2.86zM5.41 20L4 18.59l7.72-7.72 1.47 1.35L5.41 20z\"/>\n",
              "  </svg>\n",
              "      </button>\n",
              "      \n",
              "  <style>\n",
              "    .colab-df-container {\n",
              "      display:flex;\n",
              "      flex-wrap:wrap;\n",
              "      gap: 12px;\n",
              "    }\n",
              "\n",
              "    .colab-df-convert {\n",
              "      background-color: #E8F0FE;\n",
              "      border: none;\n",
              "      border-radius: 50%;\n",
              "      cursor: pointer;\n",
              "      display: none;\n",
              "      fill: #1967D2;\n",
              "      height: 32px;\n",
              "      padding: 0 0 0 0;\n",
              "      width: 32px;\n",
              "    }\n",
              "\n",
              "    .colab-df-convert:hover {\n",
              "      background-color: #E2EBFA;\n",
              "      box-shadow: 0px 1px 2px rgba(60, 64, 67, 0.3), 0px 1px 3px 1px rgba(60, 64, 67, 0.15);\n",
              "      fill: #174EA6;\n",
              "    }\n",
              "\n",
              "    [theme=dark] .colab-df-convert {\n",
              "      background-color: #3B4455;\n",
              "      fill: #D2E3FC;\n",
              "    }\n",
              "\n",
              "    [theme=dark] .colab-df-convert:hover {\n",
              "      background-color: #434B5C;\n",
              "      box-shadow: 0px 1px 3px 1px rgba(0, 0, 0, 0.15);\n",
              "      filter: drop-shadow(0px 1px 2px rgba(0, 0, 0, 0.3));\n",
              "      fill: #FFFFFF;\n",
              "    }\n",
              "  </style>\n",
              "\n",
              "      <script>\n",
              "        const buttonEl =\n",
              "          document.querySelector('#df-1519c5a0-4aed-4e9f-922a-e6e8ca0b4787 button.colab-df-convert');\n",
              "        buttonEl.style.display =\n",
              "          google.colab.kernel.accessAllowed ? 'block' : 'none';\n",
              "\n",
              "        async function convertToInteractive(key) {\n",
              "          const element = document.querySelector('#df-1519c5a0-4aed-4e9f-922a-e6e8ca0b4787');\n",
              "          const dataTable =\n",
              "            await google.colab.kernel.invokeFunction('convertToInteractive',\n",
              "                                                     [key], {});\n",
              "          if (!dataTable) return;\n",
              "\n",
              "          const docLinkHtml = 'Like what you see? Visit the ' +\n",
              "            '<a target=\"_blank\" href=https://colab.research.google.com/notebooks/data_table.ipynb>data table notebook</a>'\n",
              "            + ' to learn more about interactive tables.';\n",
              "          element.innerHTML = '';\n",
              "          dataTable['output_type'] = 'display_data';\n",
              "          await google.colab.output.renderOutput(dataTable, element);\n",
              "          const docLink = document.createElement('div');\n",
              "          docLink.innerHTML = docLinkHtml;\n",
              "          element.appendChild(docLink);\n",
              "        }\n",
              "      </script>\n",
              "    </div>\n",
              "  </div>\n",
              "  "
            ]
          },
          "metadata": {},
          "execution_count": 15
        }
      ],
      "source": [
        "# Adding a new column word count\n",
        "data['word_count'] = data['text'].apply((lambda x:len(nltk.word_tokenize(x))))\n",
        "data.head()"
      ]
    },
    {
      "cell_type": "code",
      "execution_count": null,
      "metadata": {
        "colab": {
          "base_uri": "https://localhost:8080/",
          "height": 206
        },
        "id": "ZcjN3Q5knqcY",
        "outputId": "de4584e0-16c1-47a9-c097-5a383324c154"
      },
      "outputs": [
        {
          "output_type": "execute_result",
          "data": {
            "text/plain": [
              "   target                                               text  length  \\\n",
              "0       0    zyada itrao mat . english meko bi aati hai :-P       47   \n",
              "1       0  is ajnbi dunia me akle 1 khwab hu  swalon se k...     159   \n",
              "2       0  Husband n wife were opening joint bank ac Husb...     159   \n",
              "3       0  Husband Suhag raat pe- Tum ne kabhi Blue Film ...     161   \n",
              "4       0  indagi me 5 cheez kabhi bhi aa sakti h 'Hum' '...     137   \n",
              "\n",
              "   word_count  sentence_count  \n",
              "0          11               2  \n",
              "1          38               2  \n",
              "2          26               1  \n",
              "3          34               4  \n",
              "4          35               1  "
            ],
            "text/html": [
              "\n",
              "  <div id=\"df-85c2df9a-fc49-4b48-a417-bfeedb7e609f\">\n",
              "    <div class=\"colab-df-container\">\n",
              "      <div>\n",
              "<style scoped>\n",
              "    .dataframe tbody tr th:only-of-type {\n",
              "        vertical-align: middle;\n",
              "    }\n",
              "\n",
              "    .dataframe tbody tr th {\n",
              "        vertical-align: top;\n",
              "    }\n",
              "\n",
              "    .dataframe thead th {\n",
              "        text-align: right;\n",
              "    }\n",
              "</style>\n",
              "<table border=\"1\" class=\"dataframe\">\n",
              "  <thead>\n",
              "    <tr style=\"text-align: right;\">\n",
              "      <th></th>\n",
              "      <th>target</th>\n",
              "      <th>text</th>\n",
              "      <th>length</th>\n",
              "      <th>word_count</th>\n",
              "      <th>sentence_count</th>\n",
              "    </tr>\n",
              "  </thead>\n",
              "  <tbody>\n",
              "    <tr>\n",
              "      <th>0</th>\n",
              "      <td>0</td>\n",
              "      <td>zyada itrao mat . english meko bi aati hai :-P</td>\n",
              "      <td>47</td>\n",
              "      <td>11</td>\n",
              "      <td>2</td>\n",
              "    </tr>\n",
              "    <tr>\n",
              "      <th>1</th>\n",
              "      <td>0</td>\n",
              "      <td>is ajnbi dunia me akle 1 khwab hu  swalon se k...</td>\n",
              "      <td>159</td>\n",
              "      <td>38</td>\n",
              "      <td>2</td>\n",
              "    </tr>\n",
              "    <tr>\n",
              "      <th>2</th>\n",
              "      <td>0</td>\n",
              "      <td>Husband n wife were opening joint bank ac Husb...</td>\n",
              "      <td>159</td>\n",
              "      <td>26</td>\n",
              "      <td>1</td>\n",
              "    </tr>\n",
              "    <tr>\n",
              "      <th>3</th>\n",
              "      <td>0</td>\n",
              "      <td>Husband Suhag raat pe- Tum ne kabhi Blue Film ...</td>\n",
              "      <td>161</td>\n",
              "      <td>34</td>\n",
              "      <td>4</td>\n",
              "    </tr>\n",
              "    <tr>\n",
              "      <th>4</th>\n",
              "      <td>0</td>\n",
              "      <td>indagi me 5 cheez kabhi bhi aa sakti h 'Hum' '...</td>\n",
              "      <td>137</td>\n",
              "      <td>35</td>\n",
              "      <td>1</td>\n",
              "    </tr>\n",
              "  </tbody>\n",
              "</table>\n",
              "</div>\n",
              "      <button class=\"colab-df-convert\" onclick=\"convertToInteractive('df-85c2df9a-fc49-4b48-a417-bfeedb7e609f')\"\n",
              "              title=\"Convert this dataframe to an interactive table.\"\n",
              "              style=\"display:none;\">\n",
              "        \n",
              "  <svg xmlns=\"http://www.w3.org/2000/svg\" height=\"24px\"viewBox=\"0 0 24 24\"\n",
              "       width=\"24px\">\n",
              "    <path d=\"M0 0h24v24H0V0z\" fill=\"none\"/>\n",
              "    <path d=\"M18.56 5.44l.94 2.06.94-2.06 2.06-.94-2.06-.94-.94-2.06-.94 2.06-2.06.94zm-11 1L8.5 8.5l.94-2.06 2.06-.94-2.06-.94L8.5 2.5l-.94 2.06-2.06.94zm10 10l.94 2.06.94-2.06 2.06-.94-2.06-.94-.94-2.06-.94 2.06-2.06.94z\"/><path d=\"M17.41 7.96l-1.37-1.37c-.4-.4-.92-.59-1.43-.59-.52 0-1.04.2-1.43.59L10.3 9.45l-7.72 7.72c-.78.78-.78 2.05 0 2.83L4 21.41c.39.39.9.59 1.41.59.51 0 1.02-.2 1.41-.59l7.78-7.78 2.81-2.81c.8-.78.8-2.07 0-2.86zM5.41 20L4 18.59l7.72-7.72 1.47 1.35L5.41 20z\"/>\n",
              "  </svg>\n",
              "      </button>\n",
              "      \n",
              "  <style>\n",
              "    .colab-df-container {\n",
              "      display:flex;\n",
              "      flex-wrap:wrap;\n",
              "      gap: 12px;\n",
              "    }\n",
              "\n",
              "    .colab-df-convert {\n",
              "      background-color: #E8F0FE;\n",
              "      border: none;\n",
              "      border-radius: 50%;\n",
              "      cursor: pointer;\n",
              "      display: none;\n",
              "      fill: #1967D2;\n",
              "      height: 32px;\n",
              "      padding: 0 0 0 0;\n",
              "      width: 32px;\n",
              "    }\n",
              "\n",
              "    .colab-df-convert:hover {\n",
              "      background-color: #E2EBFA;\n",
              "      box-shadow: 0px 1px 2px rgba(60, 64, 67, 0.3), 0px 1px 3px 1px rgba(60, 64, 67, 0.15);\n",
              "      fill: #174EA6;\n",
              "    }\n",
              "\n",
              "    [theme=dark] .colab-df-convert {\n",
              "      background-color: #3B4455;\n",
              "      fill: #D2E3FC;\n",
              "    }\n",
              "\n",
              "    [theme=dark] .colab-df-convert:hover {\n",
              "      background-color: #434B5C;\n",
              "      box-shadow: 0px 1px 3px 1px rgba(0, 0, 0, 0.15);\n",
              "      filter: drop-shadow(0px 1px 2px rgba(0, 0, 0, 0.3));\n",
              "      fill: #FFFFFF;\n",
              "    }\n",
              "  </style>\n",
              "\n",
              "      <script>\n",
              "        const buttonEl =\n",
              "          document.querySelector('#df-85c2df9a-fc49-4b48-a417-bfeedb7e609f button.colab-df-convert');\n",
              "        buttonEl.style.display =\n",
              "          google.colab.kernel.accessAllowed ? 'block' : 'none';\n",
              "\n",
              "        async function convertToInteractive(key) {\n",
              "          const element = document.querySelector('#df-85c2df9a-fc49-4b48-a417-bfeedb7e609f');\n",
              "          const dataTable =\n",
              "            await google.colab.kernel.invokeFunction('convertToInteractive',\n",
              "                                                     [key], {});\n",
              "          if (!dataTable) return;\n",
              "\n",
              "          const docLinkHtml = 'Like what you see? Visit the ' +\n",
              "            '<a target=\"_blank\" href=https://colab.research.google.com/notebooks/data_table.ipynb>data table notebook</a>'\n",
              "            + ' to learn more about interactive tables.';\n",
              "          element.innerHTML = '';\n",
              "          dataTable['output_type'] = 'display_data';\n",
              "          await google.colab.output.renderOutput(dataTable, element);\n",
              "          const docLink = document.createElement('div');\n",
              "          docLink.innerHTML = docLinkHtml;\n",
              "          element.appendChild(docLink);\n",
              "        }\n",
              "      </script>\n",
              "    </div>\n",
              "  </div>\n",
              "  "
            ]
          },
          "metadata": {},
          "execution_count": 16
        }
      ],
      "source": [
        "# Adding a new column sentence length\n",
        "data['sentence_count'] = data['text'].apply((lambda x:len(nltk.sent_tokenize(x))))\n",
        "data.head()"
      ]
    },
    {
      "cell_type": "code",
      "execution_count": null,
      "metadata": {
        "colab": {
          "base_uri": "https://localhost:8080/",
          "height": 206
        },
        "id": "vZin0r9Knxvo",
        "outputId": "574370d5-27d1-439b-ed57-5062885bfd71"
      },
      "outputs": [
        {
          "output_type": "execute_result",
          "data": {
            "text/plain": [
              "   target                                               text  length  \\\n",
              "0       0    zyada itrao mat . english meko bi aati hai :-P       47   \n",
              "1       0  is ajnbi dunia me akle 1 khwab hu  swalon se k...     159   \n",
              "2       0  Husband n wife were opening joint bank ac Husb...     159   \n",
              "3       0  Husband Suhag raat pe- Tum ne kabhi Blue Film ...     161   \n",
              "4       0  indagi me 5 cheez kabhi bhi aa sakti h 'Hum' '...     137   \n",
              "\n",
              "   word_count  sentence_count  digits_count  \n",
              "0          11               2             0  \n",
              "1          38               2             1  \n",
              "2          26               1             0  \n",
              "3          34               4             2  \n",
              "4          35               1             1  "
            ],
            "text/html": [
              "\n",
              "  <div id=\"df-68bdb2c0-8a33-4c5e-b793-619faac32f8e\">\n",
              "    <div class=\"colab-df-container\">\n",
              "      <div>\n",
              "<style scoped>\n",
              "    .dataframe tbody tr th:only-of-type {\n",
              "        vertical-align: middle;\n",
              "    }\n",
              "\n",
              "    .dataframe tbody tr th {\n",
              "        vertical-align: top;\n",
              "    }\n",
              "\n",
              "    .dataframe thead th {\n",
              "        text-align: right;\n",
              "    }\n",
              "</style>\n",
              "<table border=\"1\" class=\"dataframe\">\n",
              "  <thead>\n",
              "    <tr style=\"text-align: right;\">\n",
              "      <th></th>\n",
              "      <th>target</th>\n",
              "      <th>text</th>\n",
              "      <th>length</th>\n",
              "      <th>word_count</th>\n",
              "      <th>sentence_count</th>\n",
              "      <th>digits_count</th>\n",
              "    </tr>\n",
              "  </thead>\n",
              "  <tbody>\n",
              "    <tr>\n",
              "      <th>0</th>\n",
              "      <td>0</td>\n",
              "      <td>zyada itrao mat . english meko bi aati hai :-P</td>\n",
              "      <td>47</td>\n",
              "      <td>11</td>\n",
              "      <td>2</td>\n",
              "      <td>0</td>\n",
              "    </tr>\n",
              "    <tr>\n",
              "      <th>1</th>\n",
              "      <td>0</td>\n",
              "      <td>is ajnbi dunia me akle 1 khwab hu  swalon se k...</td>\n",
              "      <td>159</td>\n",
              "      <td>38</td>\n",
              "      <td>2</td>\n",
              "      <td>1</td>\n",
              "    </tr>\n",
              "    <tr>\n",
              "      <th>2</th>\n",
              "      <td>0</td>\n",
              "      <td>Husband n wife were opening joint bank ac Husb...</td>\n",
              "      <td>159</td>\n",
              "      <td>26</td>\n",
              "      <td>1</td>\n",
              "      <td>0</td>\n",
              "    </tr>\n",
              "    <tr>\n",
              "      <th>3</th>\n",
              "      <td>0</td>\n",
              "      <td>Husband Suhag raat pe- Tum ne kabhi Blue Film ...</td>\n",
              "      <td>161</td>\n",
              "      <td>34</td>\n",
              "      <td>4</td>\n",
              "      <td>2</td>\n",
              "    </tr>\n",
              "    <tr>\n",
              "      <th>4</th>\n",
              "      <td>0</td>\n",
              "      <td>indagi me 5 cheez kabhi bhi aa sakti h 'Hum' '...</td>\n",
              "      <td>137</td>\n",
              "      <td>35</td>\n",
              "      <td>1</td>\n",
              "      <td>1</td>\n",
              "    </tr>\n",
              "  </tbody>\n",
              "</table>\n",
              "</div>\n",
              "      <button class=\"colab-df-convert\" onclick=\"convertToInteractive('df-68bdb2c0-8a33-4c5e-b793-619faac32f8e')\"\n",
              "              title=\"Convert this dataframe to an interactive table.\"\n",
              "              style=\"display:none;\">\n",
              "        \n",
              "  <svg xmlns=\"http://www.w3.org/2000/svg\" height=\"24px\"viewBox=\"0 0 24 24\"\n",
              "       width=\"24px\">\n",
              "    <path d=\"M0 0h24v24H0V0z\" fill=\"none\"/>\n",
              "    <path d=\"M18.56 5.44l.94 2.06.94-2.06 2.06-.94-2.06-.94-.94-2.06-.94 2.06-2.06.94zm-11 1L8.5 8.5l.94-2.06 2.06-.94-2.06-.94L8.5 2.5l-.94 2.06-2.06.94zm10 10l.94 2.06.94-2.06 2.06-.94-2.06-.94-.94-2.06-.94 2.06-2.06.94z\"/><path d=\"M17.41 7.96l-1.37-1.37c-.4-.4-.92-.59-1.43-.59-.52 0-1.04.2-1.43.59L10.3 9.45l-7.72 7.72c-.78.78-.78 2.05 0 2.83L4 21.41c.39.39.9.59 1.41.59.51 0 1.02-.2 1.41-.59l7.78-7.78 2.81-2.81c.8-.78.8-2.07 0-2.86zM5.41 20L4 18.59l7.72-7.72 1.47 1.35L5.41 20z\"/>\n",
              "  </svg>\n",
              "      </button>\n",
              "      \n",
              "  <style>\n",
              "    .colab-df-container {\n",
              "      display:flex;\n",
              "      flex-wrap:wrap;\n",
              "      gap: 12px;\n",
              "    }\n",
              "\n",
              "    .colab-df-convert {\n",
              "      background-color: #E8F0FE;\n",
              "      border: none;\n",
              "      border-radius: 50%;\n",
              "      cursor: pointer;\n",
              "      display: none;\n",
              "      fill: #1967D2;\n",
              "      height: 32px;\n",
              "      padding: 0 0 0 0;\n",
              "      width: 32px;\n",
              "    }\n",
              "\n",
              "    .colab-df-convert:hover {\n",
              "      background-color: #E2EBFA;\n",
              "      box-shadow: 0px 1px 2px rgba(60, 64, 67, 0.3), 0px 1px 3px 1px rgba(60, 64, 67, 0.15);\n",
              "      fill: #174EA6;\n",
              "    }\n",
              "\n",
              "    [theme=dark] .colab-df-convert {\n",
              "      background-color: #3B4455;\n",
              "      fill: #D2E3FC;\n",
              "    }\n",
              "\n",
              "    [theme=dark] .colab-df-convert:hover {\n",
              "      background-color: #434B5C;\n",
              "      box-shadow: 0px 1px 3px 1px rgba(0, 0, 0, 0.15);\n",
              "      filter: drop-shadow(0px 1px 2px rgba(0, 0, 0, 0.3));\n",
              "      fill: #FFFFFF;\n",
              "    }\n",
              "  </style>\n",
              "\n",
              "      <script>\n",
              "        const buttonEl =\n",
              "          document.querySelector('#df-68bdb2c0-8a33-4c5e-b793-619faac32f8e button.colab-df-convert');\n",
              "        buttonEl.style.display =\n",
              "          google.colab.kernel.accessAllowed ? 'block' : 'none';\n",
              "\n",
              "        async function convertToInteractive(key) {\n",
              "          const element = document.querySelector('#df-68bdb2c0-8a33-4c5e-b793-619faac32f8e');\n",
              "          const dataTable =\n",
              "            await google.colab.kernel.invokeFunction('convertToInteractive',\n",
              "                                                     [key], {});\n",
              "          if (!dataTable) return;\n",
              "\n",
              "          const docLinkHtml = 'Like what you see? Visit the ' +\n",
              "            '<a target=\"_blank\" href=https://colab.research.google.com/notebooks/data_table.ipynb>data table notebook</a>'\n",
              "            + ' to learn more about interactive tables.';\n",
              "          element.innerHTML = '';\n",
              "          dataTable['output_type'] = 'display_data';\n",
              "          await google.colab.output.renderOutput(dataTable, element);\n",
              "          const docLink = document.createElement('div');\n",
              "          docLink.innerHTML = docLinkHtml;\n",
              "          element.appendChild(docLink);\n",
              "        }\n",
              "      </script>\n",
              "    </div>\n",
              "  </div>\n",
              "  "
            ]
          },
          "metadata": {},
          "execution_count": 17
        }
      ],
      "source": [
        "def digits_count(string):\n",
        "    '''\n",
        "    Function to compute number of digits in a given text\n",
        "    '''\n",
        "    digit_count = 0\n",
        "    for i in range(len(string)):\n",
        "        if(string[i].isalpha()):\n",
        "            continue\n",
        "        elif(string[i].isdigit()):\n",
        "            digit_count += 1 \n",
        "        elif(string[i] == ' '):\n",
        "            continue\n",
        "        else:\n",
        "            continue\n",
        "    return digit_count\n",
        "data['digits_count'] = data['text'].map(digits_count)\n",
        "data.head()\n",
        "# Reference : https://stackoverflow.com/questions/24878174/how-to-count-digits-letters-spaces-for-a-string-in-python"
      ]
    },
    {
      "cell_type": "code",
      "execution_count": null,
      "metadata": {
        "id": "YxDuucjYn-Pw"
      },
      "outputs": [],
      "source": [
        "# Count unique words\n",
        "def count_unique_words(text):\n",
        "    '''\n",
        "    Function to compute number of unique word in a messages\n",
        "    '''\n",
        "    return len(set(text.split()))\n",
        "data['unique_words_count'] = data['text'].apply(count_unique_words)"
      ]
    },
    {
      "cell_type": "code",
      "execution_count": null,
      "metadata": {
        "id": "oZ95IlBedkrW"
      },
      "outputs": [],
      "source": [
        "# converting target variable into a Binary type( 0 and 1)\n",
        "# converting spam --> 1 and Ham --> 0\n",
        "from sklearn.preprocessing import LabelEncoder\n",
        "encoder = LabelEncoder()\n",
        "data['target']=encoder.fit_transform(data['target'])"
      ]
    },
    {
      "cell_type": "code",
      "execution_count": null,
      "metadata": {
        "colab": {
          "base_uri": "https://localhost:8080/",
          "height": 356
        },
        "id": "eaQGCJ_voFVg",
        "outputId": "2e15ea76-92a2-45ae-945e-42679a85b0d7"
      },
      "outputs": [
        {
          "output_type": "error",
          "ename": "FileNotFoundError",
          "evalue": "ignored",
          "traceback": [
            "\u001b[0;31m---------------------------------------------------------------------------\u001b[0m",
            "\u001b[0;31mFileNotFoundError\u001b[0m                         Traceback (most recent call last)",
            "\u001b[0;32m<ipython-input-20-33ad3c2de740>\u001b[0m in \u001b[0;36m<module>\u001b[0;34m\u001b[0m\n\u001b[1;32m      4\u001b[0m \u001b[0;34m\u001b[0m\u001b[0m\n\u001b[1;32m      5\u001b[0m \u001b[0;31m# Ham messages word cloud\u001b[0m\u001b[0;34m\u001b[0m\u001b[0;34m\u001b[0m\u001b[0;34m\u001b[0m\u001b[0m\n\u001b[0;32m----> 6\u001b[0;31m \u001b[0mmask\u001b[0m \u001b[0;34m=\u001b[0m \u001b[0mnp\u001b[0m\u001b[0;34m.\u001b[0m\u001b[0marray\u001b[0m\u001b[0;34m(\u001b[0m\u001b[0mImage\u001b[0m\u001b[0;34m.\u001b[0m\u001b[0mopen\u001b[0m\u001b[0;34m(\u001b[0m\u001b[0;34m\"/content/wc_image.jpg\"\u001b[0m\u001b[0;34m)\u001b[0m\u001b[0;34m)\u001b[0m\u001b[0;34m\u001b[0m\u001b[0;34m\u001b[0m\u001b[0m\n\u001b[0m\u001b[1;32m      7\u001b[0m \u001b[0mham_words\u001b[0m \u001b[0;34m=\u001b[0m \u001b[0;34m' '\u001b[0m\u001b[0;34m.\u001b[0m\u001b[0mjoin\u001b[0m\u001b[0;34m(\u001b[0m\u001b[0mlist\u001b[0m\u001b[0;34m(\u001b[0m\u001b[0mdata\u001b[0m\u001b[0;34m[\u001b[0m\u001b[0mdata\u001b[0m\u001b[0;34m[\u001b[0m\u001b[0;34m'target'\u001b[0m\u001b[0;34m]\u001b[0m \u001b[0;34m==\u001b[0m \u001b[0;36m0\u001b[0m\u001b[0;34m]\u001b[0m\u001b[0;34m[\u001b[0m\u001b[0;34m'text'\u001b[0m\u001b[0;34m]\u001b[0m\u001b[0;34m)\u001b[0m\u001b[0;34m)\u001b[0m\u001b[0;34m\u001b[0m\u001b[0;34m\u001b[0m\u001b[0m\n\u001b[1;32m      8\u001b[0m \u001b[0mham_wordcloud\u001b[0m \u001b[0;34m=\u001b[0m \u001b[0mWordCloud\u001b[0m\u001b[0;34m(\u001b[0m\u001b[0mbackground_color\u001b[0m\u001b[0;34m=\u001b[0m\u001b[0;34m\"black\"\u001b[0m\u001b[0;34m,\u001b[0m\u001b[0mwidth\u001b[0m\u001b[0;34m=\u001b[0m\u001b[0;36m520\u001b[0m\u001b[0;34m,\u001b[0m\u001b[0mheight\u001b[0m\u001b[0;34m=\u001b[0m\u001b[0;36m520\u001b[0m\u001b[0;34m,\u001b[0m\u001b[0mcollocations\u001b[0m \u001b[0;34m=\u001b[0m \u001b[0;32mFalse\u001b[0m\u001b[0;34m,\u001b[0m\u001b[0mmask\u001b[0m \u001b[0;34m=\u001b[0m \u001b[0mmask\u001b[0m\u001b[0;34m)\u001b[0m\u001b[0;34m.\u001b[0m\u001b[0mgenerate\u001b[0m\u001b[0;34m(\u001b[0m\u001b[0mham_words\u001b[0m\u001b[0;34m)\u001b[0m\u001b[0;34m\u001b[0m\u001b[0;34m\u001b[0m\u001b[0m\n",
            "\u001b[0;32m/usr/local/lib/python3.8/dist-packages/PIL/Image.py\u001b[0m in \u001b[0;36mopen\u001b[0;34m(fp, mode)\u001b[0m\n\u001b[1;32m   2841\u001b[0m \u001b[0;34m\u001b[0m\u001b[0m\n\u001b[1;32m   2842\u001b[0m     \u001b[0;32mif\u001b[0m \u001b[0mfilename\u001b[0m\u001b[0;34m:\u001b[0m\u001b[0;34m\u001b[0m\u001b[0;34m\u001b[0m\u001b[0m\n\u001b[0;32m-> 2843\u001b[0;31m         \u001b[0mfp\u001b[0m \u001b[0;34m=\u001b[0m \u001b[0mbuiltins\u001b[0m\u001b[0;34m.\u001b[0m\u001b[0mopen\u001b[0m\u001b[0;34m(\u001b[0m\u001b[0mfilename\u001b[0m\u001b[0;34m,\u001b[0m \u001b[0;34m\"rb\"\u001b[0m\u001b[0;34m)\u001b[0m\u001b[0;34m\u001b[0m\u001b[0;34m\u001b[0m\u001b[0m\n\u001b[0m\u001b[1;32m   2844\u001b[0m         \u001b[0mexclusive_fp\u001b[0m \u001b[0;34m=\u001b[0m \u001b[0;32mTrue\u001b[0m\u001b[0;34m\u001b[0m\u001b[0;34m\u001b[0m\u001b[0m\n\u001b[1;32m   2845\u001b[0m \u001b[0;34m\u001b[0m\u001b[0m\n",
            "\u001b[0;31mFileNotFoundError\u001b[0m: [Errno 2] No such file or directory: '/content/wc_image.jpg'"
          ]
        }
      ],
      "source": [
        "# Generating a word cloud image before data preprocessing\n",
        "\n",
        "from PIL import Image\n",
        "\n",
        "# Ham messages word cloud\n",
        "mask = np.array(Image.open(\"/content/wc_image.jpg\"))\n",
        "ham_words = ' '.join(list(data[data['target'] == 0]['text']))\n",
        "ham_wordcloud = WordCloud(background_color=\"black\",width=520,height=520,collocations = False,mask = mask).generate(ham_words)\n",
        "plt.figure(figsize=(17,10))\n",
        "plt.imshow(ham_wordcloud, interpolation=\"bilinear\")\n",
        "plt.axis(\"off\")\n",
        "plt.title(\"Ham messages word cloud\")\n",
        "\n",
        "# spam messages word cloud\n",
        "mask = np.array(Image.open(\"/content/wc_image.jpg\"))\n",
        "spam_words = ' '.join(list(data[data['target'] == 1]['text']))\n",
        "spam_wordcloud = WordCloud(background_color=\"black\",width=520,height=520,collocations = False,mask = mask).generate(spam_words)\n",
        "plt.figure(figsize=(17,10))\n",
        "plt.imshow(spam_wordcloud, interpolation=\"bilinear\")\n",
        "plt.axis(\"off\")\n",
        "plt.title(\"Spam messsages word cloud\")\n",
        "\n",
        "#Reference : https://www.analyticsvidhya.com/blog/2021/08/creating-customized-word-cloud-in-python/"
      ]
    },
    {
      "cell_type": "code",
      "execution_count": null,
      "metadata": {
        "id": "-PmSjkr5orVA"
      },
      "outputs": [],
      "source": [
        "# Correlation matrix of features before data prprocessing\n",
        "plt.figure(figsize=(12,6))\n",
        "sns.heatmap(data=data.corr(),annot= True)\n",
        "plt.show()"
      ]
    },
    {
      "cell_type": "code",
      "execution_count": null,
      "metadata": {
        "id": "Di4qjHThqJlI"
      },
      "outputs": [],
      "source": [
        "# Expanding contractions (Decontractions)\n",
        "# Contraction is the shortened form of a word like don’t stands for do not, aren’t stands for are not.\n",
        "def decontracted(text):\n",
        "    '''\n",
        "    Function to expand the contractions\n",
        "    '''\n",
        "    # specific\n",
        "    text = re.sub(r\"won't\", \"will not\", text)\n",
        "    text = re.sub(r\"can\\'t\", \"can not\", text)\n",
        "\n",
        "    # general\n",
        "    text = re.sub(r\"n\\'t\", \" not\", text)\n",
        "    text = re.sub(r\"\\'re\", \" are\", text)\n",
        "    text = re.sub(r\"\\'s\", \" is\", text)\n",
        "    text = re.sub(r\"\\'d\", \" would\", text)\n",
        "    text = re.sub(r\"\\'ll\", \" will\", text)\n",
        "    text = re.sub(r\"\\'t\", \" not\", text)\n",
        "    text = re.sub(r\"\\'ve\", \" have\", text)\n",
        "    text = re.sub(r\"\\'m\", \" am\", text)\n",
        "    return text\n",
        "# Reference : Donor Choose Preprocessing Noteook  , # https://stackoverflow.com/a/47091490/4084039"
      ]
    },
    {
      "cell_type": "code",
      "execution_count": null,
      "metadata": {
        "id": "waIkAF5JqMJf"
      },
      "outputs": [],
      "source": [
        "# remove text from square brackets\n",
        "text = \"What a friend we have in jesus [all our sins] and grief to bear\"\n",
        "text = re.sub('\\[.*?\\]', '', text)\n",
        "text\n",
        "# Reference : https://stackoverflow.com/questions/2359921/how-to-remove-square-brackets-and-anything-between-them-with-a-regex"
      ]
    },
    {
      "cell_type": "code",
      "execution_count": null,
      "metadata": {
        "id": "xiaWdzvHqOXH",
        "colab": {
          "base_uri": "https://localhost:8080/",
          "height": 35
        },
        "outputId": "e31d3ed8-157d-4ef4-fa19-3bba635c02f5"
      },
      "outputs": [
        {
          "output_type": "execute_result",
          "data": {
            "text/plain": [
              "' Hello Please refer this link '"
            ],
            "application/vnd.google.colaboratory.intrinsic+json": {
              "type": "string"
            }
          },
          "metadata": {},
          "execution_count": 21
        }
      ],
      "source": [
        "# remove links\n",
        "text = \" Hello Please refer this link www.google.com\"\n",
        "text = re.sub('https?://\\S+|www\\.\\S+', '', text)\n",
        "text\n",
        "# Reference : https://stackoverflow.com/questions/11331982/how-to-remove-any-url-within-a-string-in-python"
      ]
    },
    {
      "cell_type": "code",
      "execution_count": null,
      "metadata": {
        "id": "i7N-_g0TqOtP"
      },
      "outputs": [],
      "source": [
        " # Remove punctuation and special character\n",
        " def remove_punctuation(text):\n",
        "     '''\n",
        "     Function to remove special character and punctuation from text\n",
        "     '''\n",
        "     text = nltk.word_tokenize(text)\n",
        "     lst = []\n",
        "     for i in text:\n",
        "        if i not in string.punctuation:\n",
        "            lst.append(i)\n",
        "     text = lst[:]\n",
        "     return ' '.join(lst)\n",
        "\n",
        "# alternate : sample=''.join([char for char in text if char not in string.punctuation])\n",
        "# Reference : https://stackoverflow.com/questions/265960/best-way-to-strip-punctuation-from-a-string"
      ]
    },
    {
      "cell_type": "code",
      "execution_count": null,
      "metadata": {
        "id": "xKB68vMkqOve",
        "colab": {
          "base_uri": "https://localhost:8080/",
          "height": 35
        },
        "outputId": "c28aefdc-d2a2-4d96-fb89-9d218b41b45c"
      },
      "outputs": [
        {
          "output_type": "execute_result",
          "data": {
            "text/plain": [
              "'Hello text remove stopwords'"
            ],
            "application/vnd.google.colaboratory.intrinsic+json": {
              "type": "string"
            }
          },
          "metadata": {},
          "execution_count": 23
        }
      ],
      "source": [
        "# Remove Stopwords\n",
        "def remove_stopwords(text):\n",
        "  '''\n",
        "  Function to rmove stopwords from a given text\n",
        "  '''\n",
        "  lst = []\n",
        "  for char in text.split():\n",
        "    if char not in stopwords.words('english'):\n",
        "      lst.append(char)\n",
        "  return ' '.join(lst)\n",
        "\n",
        "remove_stopwords(\"Hello this is the text to remove stopwords\")\n",
        "#alternate : text = ' '.join([char for char in text.split() if char not in stopwords.words('english')])\n",
        "# Reference : https://stackabuse.com/removing-stop-words-from-strings-in-python/"
      ]
    },
    {
      "cell_type": "code",
      "execution_count": null,
      "metadata": {
        "id": "rvJidsp9qOyN",
        "colab": {
          "base_uri": "https://localhost:8080/",
          "height": 35
        },
        "outputId": "58bd80a6-09db-45ab-801b-4f3f6ef4968c"
      },
      "outputs": [
        {
          "output_type": "execute_result",
          "data": {
            "text/plain": [
              "'Hello  hii howare  ybou'"
            ],
            "application/vnd.google.colaboratory.intrinsic+json": {
              "type": "string"
            }
          },
          "metadata": {},
          "execution_count": 24
        }
      ],
      "source": [
        "# remove digits\n",
        "def remove_digits(text):\n",
        "  '''\n",
        "  Fuction to remove digits from a given text\n",
        "  '''\n",
        "  lst = []\n",
        "  for char in text:\n",
        "    if not char.isdigit():\n",
        "      lst.append(char)\n",
        "  return ''.join(lst)\n",
        "\n",
        "remove_digits(\"Hel1lo 123 12hii34 how6575858are 55 3y2b3o2u\")\n",
        "#Reference : https://stackoverflow.com/questions/12851791/removing-numbers-from-string"
      ]
    },
    {
      "cell_type": "code",
      "execution_count": null,
      "metadata": {
        "id": "FZl9GIzpqYyn",
        "colab": {
          "base_uri": "https://localhost:8080/",
          "height": 35
        },
        "outputId": "78e56251-7d18-4a5a-c306-a2c06c6b813f"
      },
      "outputs": [
        {
          "output_type": "execute_result",
          "data": {
            "text/plain": [
              "' Hello!!! What are you doing I am fine thank you'"
            ],
            "application/vnd.google.colaboratory.intrinsic+json": {
              "type": "string"
            }
          },
          "metadata": {},
          "execution_count": 25
        }
      ],
      "source": [
        "# Remove extra spaces from the text\n",
        "text = \" Hello!!!   What are you  doing    I am fine thank you\"\n",
        "re.sub(' +', ' ', text)\n",
        "#Reference : https://stackoverflow.com/questions/1546226/is-there-a-simple-way-to-remove-multiple-spaces-in-a-string"
      ]
    },
    {
      "cell_type": "code",
      "execution_count": null,
      "metadata": {
        "id": "UB74lEr3qY2v",
        "colab": {
          "base_uri": "https://localhost:8080/",
          "height": 35
        },
        "outputId": "45d4f1e2-760c-40a7-9b1a-194a296044c5"
      },
      "outputs": [
        {
          "output_type": "execute_result",
          "data": {
            "text/plain": [
              "'Hello xyz I am student t applied ai course wat are you doing'"
            ],
            "application/vnd.google.colaboratory.intrinsic+json": {
              "type": "string"
            }
          },
          "metadata": {},
          "execution_count": 26
        }
      ],
      "source": [
        "# remove everything except alphabets\n",
        "def keep_alphabets(text):\n",
        "  ''' \n",
        "  Function to remove everything except alphabet\n",
        "  '''\n",
        "  for i in text.split():\n",
        "    for char in str(i):\n",
        "      text = re.sub(r'[^a-zA-Z ]+', '', text)\n",
        "  return text\n",
        "\n",
        "keep_alphabets(\"Hello xyz123 I am student @t applied ai course. w#at are you doing\")\n",
        "#Reference : https://stackoverflow.com/questions/21564625/removing-everything-except-letters-and-spaces-from-string-in-python3-3"
      ]
    },
    {
      "cell_type": "code",
      "execution_count": null,
      "metadata": {
        "id": "Nyq2t6gmqY5X",
        "colab": {
          "base_uri": "https://localhost:8080/",
          "height": 35
        },
        "outputId": "fb01ad14-2aa0-4bf5-80e6-c8a7d199845b"
      },
      "outputs": [
        {
          "output_type": "execute_result",
          "data": {
            "text/plain": [
              "'love love want publicli hear danc danc '"
            ],
            "application/vnd.google.colaboratory.intrinsic+json": {
              "type": "string"
            }
          },
          "metadata": {},
          "execution_count": 27
        }
      ],
      "source": [
        "# Stemming\n",
        "# Stemming is the process of reducing a word to its word stem that affixes to suffixes and prefixes or to the roots of words known as a lemma.\n",
        "from nltk.stem.porter import PorterStemmer\n",
        "ps = PorterStemmer()\n",
        "ps.stem('loving')\n",
        "text = \"lovely loving wanted publicly hearing dancing danced \"\n",
        "text = ' '.join(ps.stem(word) for word in text.split(' '))\n",
        "text\n",
        "\n",
        "# Reference : https://www.kaggle.com/code/andreshg/nlp-glove-bert-tf-idf-lstm-explained"
      ]
    },
    {
      "cell_type": "code",
      "execution_count": null,
      "metadata": {
        "id": "kx-NDDLrqY8V"
      },
      "outputs": [],
      "source": [
        "def data_preprocessing(text):\n",
        "\n",
        "  '''\n",
        "  Function to prepreocess and clean the data\n",
        "  '''\n",
        "\n",
        "  # lowercasing the text\n",
        "  text = text.lower()\n",
        "\n",
        "  # Expanding Contractions(Decontractions)\n",
        "  text = decontracted(text)\n",
        "  \n",
        "  # remove text in square brackets\n",
        "  text = re.sub('\\[.*?\\]', '', text)\n",
        "\n",
        "  # remove links\n",
        "  text = re.sub('https?://\\S+|www\\.\\S+', '', text)\n",
        "\n",
        "  # remove punctuation and special characters\n",
        "  text = remove_punctuation(text)\n",
        "\n",
        "  # remove stopwords\n",
        "  text = remove_stopwords(text)\n",
        "\n",
        "  # remove digits\n",
        "  text = remove_digits(text)\n",
        "\n",
        "  # remove everything except alphabet\n",
        "  text = re.sub(r'[^a-zA-Z ]+', '', text)\n",
        "  \n",
        "  # remove extra spaces from the text\n",
        "  text =  re.sub(' +', ' ', text)\n",
        "\n",
        "  # Stemming\n",
        "  text = ' '.join(ps.stem(word) for word in text.split(' '))\n",
        "\n",
        "  return text"
      ]
    },
    {
      "cell_type": "code",
      "source": [
        "preprocessed_data = pd.DataFrame()"
      ],
      "metadata": {
        "id": "5uAUaFHvruYh"
      },
      "execution_count": null,
      "outputs": []
    },
    {
      "cell_type": "code",
      "source": [
        "# creating a new column preprocessed text\n",
        "preprocessed_data['preprocessed_text'] = data['text'].apply(data_preprocessing)\n",
        "preprocessed_data.head()"
      ],
      "metadata": {
        "colab": {
          "base_uri": "https://localhost:8080/",
          "height": 345
        },
        "id": "MzIzLQZLr1Mn",
        "outputId": "dded9211-ff90-42c0-edc1-181391624fc5"
      },
      "execution_count": null,
      "outputs": [
        {
          "output_type": "error",
          "ename": "NameError",
          "evalue": "ignored",
          "traceback": [
            "\u001b[0;31m---------------------------------------------------------------------------\u001b[0m",
            "\u001b[0;31mNameError\u001b[0m                                 Traceback (most recent call last)",
            "\u001b[0;32m<ipython-input-30-b1a3d58e1552>\u001b[0m in \u001b[0;36m<module>\u001b[0;34m\u001b[0m\n\u001b[1;32m      1\u001b[0m \u001b[0;31m# creating a new column preprocessed text\u001b[0m\u001b[0;34m\u001b[0m\u001b[0;34m\u001b[0m\u001b[0;34m\u001b[0m\u001b[0m\n\u001b[0;32m----> 2\u001b[0;31m \u001b[0mpreprocessed_data\u001b[0m\u001b[0;34m[\u001b[0m\u001b[0;34m'preprocessed_text'\u001b[0m\u001b[0;34m]\u001b[0m \u001b[0;34m=\u001b[0m \u001b[0mdata\u001b[0m\u001b[0;34m[\u001b[0m\u001b[0;34m'text'\u001b[0m\u001b[0;34m]\u001b[0m\u001b[0;34m.\u001b[0m\u001b[0mapply\u001b[0m\u001b[0;34m(\u001b[0m\u001b[0mdata_preprocessing\u001b[0m\u001b[0;34m)\u001b[0m\u001b[0;34m\u001b[0m\u001b[0;34m\u001b[0m\u001b[0m\n\u001b[0m\u001b[1;32m      3\u001b[0m \u001b[0mpreprocessed_data\u001b[0m\u001b[0;34m.\u001b[0m\u001b[0mhead\u001b[0m\u001b[0;34m(\u001b[0m\u001b[0;34m)\u001b[0m\u001b[0;34m\u001b[0m\u001b[0;34m\u001b[0m\u001b[0m\n",
            "\u001b[0;32m/usr/local/lib/python3.8/dist-packages/pandas/core/series.py\u001b[0m in \u001b[0;36mapply\u001b[0;34m(self, func, convert_dtype, args, **kwargs)\u001b[0m\n\u001b[1;32m   4355\u001b[0m         \u001b[0mdtype\u001b[0m\u001b[0;34m:\u001b[0m \u001b[0mfloat64\u001b[0m\u001b[0;34m\u001b[0m\u001b[0;34m\u001b[0m\u001b[0m\n\u001b[1;32m   4356\u001b[0m         \"\"\"\n\u001b[0;32m-> 4357\u001b[0;31m         \u001b[0;32mreturn\u001b[0m \u001b[0mSeriesApply\u001b[0m\u001b[0;34m(\u001b[0m\u001b[0mself\u001b[0m\u001b[0;34m,\u001b[0m \u001b[0mfunc\u001b[0m\u001b[0;34m,\u001b[0m \u001b[0mconvert_dtype\u001b[0m\u001b[0;34m,\u001b[0m \u001b[0margs\u001b[0m\u001b[0;34m,\u001b[0m \u001b[0mkwargs\u001b[0m\u001b[0;34m)\u001b[0m\u001b[0;34m.\u001b[0m\u001b[0mapply\u001b[0m\u001b[0;34m(\u001b[0m\u001b[0;34m)\u001b[0m\u001b[0;34m\u001b[0m\u001b[0;34m\u001b[0m\u001b[0m\n\u001b[0m\u001b[1;32m   4358\u001b[0m \u001b[0;34m\u001b[0m\u001b[0m\n\u001b[1;32m   4359\u001b[0m     def _reduce(\n",
            "\u001b[0;32m/usr/local/lib/python3.8/dist-packages/pandas/core/apply.py\u001b[0m in \u001b[0;36mapply\u001b[0;34m(self)\u001b[0m\n\u001b[1;32m   1041\u001b[0m             \u001b[0;32mreturn\u001b[0m \u001b[0mself\u001b[0m\u001b[0;34m.\u001b[0m\u001b[0mapply_str\u001b[0m\u001b[0;34m(\u001b[0m\u001b[0;34m)\u001b[0m\u001b[0;34m\u001b[0m\u001b[0;34m\u001b[0m\u001b[0m\n\u001b[1;32m   1042\u001b[0m \u001b[0;34m\u001b[0m\u001b[0m\n\u001b[0;32m-> 1043\u001b[0;31m         \u001b[0;32mreturn\u001b[0m \u001b[0mself\u001b[0m\u001b[0;34m.\u001b[0m\u001b[0mapply_standard\u001b[0m\u001b[0;34m(\u001b[0m\u001b[0;34m)\u001b[0m\u001b[0;34m\u001b[0m\u001b[0;34m\u001b[0m\u001b[0m\n\u001b[0m\u001b[1;32m   1044\u001b[0m \u001b[0;34m\u001b[0m\u001b[0m\n\u001b[1;32m   1045\u001b[0m     \u001b[0;32mdef\u001b[0m \u001b[0magg\u001b[0m\u001b[0;34m(\u001b[0m\u001b[0mself\u001b[0m\u001b[0;34m)\u001b[0m\u001b[0;34m:\u001b[0m\u001b[0;34m\u001b[0m\u001b[0;34m\u001b[0m\u001b[0m\n",
            "\u001b[0;32m/usr/local/lib/python3.8/dist-packages/pandas/core/apply.py\u001b[0m in \u001b[0;36mapply_standard\u001b[0;34m(self)\u001b[0m\n\u001b[1;32m   1096\u001b[0m                 \u001b[0;31m# List[Union[Callable[..., Any], str]]]]]\"; expected\u001b[0m\u001b[0;34m\u001b[0m\u001b[0;34m\u001b[0m\u001b[0;34m\u001b[0m\u001b[0m\n\u001b[1;32m   1097\u001b[0m                 \u001b[0;31m# \"Callable[[Any], Any]\"\u001b[0m\u001b[0;34m\u001b[0m\u001b[0;34m\u001b[0m\u001b[0;34m\u001b[0m\u001b[0m\n\u001b[0;32m-> 1098\u001b[0;31m                 mapped = lib.map_infer(\n\u001b[0m\u001b[1;32m   1099\u001b[0m                     \u001b[0mvalues\u001b[0m\u001b[0;34m,\u001b[0m\u001b[0;34m\u001b[0m\u001b[0;34m\u001b[0m\u001b[0m\n\u001b[1;32m   1100\u001b[0m                     \u001b[0mf\u001b[0m\u001b[0;34m,\u001b[0m  \u001b[0;31m# type: ignore[arg-type]\u001b[0m\u001b[0;34m\u001b[0m\u001b[0;34m\u001b[0m\u001b[0m\n",
            "\u001b[0;32m/usr/local/lib/python3.8/dist-packages/pandas/_libs/lib.pyx\u001b[0m in \u001b[0;36mpandas._libs.lib.map_infer\u001b[0;34m()\u001b[0m\n",
            "\u001b[0;32m<ipython-input-28-a44cecdaafa9>\u001b[0m in \u001b[0;36mdata_preprocessing\u001b[0;34m(text)\u001b[0m\n\u001b[1;32m      9\u001b[0m \u001b[0;34m\u001b[0m\u001b[0m\n\u001b[1;32m     10\u001b[0m   \u001b[0;31m# Expanding Contractions(Decontractions)\u001b[0m\u001b[0;34m\u001b[0m\u001b[0;34m\u001b[0m\u001b[0;34m\u001b[0m\u001b[0m\n\u001b[0;32m---> 11\u001b[0;31m   \u001b[0mtext\u001b[0m \u001b[0;34m=\u001b[0m \u001b[0mdecontracted\u001b[0m\u001b[0;34m(\u001b[0m\u001b[0mtext\u001b[0m\u001b[0;34m)\u001b[0m\u001b[0;34m\u001b[0m\u001b[0;34m\u001b[0m\u001b[0m\n\u001b[0m\u001b[1;32m     12\u001b[0m \u001b[0;34m\u001b[0m\u001b[0m\n\u001b[1;32m     13\u001b[0m   \u001b[0;31m# remove text in square brackets\u001b[0m\u001b[0;34m\u001b[0m\u001b[0;34m\u001b[0m\u001b[0;34m\u001b[0m\u001b[0m\n",
            "\u001b[0;31mNameError\u001b[0m: name 'decontracted' is not defined"
          ]
        }
      ]
    },
    {
      "cell_type": "code",
      "source": [
        "# Adding a new column to the dataset length (character length)\n",
        "preprocessed_data['length'] = preprocessed_data['preprocessed_text'].apply(len)\n",
        "preprocessed_data.head(3)"
      ],
      "metadata": {
        "id": "TuV52LzHsB7g"
      },
      "execution_count": null,
      "outputs": []
    },
    {
      "cell_type": "code",
      "source": [
        "# Adding a new column word count\n",
        "preprocessed_data['word_count'] = preprocessed_data['preprocessed_text'].apply((lambda x:len(nltk.word_tokenize(x))))\n",
        "preprocessed_data.head()"
      ],
      "metadata": {
        "colab": {
          "base_uri": "https://localhost:8080/",
          "height": 502
        },
        "id": "uF0H9uyJt4LQ",
        "outputId": "fbdab06f-0cae-4696-f0dd-1059efb1f1f2"
      },
      "execution_count": null,
      "outputs": [
        {
          "output_type": "error",
          "ename": "KeyError",
          "evalue": "ignored",
          "traceback": [
            "\u001b[0;31m---------------------------------------------------------------------------\u001b[0m",
            "\u001b[0;31mKeyError\u001b[0m                                  Traceback (most recent call last)",
            "\u001b[0;32m/usr/local/lib/python3.8/dist-packages/pandas/core/indexes/base.py\u001b[0m in \u001b[0;36mget_loc\u001b[0;34m(self, key, method, tolerance)\u001b[0m\n\u001b[1;32m   3360\u001b[0m             \u001b[0;32mtry\u001b[0m\u001b[0;34m:\u001b[0m\u001b[0;34m\u001b[0m\u001b[0;34m\u001b[0m\u001b[0m\n\u001b[0;32m-> 3361\u001b[0;31m                 \u001b[0;32mreturn\u001b[0m \u001b[0mself\u001b[0m\u001b[0;34m.\u001b[0m\u001b[0m_engine\u001b[0m\u001b[0;34m.\u001b[0m\u001b[0mget_loc\u001b[0m\u001b[0;34m(\u001b[0m\u001b[0mcasted_key\u001b[0m\u001b[0;34m)\u001b[0m\u001b[0;34m\u001b[0m\u001b[0;34m\u001b[0m\u001b[0m\n\u001b[0m\u001b[1;32m   3362\u001b[0m             \u001b[0;32mexcept\u001b[0m \u001b[0mKeyError\u001b[0m \u001b[0;32mas\u001b[0m \u001b[0merr\u001b[0m\u001b[0;34m:\u001b[0m\u001b[0;34m\u001b[0m\u001b[0;34m\u001b[0m\u001b[0m\n",
            "\u001b[0;32m/usr/local/lib/python3.8/dist-packages/pandas/_libs/index.pyx\u001b[0m in \u001b[0;36mpandas._libs.index.IndexEngine.get_loc\u001b[0;34m()\u001b[0m\n",
            "\u001b[0;32m/usr/local/lib/python3.8/dist-packages/pandas/_libs/index.pyx\u001b[0m in \u001b[0;36mpandas._libs.index.IndexEngine.get_loc\u001b[0;34m()\u001b[0m\n",
            "\u001b[0;32mpandas/_libs/hashtable_class_helper.pxi\u001b[0m in \u001b[0;36mpandas._libs.hashtable.PyObjectHashTable.get_item\u001b[0;34m()\u001b[0m\n",
            "\u001b[0;32mpandas/_libs/hashtable_class_helper.pxi\u001b[0m in \u001b[0;36mpandas._libs.hashtable.PyObjectHashTable.get_item\u001b[0;34m()\u001b[0m\n",
            "\u001b[0;31mKeyError\u001b[0m: 'preprocessed_text'",
            "\nThe above exception was the direct cause of the following exception:\n",
            "\u001b[0;31mKeyError\u001b[0m                                  Traceback (most recent call last)",
            "\u001b[0;32m<ipython-input-31-37471319dd01>\u001b[0m in \u001b[0;36m<module>\u001b[0;34m\u001b[0m\n\u001b[1;32m      1\u001b[0m \u001b[0;31m# Adding a new column word count\u001b[0m\u001b[0;34m\u001b[0m\u001b[0;34m\u001b[0m\u001b[0;34m\u001b[0m\u001b[0m\n\u001b[0;32m----> 2\u001b[0;31m \u001b[0mpreprocessed_data\u001b[0m\u001b[0;34m[\u001b[0m\u001b[0;34m'word_count'\u001b[0m\u001b[0;34m]\u001b[0m \u001b[0;34m=\u001b[0m \u001b[0mpreprocessed_data\u001b[0m\u001b[0;34m[\u001b[0m\u001b[0;34m'preprocessed_text'\u001b[0m\u001b[0;34m]\u001b[0m\u001b[0;34m.\u001b[0m\u001b[0mapply\u001b[0m\u001b[0;34m(\u001b[0m\u001b[0;34m(\u001b[0m\u001b[0;32mlambda\u001b[0m \u001b[0mx\u001b[0m\u001b[0;34m:\u001b[0m\u001b[0mlen\u001b[0m\u001b[0;34m(\u001b[0m\u001b[0mnltk\u001b[0m\u001b[0;34m.\u001b[0m\u001b[0mword_tokenize\u001b[0m\u001b[0;34m(\u001b[0m\u001b[0mx\u001b[0m\u001b[0;34m)\u001b[0m\u001b[0;34m)\u001b[0m\u001b[0;34m)\u001b[0m\u001b[0;34m)\u001b[0m\u001b[0;34m\u001b[0m\u001b[0;34m\u001b[0m\u001b[0m\n\u001b[0m\u001b[1;32m      3\u001b[0m \u001b[0mpreprocessed_data\u001b[0m\u001b[0;34m.\u001b[0m\u001b[0mhead\u001b[0m\u001b[0;34m(\u001b[0m\u001b[0;34m)\u001b[0m\u001b[0;34m\u001b[0m\u001b[0;34m\u001b[0m\u001b[0m\n",
            "\u001b[0;32m/usr/local/lib/python3.8/dist-packages/pandas/core/frame.py\u001b[0m in \u001b[0;36m__getitem__\u001b[0;34m(self, key)\u001b[0m\n\u001b[1;32m   3456\u001b[0m             \u001b[0;32mif\u001b[0m \u001b[0mself\u001b[0m\u001b[0;34m.\u001b[0m\u001b[0mcolumns\u001b[0m\u001b[0;34m.\u001b[0m\u001b[0mnlevels\u001b[0m \u001b[0;34m>\u001b[0m \u001b[0;36m1\u001b[0m\u001b[0;34m:\u001b[0m\u001b[0;34m\u001b[0m\u001b[0;34m\u001b[0m\u001b[0m\n\u001b[1;32m   3457\u001b[0m                 \u001b[0;32mreturn\u001b[0m \u001b[0mself\u001b[0m\u001b[0;34m.\u001b[0m\u001b[0m_getitem_multilevel\u001b[0m\u001b[0;34m(\u001b[0m\u001b[0mkey\u001b[0m\u001b[0;34m)\u001b[0m\u001b[0;34m\u001b[0m\u001b[0;34m\u001b[0m\u001b[0m\n\u001b[0;32m-> 3458\u001b[0;31m             \u001b[0mindexer\u001b[0m \u001b[0;34m=\u001b[0m \u001b[0mself\u001b[0m\u001b[0;34m.\u001b[0m\u001b[0mcolumns\u001b[0m\u001b[0;34m.\u001b[0m\u001b[0mget_loc\u001b[0m\u001b[0;34m(\u001b[0m\u001b[0mkey\u001b[0m\u001b[0;34m)\u001b[0m\u001b[0;34m\u001b[0m\u001b[0;34m\u001b[0m\u001b[0m\n\u001b[0m\u001b[1;32m   3459\u001b[0m             \u001b[0;32mif\u001b[0m \u001b[0mis_integer\u001b[0m\u001b[0;34m(\u001b[0m\u001b[0mindexer\u001b[0m\u001b[0;34m)\u001b[0m\u001b[0;34m:\u001b[0m\u001b[0;34m\u001b[0m\u001b[0;34m\u001b[0m\u001b[0m\n\u001b[1;32m   3460\u001b[0m                 \u001b[0mindexer\u001b[0m \u001b[0;34m=\u001b[0m \u001b[0;34m[\u001b[0m\u001b[0mindexer\u001b[0m\u001b[0;34m]\u001b[0m\u001b[0;34m\u001b[0m\u001b[0;34m\u001b[0m\u001b[0m\n",
            "\u001b[0;32m/usr/local/lib/python3.8/dist-packages/pandas/core/indexes/base.py\u001b[0m in \u001b[0;36mget_loc\u001b[0;34m(self, key, method, tolerance)\u001b[0m\n\u001b[1;32m   3361\u001b[0m                 \u001b[0;32mreturn\u001b[0m \u001b[0mself\u001b[0m\u001b[0;34m.\u001b[0m\u001b[0m_engine\u001b[0m\u001b[0;34m.\u001b[0m\u001b[0mget_loc\u001b[0m\u001b[0;34m(\u001b[0m\u001b[0mcasted_key\u001b[0m\u001b[0;34m)\u001b[0m\u001b[0;34m\u001b[0m\u001b[0;34m\u001b[0m\u001b[0m\n\u001b[1;32m   3362\u001b[0m             \u001b[0;32mexcept\u001b[0m \u001b[0mKeyError\u001b[0m \u001b[0;32mas\u001b[0m \u001b[0merr\u001b[0m\u001b[0;34m:\u001b[0m\u001b[0;34m\u001b[0m\u001b[0;34m\u001b[0m\u001b[0m\n\u001b[0;32m-> 3363\u001b[0;31m                 \u001b[0;32mraise\u001b[0m \u001b[0mKeyError\u001b[0m\u001b[0;34m(\u001b[0m\u001b[0mkey\u001b[0m\u001b[0;34m)\u001b[0m \u001b[0;32mfrom\u001b[0m \u001b[0merr\u001b[0m\u001b[0;34m\u001b[0m\u001b[0;34m\u001b[0m\u001b[0m\n\u001b[0m\u001b[1;32m   3364\u001b[0m \u001b[0;34m\u001b[0m\u001b[0m\n\u001b[1;32m   3365\u001b[0m         \u001b[0;32mif\u001b[0m \u001b[0mis_scalar\u001b[0m\u001b[0;34m(\u001b[0m\u001b[0mkey\u001b[0m\u001b[0;34m)\u001b[0m \u001b[0;32mand\u001b[0m \u001b[0misna\u001b[0m\u001b[0;34m(\u001b[0m\u001b[0mkey\u001b[0m\u001b[0;34m)\u001b[0m \u001b[0;32mand\u001b[0m \u001b[0;32mnot\u001b[0m \u001b[0mself\u001b[0m\u001b[0;34m.\u001b[0m\u001b[0mhasnans\u001b[0m\u001b[0;34m:\u001b[0m\u001b[0;34m\u001b[0m\u001b[0;34m\u001b[0m\u001b[0m\n",
            "\u001b[0;31mKeyError\u001b[0m: 'preprocessed_text'"
          ]
        }
      ]
    },
    {
      "cell_type": "code",
      "source": [
        "# Adding a new column sentence count\n",
        "preprocessed_data['word_count'] = preprocessed_data['preprocessed_text'].apply((lambda x:len(nltk.sent_tokenize(x))))\n",
        "preprocessed_data.head()"
      ],
      "metadata": {
        "id": "USG2sPys2wxt"
      },
      "execution_count": null,
      "outputs": []
    },
    {
      "cell_type": "code",
      "source": [
        "# Adding a feature digits count\n",
        "def digits_count(string):\n",
        "    '''\n",
        "    Function to compute number of digits in a given text\n",
        "    '''\n",
        "    digit_count = 0\n",
        "    for i in range(len(string)):\n",
        "        if(string[i].isalpha()):\n",
        "            continue\n",
        "        elif(string[i].isdigit()):\n",
        "            digit_count += 1 \n",
        "        elif(string[i] == ' '):\n",
        "            continue\n",
        "        else:\n",
        "            continue\n",
        "    return digit_count\n",
        "preprocessed_data['digits_count'] = preprocessed_data['preprocessed_text'].map(digits_count)\n",
        "preprocessed_data.head()\n",
        "# Reference : https://stackoverflow.com/questions/24878174/how-to-count-digits-letters-spaces-for-a-string-in-python"
      ],
      "metadata": {
        "id": "fmuZtzWk27Re"
      },
      "execution_count": null,
      "outputs": []
    },
    {
      "cell_type": "code",
      "source": [
        "# Count unique words\n",
        "def count_unique_words(text):\n",
        "    '''\n",
        "    Function to compute number of unique word in a messages\n",
        "    '''\n",
        "    return len(set(text.split()))\n",
        "preprocessed_data['unique_words_count'] = preprocessed_data['preprocessed_text'].apply(count_unique_words)"
      ],
      "metadata": {
        "id": "7BKjxETB3Xxu"
      },
      "execution_count": null,
      "outputs": []
    },
    {
      "cell_type": "code",
      "source": [
        "preprocessed_data.head()"
      ],
      "metadata": {
        "id": "xmR3Dbzj3gON"
      },
      "execution_count": null,
      "outputs": []
    },
    {
      "cell_type": "code",
      "source": [
        "preprocessed_data['target'] = data['target']"
      ],
      "metadata": {
        "id": "HVTP5JCP3wLe"
      },
      "execution_count": null,
      "outputs": []
    },
    {
      "cell_type": "code",
      "source": [
        "# converting target variable into a Binary type( 0 and 1)\n",
        "# converting spam --> 1 and Ham --> 0\n",
        "from sklearn.preprocessing import LabelEncoder\n",
        "encoder = LabelEncoder()\n",
        "preprocessed_data['target']=encoder.fit_transform(preprocessed_data['target'])"
      ],
      "metadata": {
        "id": "HLi7e1sU3sQe"
      },
      "execution_count": null,
      "outputs": []
    },
    {
      "cell_type": "code",
      "source": [
        "preprocessed_data.head()"
      ],
      "metadata": {
        "id": "DrrT8ZbH39Nm"
      },
      "execution_count": null,
      "outputs": []
    },
    {
      "cell_type": "code",
      "source": [
        "# Generating a word cloud image after data preprocessing\n",
        "\n",
        "from PIL import Image\n",
        "\n",
        "# Ham messages word cloud\n",
        "mask = np.array(Image.open(\"/content/wc_image.jpg\"))\n",
        "ham_words = ' '.join(list(preprocessed_data[preprocessed_data['target'] == 0]['preprocessed_text']))\n",
        "ham_wordcloud = WordCloud(background_color=\"black\",width=520,height=520,collocations = False,mask = mask).generate(ham_words)\n",
        "plt.figure(figsize=(17,10))\n",
        "plt.imshow(ham_wordcloud, interpolation=\"bilinear\")\n",
        "plt.axis(\"off\")\n",
        "plt.title(\"Ham messages word cloud\")\n",
        "\n",
        "# spam messages word cloud\n",
        "mask = np.array(Image.open(\"/content/wc_image.jpg\"))\n",
        "spam_words = ' '.join(list(preprocessed_data[preprocessed_data['target'] == 1]['preprocessed_text']))\n",
        "spam_wordcloud = WordCloud(background_color=\"black\",width=520,height=520,collocations = False,mask = mask).generate(spam_words)\n",
        "plt.figure(figsize=(17,10))\n",
        "plt.imshow(spam_wordcloud, interpolation=\"bilinear\")\n",
        "plt.axis(\"off\")\n",
        "plt.title(\"Spam messsages word cloud\")\n",
        "\n",
        "#Reference : https://www.analyticsvidhya.com/blog/2021/08/creating-customized-word-cloud-in-python/"
      ],
      "metadata": {
        "colab": {
          "base_uri": "https://localhost:8080/",
          "height": 356
        },
        "id": "RfrPNva64F1m",
        "outputId": "6309f8af-40c3-459c-e139-1434a89afaad"
      },
      "execution_count": null,
      "outputs": [
        {
          "output_type": "error",
          "ename": "FileNotFoundError",
          "evalue": "ignored",
          "traceback": [
            "\u001b[0;31m---------------------------------------------------------------------------\u001b[0m",
            "\u001b[0;31mFileNotFoundError\u001b[0m                         Traceback (most recent call last)",
            "\u001b[0;32m<ipython-input-32-6c189d347f38>\u001b[0m in \u001b[0;36m<module>\u001b[0;34m\u001b[0m\n\u001b[1;32m      4\u001b[0m \u001b[0;34m\u001b[0m\u001b[0m\n\u001b[1;32m      5\u001b[0m \u001b[0;31m# Ham messages word cloud\u001b[0m\u001b[0;34m\u001b[0m\u001b[0;34m\u001b[0m\u001b[0;34m\u001b[0m\u001b[0m\n\u001b[0;32m----> 6\u001b[0;31m \u001b[0mmask\u001b[0m \u001b[0;34m=\u001b[0m \u001b[0mnp\u001b[0m\u001b[0;34m.\u001b[0m\u001b[0marray\u001b[0m\u001b[0;34m(\u001b[0m\u001b[0mImage\u001b[0m\u001b[0;34m.\u001b[0m\u001b[0mopen\u001b[0m\u001b[0;34m(\u001b[0m\u001b[0;34m\"/content/wc_image.jpg\"\u001b[0m\u001b[0;34m)\u001b[0m\u001b[0;34m)\u001b[0m\u001b[0;34m\u001b[0m\u001b[0;34m\u001b[0m\u001b[0m\n\u001b[0m\u001b[1;32m      7\u001b[0m \u001b[0mham_words\u001b[0m \u001b[0;34m=\u001b[0m \u001b[0;34m' '\u001b[0m\u001b[0;34m.\u001b[0m\u001b[0mjoin\u001b[0m\u001b[0;34m(\u001b[0m\u001b[0mlist\u001b[0m\u001b[0;34m(\u001b[0m\u001b[0mpreprocessed_data\u001b[0m\u001b[0;34m[\u001b[0m\u001b[0mpreprocessed_data\u001b[0m\u001b[0;34m[\u001b[0m\u001b[0;34m'target'\u001b[0m\u001b[0;34m]\u001b[0m \u001b[0;34m==\u001b[0m \u001b[0;36m0\u001b[0m\u001b[0;34m]\u001b[0m\u001b[0;34m[\u001b[0m\u001b[0;34m'preprocessed_text'\u001b[0m\u001b[0;34m]\u001b[0m\u001b[0;34m)\u001b[0m\u001b[0;34m)\u001b[0m\u001b[0;34m\u001b[0m\u001b[0;34m\u001b[0m\u001b[0m\n\u001b[1;32m      8\u001b[0m \u001b[0mham_wordcloud\u001b[0m \u001b[0;34m=\u001b[0m \u001b[0mWordCloud\u001b[0m\u001b[0;34m(\u001b[0m\u001b[0mbackground_color\u001b[0m\u001b[0;34m=\u001b[0m\u001b[0;34m\"black\"\u001b[0m\u001b[0;34m,\u001b[0m\u001b[0mwidth\u001b[0m\u001b[0;34m=\u001b[0m\u001b[0;36m520\u001b[0m\u001b[0;34m,\u001b[0m\u001b[0mheight\u001b[0m\u001b[0;34m=\u001b[0m\u001b[0;36m520\u001b[0m\u001b[0;34m,\u001b[0m\u001b[0mcollocations\u001b[0m \u001b[0;34m=\u001b[0m \u001b[0;32mFalse\u001b[0m\u001b[0;34m,\u001b[0m\u001b[0mmask\u001b[0m \u001b[0;34m=\u001b[0m \u001b[0mmask\u001b[0m\u001b[0;34m)\u001b[0m\u001b[0;34m.\u001b[0m\u001b[0mgenerate\u001b[0m\u001b[0;34m(\u001b[0m\u001b[0mham_words\u001b[0m\u001b[0;34m)\u001b[0m\u001b[0;34m\u001b[0m\u001b[0;34m\u001b[0m\u001b[0m\n",
            "\u001b[0;32m/usr/local/lib/python3.8/dist-packages/PIL/Image.py\u001b[0m in \u001b[0;36mopen\u001b[0;34m(fp, mode)\u001b[0m\n\u001b[1;32m   2841\u001b[0m \u001b[0;34m\u001b[0m\u001b[0m\n\u001b[1;32m   2842\u001b[0m     \u001b[0;32mif\u001b[0m \u001b[0mfilename\u001b[0m\u001b[0;34m:\u001b[0m\u001b[0;34m\u001b[0m\u001b[0;34m\u001b[0m\u001b[0m\n\u001b[0;32m-> 2843\u001b[0;31m         \u001b[0mfp\u001b[0m \u001b[0;34m=\u001b[0m \u001b[0mbuiltins\u001b[0m\u001b[0;34m.\u001b[0m\u001b[0mopen\u001b[0m\u001b[0;34m(\u001b[0m\u001b[0mfilename\u001b[0m\u001b[0;34m,\u001b[0m \u001b[0;34m\"rb\"\u001b[0m\u001b[0;34m)\u001b[0m\u001b[0;34m\u001b[0m\u001b[0;34m\u001b[0m\u001b[0m\n\u001b[0m\u001b[1;32m   2844\u001b[0m         \u001b[0mexclusive_fp\u001b[0m \u001b[0;34m=\u001b[0m \u001b[0;32mTrue\u001b[0m\u001b[0;34m\u001b[0m\u001b[0;34m\u001b[0m\u001b[0m\n\u001b[1;32m   2845\u001b[0m \u001b[0;34m\u001b[0m\u001b[0m\n",
            "\u001b[0;31mFileNotFoundError\u001b[0m: [Errno 2] No such file or directory: '/content/wc_image.jpg'"
          ]
        }
      ]
    },
    {
      "cell_type": "code",
      "source": [
        "# Correlation matrix of features after data prprocessing\n",
        "plt.figure(figsize=(12,6))\n",
        "sns.heatmap(data=preprocessed_data.corr(),annot= True)\n",
        "plt.show()"
      ],
      "metadata": {
        "id": "7tAAylWQ4a6u"
      },
      "execution_count": null,
      "outputs": []
    },
    {
      "cell_type": "code",
      "source": [
        "preprocessed_data.head()"
      ],
      "metadata": {
        "id": "Nr4suMqf4rSP"
      },
      "execution_count": null,
      "outputs": []
    },
    {
      "cell_type": "code",
      "execution_count": null,
      "metadata": {
        "id": "OABzxXx8wkYj",
        "colab": {
          "base_uri": "https://localhost:8080/",
          "height": 49
        },
        "outputId": "4e31cfb5-7ae8-4970-fdd5-23221550a560"
      },
      "outputs": [
        {
          "output_type": "execute_result",
          "data": {
            "text/plain": [
              "Empty DataFrame\n",
              "Columns: []\n",
              "Index: []"
            ],
            "text/html": [
              "\n",
              "  <div id=\"df-2f4419fc-661c-49f6-8891-826288a826c2\">\n",
              "    <div class=\"colab-df-container\">\n",
              "      <div>\n",
              "<style scoped>\n",
              "    .dataframe tbody tr th:only-of-type {\n",
              "        vertical-align: middle;\n",
              "    }\n",
              "\n",
              "    .dataframe tbody tr th {\n",
              "        vertical-align: top;\n",
              "    }\n",
              "\n",
              "    .dataframe thead th {\n",
              "        text-align: right;\n",
              "    }\n",
              "</style>\n",
              "<table border=\"1\" class=\"dataframe\">\n",
              "  <thead>\n",
              "    <tr style=\"text-align: right;\">\n",
              "      <th></th>\n",
              "    </tr>\n",
              "  </thead>\n",
              "  <tbody>\n",
              "  </tbody>\n",
              "</table>\n",
              "</div>\n",
              "      <button class=\"colab-df-convert\" onclick=\"convertToInteractive('df-2f4419fc-661c-49f6-8891-826288a826c2')\"\n",
              "              title=\"Convert this dataframe to an interactive table.\"\n",
              "              style=\"display:none;\">\n",
              "        \n",
              "  <svg xmlns=\"http://www.w3.org/2000/svg\" height=\"24px\"viewBox=\"0 0 24 24\"\n",
              "       width=\"24px\">\n",
              "    <path d=\"M0 0h24v24H0V0z\" fill=\"none\"/>\n",
              "    <path d=\"M18.56 5.44l.94 2.06.94-2.06 2.06-.94-2.06-.94-.94-2.06-.94 2.06-2.06.94zm-11 1L8.5 8.5l.94-2.06 2.06-.94-2.06-.94L8.5 2.5l-.94 2.06-2.06.94zm10 10l.94 2.06.94-2.06 2.06-.94-2.06-.94-.94-2.06-.94 2.06-2.06.94z\"/><path d=\"M17.41 7.96l-1.37-1.37c-.4-.4-.92-.59-1.43-.59-.52 0-1.04.2-1.43.59L10.3 9.45l-7.72 7.72c-.78.78-.78 2.05 0 2.83L4 21.41c.39.39.9.59 1.41.59.51 0 1.02-.2 1.41-.59l7.78-7.78 2.81-2.81c.8-.78.8-2.07 0-2.86zM5.41 20L4 18.59l7.72-7.72 1.47 1.35L5.41 20z\"/>\n",
              "  </svg>\n",
              "      </button>\n",
              "      \n",
              "  <style>\n",
              "    .colab-df-container {\n",
              "      display:flex;\n",
              "      flex-wrap:wrap;\n",
              "      gap: 12px;\n",
              "    }\n",
              "\n",
              "    .colab-df-convert {\n",
              "      background-color: #E8F0FE;\n",
              "      border: none;\n",
              "      border-radius: 50%;\n",
              "      cursor: pointer;\n",
              "      display: none;\n",
              "      fill: #1967D2;\n",
              "      height: 32px;\n",
              "      padding: 0 0 0 0;\n",
              "      width: 32px;\n",
              "    }\n",
              "\n",
              "    .colab-df-convert:hover {\n",
              "      background-color: #E2EBFA;\n",
              "      box-shadow: 0px 1px 2px rgba(60, 64, 67, 0.3), 0px 1px 3px 1px rgba(60, 64, 67, 0.15);\n",
              "      fill: #174EA6;\n",
              "    }\n",
              "\n",
              "    [theme=dark] .colab-df-convert {\n",
              "      background-color: #3B4455;\n",
              "      fill: #D2E3FC;\n",
              "    }\n",
              "\n",
              "    [theme=dark] .colab-df-convert:hover {\n",
              "      background-color: #434B5C;\n",
              "      box-shadow: 0px 1px 3px 1px rgba(0, 0, 0, 0.15);\n",
              "      filter: drop-shadow(0px 1px 2px rgba(0, 0, 0, 0.3));\n",
              "      fill: #FFFFFF;\n",
              "    }\n",
              "  </style>\n",
              "\n",
              "      <script>\n",
              "        const buttonEl =\n",
              "          document.querySelector('#df-2f4419fc-661c-49f6-8891-826288a826c2 button.colab-df-convert');\n",
              "        buttonEl.style.display =\n",
              "          google.colab.kernel.accessAllowed ? 'block' : 'none';\n",
              "\n",
              "        async function convertToInteractive(key) {\n",
              "          const element = document.querySelector('#df-2f4419fc-661c-49f6-8891-826288a826c2');\n",
              "          const dataTable =\n",
              "            await google.colab.kernel.invokeFunction('convertToInteractive',\n",
              "                                                     [key], {});\n",
              "          if (!dataTable) return;\n",
              "\n",
              "          const docLinkHtml = 'Like what you see? Visit the ' +\n",
              "            '<a target=\"_blank\" href=https://colab.research.google.com/notebooks/data_table.ipynb>data table notebook</a>'\n",
              "            + ' to learn more about interactive tables.';\n",
              "          element.innerHTML = '';\n",
              "          dataTable['output_type'] = 'display_data';\n",
              "          await google.colab.output.renderOutput(dataTable, element);\n",
              "          const docLink = document.createElement('div');\n",
              "          docLink.innerHTML = docLinkHtml;\n",
              "          element.appendChild(docLink);\n",
              "        }\n",
              "      </script>\n",
              "    </div>\n",
              "  </div>\n",
              "  "
            ]
          },
          "metadata": {},
          "execution_count": 33
        }
      ],
      "source": [
        "# Seperating Class label and Depe\n",
        "X = preprocessed_data.iloc[:,:-1]\n",
        "X"
      ]
    },
    {
      "cell_type": "code",
      "execution_count": null,
      "metadata": {
        "id": "raO5hahYwba-"
      },
      "outputs": [],
      "source": [
        "y = data['target'].values"
      ]
    },
    {
      "cell_type": "markdown",
      "metadata": {
        "id": "5x78aQPhPRU1"
      },
      "source": [
        "Train test split"
      ]
    },
    {
      "cell_type": "code",
      "execution_count": null,
      "metadata": {
        "id": "wTtN76i3udHE",
        "colab": {
          "base_uri": "https://localhost:8080/",
          "height": 311
        },
        "outputId": "f4ca6f85-e382-4063-fdee-17fffbe8b7e5"
      },
      "outputs": [
        {
          "output_type": "error",
          "ename": "ValueError",
          "evalue": "ignored",
          "traceback": [
            "\u001b[0;31m---------------------------------------------------------------------------\u001b[0m",
            "\u001b[0;31mValueError\u001b[0m                                Traceback (most recent call last)",
            "\u001b[0;32m<ipython-input-40-aec1fce597c8>\u001b[0m in \u001b[0;36m<module>\u001b[0;34m\u001b[0m\n\u001b[0;32m----> 1\u001b[0;31m \u001b[0mX_train\u001b[0m\u001b[0;34m,\u001b[0m\u001b[0mX_test\u001b[0m\u001b[0;34m,\u001b[0m\u001b[0my_train\u001b[0m\u001b[0;34m,\u001b[0m\u001b[0my_test\u001b[0m \u001b[0;34m=\u001b[0m \u001b[0mtrain_test_split\u001b[0m\u001b[0;34m(\u001b[0m\u001b[0mX\u001b[0m\u001b[0;34m,\u001b[0m\u001b[0my\u001b[0m\u001b[0;34m,\u001b[0m\u001b[0mtest_size\u001b[0m\u001b[0;34m=\u001b[0m\u001b[0;36m0.2\u001b[0m\u001b[0;34m,\u001b[0m\u001b[0mrandom_state\u001b[0m\u001b[0;34m=\u001b[0m\u001b[0;36m2\u001b[0m\u001b[0;34m,\u001b[0m\u001b[0mstratify\u001b[0m \u001b[0;34m=\u001b[0m \u001b[0my\u001b[0m\u001b[0;34m)\u001b[0m\u001b[0;34m\u001b[0m\u001b[0;34m\u001b[0m\u001b[0m\n\u001b[0m",
            "\u001b[0;32m/usr/local/lib/python3.8/dist-packages/sklearn/model_selection/_split.py\u001b[0m in \u001b[0;36mtrain_test_split\u001b[0;34m(test_size, train_size, random_state, shuffle, stratify, *arrays)\u001b[0m\n\u001b[1;32m   2415\u001b[0m         \u001b[0;32mraise\u001b[0m \u001b[0mValueError\u001b[0m\u001b[0;34m(\u001b[0m\u001b[0;34m\"At least one array required as input\"\u001b[0m\u001b[0;34m)\u001b[0m\u001b[0;34m\u001b[0m\u001b[0;34m\u001b[0m\u001b[0m\n\u001b[1;32m   2416\u001b[0m \u001b[0;34m\u001b[0m\u001b[0m\n\u001b[0;32m-> 2417\u001b[0;31m     \u001b[0marrays\u001b[0m \u001b[0;34m=\u001b[0m \u001b[0mindexable\u001b[0m\u001b[0;34m(\u001b[0m\u001b[0;34m*\u001b[0m\u001b[0marrays\u001b[0m\u001b[0;34m)\u001b[0m\u001b[0;34m\u001b[0m\u001b[0;34m\u001b[0m\u001b[0m\n\u001b[0m\u001b[1;32m   2418\u001b[0m \u001b[0;34m\u001b[0m\u001b[0m\n\u001b[1;32m   2419\u001b[0m     \u001b[0mn_samples\u001b[0m \u001b[0;34m=\u001b[0m \u001b[0m_num_samples\u001b[0m\u001b[0;34m(\u001b[0m\u001b[0marrays\u001b[0m\u001b[0;34m[\u001b[0m\u001b[0;36m0\u001b[0m\u001b[0;34m]\u001b[0m\u001b[0;34m)\u001b[0m\u001b[0;34m\u001b[0m\u001b[0;34m\u001b[0m\u001b[0m\n",
            "\u001b[0;32m/usr/local/lib/python3.8/dist-packages/sklearn/utils/validation.py\u001b[0m in \u001b[0;36mindexable\u001b[0;34m(*iterables)\u001b[0m\n\u001b[1;32m    376\u001b[0m \u001b[0;34m\u001b[0m\u001b[0m\n\u001b[1;32m    377\u001b[0m     \u001b[0mresult\u001b[0m \u001b[0;34m=\u001b[0m \u001b[0;34m[\u001b[0m\u001b[0m_make_indexable\u001b[0m\u001b[0;34m(\u001b[0m\u001b[0mX\u001b[0m\u001b[0;34m)\u001b[0m \u001b[0;32mfor\u001b[0m \u001b[0mX\u001b[0m \u001b[0;32min\u001b[0m \u001b[0miterables\u001b[0m\u001b[0;34m]\u001b[0m\u001b[0;34m\u001b[0m\u001b[0;34m\u001b[0m\u001b[0m\n\u001b[0;32m--> 378\u001b[0;31m     \u001b[0mcheck_consistent_length\u001b[0m\u001b[0;34m(\u001b[0m\u001b[0;34m*\u001b[0m\u001b[0mresult\u001b[0m\u001b[0;34m)\u001b[0m\u001b[0;34m\u001b[0m\u001b[0;34m\u001b[0m\u001b[0m\n\u001b[0m\u001b[1;32m    379\u001b[0m     \u001b[0;32mreturn\u001b[0m \u001b[0mresult\u001b[0m\u001b[0;34m\u001b[0m\u001b[0;34m\u001b[0m\u001b[0m\n\u001b[1;32m    380\u001b[0m \u001b[0;34m\u001b[0m\u001b[0m\n",
            "\u001b[0;32m/usr/local/lib/python3.8/dist-packages/sklearn/utils/validation.py\u001b[0m in \u001b[0;36mcheck_consistent_length\u001b[0;34m(*arrays)\u001b[0m\n\u001b[1;32m    330\u001b[0m     \u001b[0muniques\u001b[0m \u001b[0;34m=\u001b[0m \u001b[0mnp\u001b[0m\u001b[0;34m.\u001b[0m\u001b[0munique\u001b[0m\u001b[0;34m(\u001b[0m\u001b[0mlengths\u001b[0m\u001b[0;34m)\u001b[0m\u001b[0;34m\u001b[0m\u001b[0;34m\u001b[0m\u001b[0m\n\u001b[1;32m    331\u001b[0m     \u001b[0;32mif\u001b[0m \u001b[0mlen\u001b[0m\u001b[0;34m(\u001b[0m\u001b[0muniques\u001b[0m\u001b[0;34m)\u001b[0m \u001b[0;34m>\u001b[0m \u001b[0;36m1\u001b[0m\u001b[0;34m:\u001b[0m\u001b[0;34m\u001b[0m\u001b[0;34m\u001b[0m\u001b[0m\n\u001b[0;32m--> 332\u001b[0;31m         raise ValueError(\n\u001b[0m\u001b[1;32m    333\u001b[0m             \u001b[0;34m\"Found input variables with inconsistent numbers of samples: %r\"\u001b[0m\u001b[0;34m\u001b[0m\u001b[0;34m\u001b[0m\u001b[0m\n\u001b[1;32m    334\u001b[0m             \u001b[0;34m%\u001b[0m \u001b[0;34m[\u001b[0m\u001b[0mint\u001b[0m\u001b[0;34m(\u001b[0m\u001b[0ml\u001b[0m\u001b[0;34m)\u001b[0m \u001b[0;32mfor\u001b[0m \u001b[0ml\u001b[0m \u001b[0;32min\u001b[0m \u001b[0mlengths\u001b[0m\u001b[0;34m]\u001b[0m\u001b[0;34m\u001b[0m\u001b[0;34m\u001b[0m\u001b[0m\n",
            "\u001b[0;31mValueError\u001b[0m: Found input variables with inconsistent numbers of samples: [0, 1999]"
          ]
        }
      ],
      "source": [
        "X_train,X_test,y_train,y_test = train_test_split(X,y,test_size=0.2,random_state=2,stratify = y)"
      ]
    },
    {
      "cell_type": "code",
      "execution_count": null,
      "metadata": {
        "colab": {
          "base_uri": "https://localhost:8080/",
          "height": 183
        },
        "id": "AlFIIkuZ0zNx",
        "outputId": "86b81485-d8f0-4892-be42-243eec1d39b0"
      },
      "outputs": [
        {
          "output_type": "error",
          "ename": "NameError",
          "evalue": "ignored",
          "traceback": [
            "\u001b[0;31m---------------------------------------------------------------------------\u001b[0m",
            "\u001b[0;31mNameError\u001b[0m                                 Traceback (most recent call last)",
            "\u001b[0;32m<ipython-input-36-7d9f3faf45e0>\u001b[0m in \u001b[0;36m<module>\u001b[0;34m\u001b[0m\n\u001b[0;32m----> 1\u001b[0;31m \u001b[0mprint\u001b[0m\u001b[0;34m(\u001b[0m\u001b[0mX_train\u001b[0m\u001b[0;34m.\u001b[0m\u001b[0mshape\u001b[0m\u001b[0;34m)\u001b[0m\u001b[0;34m\u001b[0m\u001b[0;34m\u001b[0m\u001b[0m\n\u001b[0m\u001b[1;32m      2\u001b[0m \u001b[0mprint\u001b[0m\u001b[0;34m(\u001b[0m\u001b[0mX_test\u001b[0m\u001b[0;34m.\u001b[0m\u001b[0mshape\u001b[0m\u001b[0;34m)\u001b[0m\u001b[0;34m\u001b[0m\u001b[0;34m\u001b[0m\u001b[0m\n",
            "\u001b[0;31mNameError\u001b[0m: name 'X_train' is not defined"
          ]
        }
      ],
      "source": [
        "print(X_train.shape)\n",
        "print(X_test.shape)"
      ]
    },
    {
      "cell_type": "code",
      "execution_count": null,
      "metadata": {
        "id": "iWU_HHyZ--iK"
      },
      "outputs": [],
      "source": [
        "import pickle\n",
        "with open('X_test.pickle', 'wb') as f:\n",
        "    pickle.dump(X_test, f)"
      ]
    },
    {
      "cell_type": "code",
      "execution_count": null,
      "metadata": {
        "id": "zots5eSp_njC",
        "colab": {
          "base_uri": "https://localhost:8080/",
          "height": 200
        },
        "outputId": "271b65e3-a459-4e73-90f1-51c1ecb0f316"
      },
      "outputs": [
        {
          "output_type": "error",
          "ename": "NameError",
          "evalue": "ignored",
          "traceback": [
            "\u001b[0;31m---------------------------------------------------------------------------\u001b[0m",
            "\u001b[0;31mNameError\u001b[0m                                 Traceback (most recent call last)",
            "\u001b[0;32m<ipython-input-37-fa4d8e7c1983>\u001b[0m in \u001b[0;36m<module>\u001b[0;34m\u001b[0m\n\u001b[1;32m      1\u001b[0m \u001b[0;32mimport\u001b[0m \u001b[0mpickle\u001b[0m\u001b[0;34m\u001b[0m\u001b[0;34m\u001b[0m\u001b[0m\n\u001b[1;32m      2\u001b[0m \u001b[0;32mwith\u001b[0m \u001b[0mopen\u001b[0m\u001b[0;34m(\u001b[0m\u001b[0;34m'X_test.pickle'\u001b[0m\u001b[0;34m,\u001b[0m \u001b[0;34m'wb'\u001b[0m\u001b[0;34m)\u001b[0m \u001b[0;32mas\u001b[0m \u001b[0mf\u001b[0m\u001b[0;34m:\u001b[0m\u001b[0;34m\u001b[0m\u001b[0;34m\u001b[0m\u001b[0m\n\u001b[0;32m----> 3\u001b[0;31m     \u001b[0mpickle\u001b[0m\u001b[0;34m.\u001b[0m\u001b[0mdump\u001b[0m\u001b[0;34m(\u001b[0m\u001b[0my_test\u001b[0m\u001b[0;34m,\u001b[0m \u001b[0mf\u001b[0m\u001b[0;34m)\u001b[0m\u001b[0;34m\u001b[0m\u001b[0;34m\u001b[0m\u001b[0m\n\u001b[0m",
            "\u001b[0;31mNameError\u001b[0m: name 'y_test' is not defined"
          ]
        }
      ],
      "source": [
        "import pickle\n",
        "with open('X_test.pickle', 'wb') as f:\n",
        "    pickle.dump(y_test, f)"
      ]
    },
    {
      "cell_type": "markdown",
      "metadata": {
        "id": "_DKfPtjIWBdy"
      },
      "source": [
        "Feature Extraction from text data : Bag of Words"
      ]
    },
    {
      "cell_type": "code",
      "execution_count": null,
      "metadata": {
        "id": "Jl9gqCY0Vi9g",
        "colab": {
          "base_uri": "https://localhost:8080/",
          "height": 235
        },
        "outputId": "a5bcd291-30a4-4ef1-ec21-8dba1dbcd072"
      },
      "outputs": [
        {
          "output_type": "error",
          "ename": "NameError",
          "evalue": "ignored",
          "traceback": [
            "\u001b[0;31m---------------------------------------------------------------------------\u001b[0m",
            "\u001b[0;31mNameError\u001b[0m                                 Traceback (most recent call last)",
            "\u001b[0;32m<ipython-input-38-5011c663459c>\u001b[0m in \u001b[0;36m<module>\u001b[0;34m\u001b[0m\n\u001b[1;32m      1\u001b[0m \u001b[0mcv\u001b[0m \u001b[0;34m=\u001b[0m \u001b[0mCountVectorizer\u001b[0m\u001b[0;34m(\u001b[0m\u001b[0mdecode_error\u001b[0m\u001b[0;34m=\u001b[0m\u001b[0;34m'replace'\u001b[0m\u001b[0;34m,\u001b[0m\u001b[0mencoding\u001b[0m\u001b[0;34m=\u001b[0m\u001b[0;34m'utf-8'\u001b[0m\u001b[0;34m,\u001b[0m\u001b[0mmax_features\u001b[0m \u001b[0;34m=\u001b[0m \u001b[0;36m4000\u001b[0m\u001b[0;34m)\u001b[0m\u001b[0;34m\u001b[0m\u001b[0;34m\u001b[0m\u001b[0m\n\u001b[0;32m----> 2\u001b[0;31m \u001b[0mbow\u001b[0m \u001b[0;34m=\u001b[0m \u001b[0mcv\u001b[0m\u001b[0;34m.\u001b[0m\u001b[0mfit\u001b[0m\u001b[0;34m(\u001b[0m\u001b[0mX_train\u001b[0m\u001b[0;34m[\u001b[0m\u001b[0;34m'preprocessed_text'\u001b[0m\u001b[0;34m]\u001b[0m\u001b[0;34m.\u001b[0m\u001b[0mvalues\u001b[0m\u001b[0;34m.\u001b[0m\u001b[0mastype\u001b[0m\u001b[0;34m(\u001b[0m\u001b[0;34m'U'\u001b[0m\u001b[0;34m)\u001b[0m\u001b[0;34m)\u001b[0m\u001b[0;34m\u001b[0m\u001b[0;34m\u001b[0m\u001b[0m\n\u001b[0m\u001b[1;32m      3\u001b[0m \u001b[0;34m\u001b[0m\u001b[0m\n\u001b[1;32m      4\u001b[0m \u001b[0mX_train_BOW\u001b[0m \u001b[0;34m=\u001b[0m \u001b[0mbow\u001b[0m\u001b[0;34m.\u001b[0m\u001b[0mtransform\u001b[0m\u001b[0;34m(\u001b[0m\u001b[0mX_train\u001b[0m\u001b[0;34m[\u001b[0m\u001b[0;34m'preprocessed_text'\u001b[0m\u001b[0;34m]\u001b[0m\u001b[0;34m.\u001b[0m\u001b[0mvalues\u001b[0m\u001b[0;34m.\u001b[0m\u001b[0mastype\u001b[0m\u001b[0;34m(\u001b[0m\u001b[0;34m'U'\u001b[0m\u001b[0;34m)\u001b[0m\u001b[0;34m)\u001b[0m\u001b[0;34m.\u001b[0m\u001b[0mtoarray\u001b[0m\u001b[0;34m(\u001b[0m\u001b[0;34m)\u001b[0m\u001b[0;34m\u001b[0m\u001b[0;34m\u001b[0m\u001b[0m\n\u001b[1;32m      5\u001b[0m \u001b[0mX_test_BOW\u001b[0m \u001b[0;34m=\u001b[0m \u001b[0mbow\u001b[0m\u001b[0;34m.\u001b[0m\u001b[0mtransform\u001b[0m\u001b[0;34m(\u001b[0m\u001b[0mX_test\u001b[0m\u001b[0;34m[\u001b[0m\u001b[0;34m'preprocessed_text'\u001b[0m\u001b[0;34m]\u001b[0m\u001b[0;34m.\u001b[0m\u001b[0mvalues\u001b[0m\u001b[0;34m.\u001b[0m\u001b[0mastype\u001b[0m\u001b[0;34m(\u001b[0m\u001b[0;34m'U'\u001b[0m\u001b[0;34m)\u001b[0m\u001b[0;34m)\u001b[0m\u001b[0;34m.\u001b[0m\u001b[0mtoarray\u001b[0m\u001b[0;34m(\u001b[0m\u001b[0;34m)\u001b[0m\u001b[0;34m\u001b[0m\u001b[0;34m\u001b[0m\u001b[0m\n",
            "\u001b[0;31mNameError\u001b[0m: name 'X_train' is not defined"
          ]
        }
      ],
      "source": [
        "cv = CountVectorizer(decode_error='replace',encoding='utf-8',max_features = 4000)\n",
        "bow = cv.fit(X_train['preprocessed_text'].values.astype('U'))\n",
        "\n",
        "X_train_BOW = bow.transform(X_train['preprocessed_text'].values.astype('U')).toarray()\n",
        "X_test_BOW = bow.transform(X_test['preprocessed_text'].values.astype('U')).toarray()"
      ]
    },
    {
      "cell_type": "code",
      "execution_count": null,
      "metadata": {
        "id": "B_nmfNXSW5Th"
      },
      "outputs": [],
      "source": [
        "print(X_train_BOW.shape)\n",
        "print(X_test_BOW.shape)"
      ]
    },
    {
      "cell_type": "markdown",
      "metadata": {
        "id": "RYzEJC8YbHKN"
      },
      "source": [
        "Feature Extraction from text data: Bag of words(ngram_range = (1,2))"
      ]
    },
    {
      "cell_type": "code",
      "execution_count": null,
      "metadata": {
        "id": "lVHaQKpIYyMA",
        "colab": {
          "base_uri": "https://localhost:8080/",
          "height": 235
        },
        "outputId": "c395924b-3d19-43e8-fe45-05d7d6ff6475"
      },
      "outputs": [
        {
          "output_type": "error",
          "ename": "NameError",
          "evalue": "ignored",
          "traceback": [
            "\u001b[0;31m---------------------------------------------------------------------------\u001b[0m",
            "\u001b[0;31mNameError\u001b[0m                                 Traceback (most recent call last)",
            "\u001b[0;32m<ipython-input-39-77184087eee2>\u001b[0m in \u001b[0;36m<module>\u001b[0;34m\u001b[0m\n\u001b[1;32m      1\u001b[0m \u001b[0;31m# BOW (Bigrams)\u001b[0m\u001b[0;34m\u001b[0m\u001b[0;34m\u001b[0m\u001b[0;34m\u001b[0m\u001b[0m\n\u001b[1;32m      2\u001b[0m \u001b[0mcv_2\u001b[0m \u001b[0;34m=\u001b[0m \u001b[0mCountVectorizer\u001b[0m\u001b[0;34m(\u001b[0m\u001b[0mngram_range\u001b[0m \u001b[0;34m=\u001b[0m \u001b[0;34m(\u001b[0m\u001b[0;36m1\u001b[0m\u001b[0;34m,\u001b[0m\u001b[0;36m2\u001b[0m\u001b[0;34m)\u001b[0m\u001b[0;34m)\u001b[0m\u001b[0;34m\u001b[0m\u001b[0;34m\u001b[0m\u001b[0m\n\u001b[0;32m----> 3\u001b[0;31m \u001b[0mbow_2\u001b[0m \u001b[0;34m=\u001b[0m \u001b[0mcv_2\u001b[0m\u001b[0;34m.\u001b[0m\u001b[0mfit\u001b[0m\u001b[0;34m(\u001b[0m\u001b[0mX_train\u001b[0m\u001b[0;34m[\u001b[0m\u001b[0;34m'preprocessed_text'\u001b[0m\u001b[0;34m]\u001b[0m\u001b[0;34m.\u001b[0m\u001b[0mvalues\u001b[0m\u001b[0;34m.\u001b[0m\u001b[0mastype\u001b[0m\u001b[0;34m(\u001b[0m\u001b[0;34m'U'\u001b[0m\u001b[0;34m)\u001b[0m\u001b[0;34m)\u001b[0m\u001b[0;34m\u001b[0m\u001b[0;34m\u001b[0m\u001b[0m\n\u001b[0m\u001b[1;32m      4\u001b[0m \u001b[0mX_train_BOW_2\u001b[0m \u001b[0;34m=\u001b[0m \u001b[0mbow_2\u001b[0m\u001b[0;34m.\u001b[0m\u001b[0mtransform\u001b[0m\u001b[0;34m(\u001b[0m\u001b[0mX_train\u001b[0m\u001b[0;34m[\u001b[0m\u001b[0;34m'preprocessed_text'\u001b[0m\u001b[0;34m]\u001b[0m\u001b[0;34m.\u001b[0m\u001b[0mvalues\u001b[0m\u001b[0;34m.\u001b[0m\u001b[0mastype\u001b[0m\u001b[0;34m(\u001b[0m\u001b[0;34m'U'\u001b[0m\u001b[0;34m)\u001b[0m\u001b[0;34m)\u001b[0m\u001b[0;34m.\u001b[0m\u001b[0mtoarray\u001b[0m\u001b[0;34m(\u001b[0m\u001b[0;34m)\u001b[0m\u001b[0;34m\u001b[0m\u001b[0;34m\u001b[0m\u001b[0m\n\u001b[1;32m      5\u001b[0m \u001b[0mX_test_BOW_2\u001b[0m \u001b[0;34m=\u001b[0m \u001b[0mbow_2\u001b[0m\u001b[0;34m.\u001b[0m\u001b[0mtransform\u001b[0m\u001b[0;34m(\u001b[0m\u001b[0mX_test\u001b[0m\u001b[0;34m[\u001b[0m\u001b[0;34m'preprocessed_text'\u001b[0m\u001b[0;34m]\u001b[0m\u001b[0;34m.\u001b[0m\u001b[0mvalues\u001b[0m\u001b[0;34m.\u001b[0m\u001b[0mastype\u001b[0m\u001b[0;34m(\u001b[0m\u001b[0;34m'U'\u001b[0m\u001b[0;34m)\u001b[0m\u001b[0;34m)\u001b[0m\u001b[0;34m.\u001b[0m\u001b[0mtoarray\u001b[0m\u001b[0;34m(\u001b[0m\u001b[0;34m)\u001b[0m\u001b[0;34m\u001b[0m\u001b[0;34m\u001b[0m\u001b[0m\n",
            "\u001b[0;31mNameError\u001b[0m: name 'X_train' is not defined"
          ]
        }
      ],
      "source": [
        "# BOW (Bigrams)\n",
        "cv_2 = CountVectorizer(ngram_range = (1,2))\n",
        "bow_2 = cv_2.fit(X_train['preprocessed_text'].values.astype('U'))\n",
        "X_train_BOW_2 = bow_2.transform(X_train['preprocessed_text'].values.astype('U')).toarray()\n",
        "X_test_BOW_2 = bow_2.transform(X_test['preprocessed_text'].values.astype('U')).toarray()"
      ]
    },
    {
      "cell_type": "code",
      "execution_count": null,
      "metadata": {
        "colab": {
          "base_uri": "https://localhost:8080/"
        },
        "id": "5j0MtkItbhuM",
        "outputId": "db11f9fc-69d6-4c85-923d-3daa031ba182"
      },
      "outputs": [
        {
          "output_type": "stream",
          "name": "stdout",
          "text": [
            "(1599, 26307)\n",
            "(400, 26307)\n"
          ]
        }
      ],
      "source": [
        "\n",
        "print(X_train_BOW_2.shape)\n",
        "print(X_test_BOW_2.shape)"
      ]
    },
    {
      "cell_type": "markdown",
      "metadata": {
        "id": "T6fbGjQ4eqKm"
      },
      "source": [
        "Feature Extraction from text data : TFIDF Vectorizer"
      ]
    },
    {
      "cell_type": "code",
      "execution_count": null,
      "metadata": {
        "id": "DX32XMN9ewgj"
      },
      "outputs": [],
      "source": [
        "tfidf = TfidfVectorizer(max_features = 4000)\n",
        "tfidf_vec = tfidf.fit(X_train['preprocessed_text'].values.astype('U'))\n",
        "X_train_TFIDF = tfidf_vec.transform(X_train['preprocessed_text'].values.astype('U')).toarray()\n",
        "X_test_TFIDF = tfidf_vec.transform(X_test['preprocessed_text'].values.astype('U')).toarray()"
      ]
    },
    {
      "cell_type": "code",
      "execution_count": null,
      "metadata": {
        "colab": {
          "base_uri": "https://localhost:8080/"
        },
        "id": "d9wrT6Dn3i9D",
        "outputId": "52b5f1d5-22fb-4b47-f82f-6dd84c23b4df"
      },
      "outputs": [
        {
          "output_type": "stream",
          "name": "stdout",
          "text": [
            "(1599, 4000)\n",
            "(400, 4000)\n"
          ]
        }
      ],
      "source": [
        "print(X_train_TFIDF.shape)\n",
        "print(X_test_TFIDF.shape)"
      ]
    },
    {
      "cell_type": "markdown",
      "metadata": {
        "id": "XjDIXQjXQVtb"
      },
      "source": [
        "Naive Bayes"
      ]
    },
    {
      "cell_type": "code",
      "execution_count": null,
      "metadata": {
        "id": "NggnVFsIfgBb"
      },
      "outputs": [],
      "source": [
        "from sklearn.naive_bayes import GaussianNB,MultinomialNB,BernoulliNB\n",
        "from sklearn.metrics import accuracy_score,confusion_matrix,precision_score,f1_score"
      ]
    },
    {
      "cell_type": "code",
      "execution_count": null,
      "metadata": {
        "colab": {
          "base_uri": "https://localhost:8080/",
          "height": 677
        },
        "id": "Y_SrpLgvk6Sl",
        "outputId": "f37192e2-c6fc-4612-d80d-e28a466e837b"
      },
      "outputs": [
        {
          "output_type": "stream",
          "name": "stdout",
          "text": [
            "Train Accuracy :  0.9799874921826142\n",
            "Test Accuracy :  0.95\n",
            "Train Precision :  0.9705521472392638\n",
            "Test Precision :  0.95\n",
            "Train F1-score :  0.9801734820322181\n",
            "Test F1-score :  0.9500000000000001\n"
          ]
        },
        {
          "output_type": "display_data",
          "data": {
            "text/plain": [
              "<Figure size 432x288 with 2 Axes>"
            ],
            "image/png": "[encoded data removed]"
          },
          "metadata": {
            "needs_background": "light"
          }
        },
        {
          "output_type": "display_data",
          "data": {
            "text/plain": [
              "<Figure size 432x288 with 2 Axes>"
            ],
            "image/png": "[encoded data removed]"
          },
          "metadata": {
            "needs_background": "light"
          }
        }
      ],
      "source": [
        "# Gaussian navie bayes + Bow\n",
        "gnb = GaussianNB()\n",
        "gnb.fit(X_train_BOW,y_train)\n",
        "y_train_pred = gnb.predict(X_train_BOW)\n",
        "y_test_pred = gnb.predict(X_test_BOW)\n",
        "print(\"Train Accuracy : \",accuracy_score(y_train,y_train_pred))\n",
        "print(\"Test Accuracy : \",accuracy_score(y_test,y_test_pred))\n",
        "print(\"Train Precision : \",precision_score(y_train,y_train_pred))\n",
        "print(\"Test Precision : \",precision_score(y_test,y_test_pred))\n",
        "print(\"Train F1-score : \",f1_score(y_train , y_train_pred))\n",
        "print(\"Test F1-score : \",f1_score(y_test , y_test_pred))\n",
        "train_cm = confusion_matrix(y_train,y_train_pred)\n",
        "test_cm = confusion_matrix(y_test,y_test_pred)\n",
        "sns.heatmap(train_cm, annot=True)\n",
        "plt.title(\"Train Confusion Matrix\")\n",
        "plt.xlabel(\"Predicted Label\")\n",
        "plt.ylabel(\"Actual Label\")\n",
        "plt.show()\n",
        "sns.heatmap(test_cm, annot=True)\n",
        "plt.title(\"Test Confusion Matrix\")\n",
        "plt.xlabel(\"Predicted Label\")\n",
        "plt.ylabel(\"Actual Label\")\n",
        "plt.show()"
      ]
    },
    {
      "cell_type": "code",
      "execution_count": null,
      "metadata": {
        "colab": {
          "base_uri": "https://localhost:8080/",
          "height": 677
        },
        "id": "AVP0iFTvvBvl",
        "outputId": "657adfbf-f2a7-4629-aa3f-9466fbc22300"
      },
      "outputs": [
        {
          "output_type": "stream",
          "name": "stdout",
          "text": [
            "Train Accuracy :  0.9806128830519074\n",
            "Test Accuracy :  0.9075\n",
            "Train Precision :  0.9626506024096385\n",
            "Test Precision :  0.8654708520179372\n",
            "Train F1-score :  0.9809699201964395\n",
            "Test F1-score :  0.912529550827423\n"
          ]
        },
        {
          "output_type": "display_data",
          "data": {
            "text/plain": [
              "<Figure size 432x288 with 2 Axes>"
            ],
            "image/png": "[encoded data removed]"
          },
          "metadata": {
            "needs_background": "light"
          }
        },
        {
          "output_type": "display_data",
          "data": {
            "text/plain": [
              "<Figure size 432x288 with 2 Axes>"
            ],
            "image/png": "[encoded data removed]"
          },
          "metadata": {
            "needs_background": "light"
          }
        }
      ],
      "source": [
        "# Gaussian Naive Bayes + Bow(ngram range = (1,2))\n",
        "gnb = GaussianNB()\n",
        "gnb.fit(X_train_BOW_2,y_train)\n",
        "y_train_pred = gnb.predict(X_train_BOW_2)\n",
        "y_test_pred = gnb.predict(X_test_BOW_2)\n",
        "print(\"Train Accuracy : \",accuracy_score(y_train,y_train_pred))\n",
        "print(\"Test Accuracy : \",accuracy_score(y_test,y_test_pred))\n",
        "print(\"Train Precision : \",precision_score(y_train,y_train_pred))\n",
        "print(\"Test Precision : \",precision_score(y_test,y_test_pred))\n",
        "print(\"Train F1-score : \",f1_score(y_train , y_train_pred))\n",
        "print(\"Test F1-score : \",f1_score(y_test , y_test_pred))\n",
        "train_cm = confusion_matrix(y_train,y_train_pred)\n",
        "test_cm = confusion_matrix(y_test,y_test_pred)\n",
        "sns.heatmap(train_cm, annot=True)\n",
        "plt.title(\"Train Confusion Matrix\")\n",
        "plt.xlabel(\"Predicted Label\")\n",
        "plt.ylabel(\"Actual Label\")\n",
        "plt.show()\n",
        "sns.heatmap(test_cm, annot=True)\n",
        "plt.title(\"Test Confusion Matrix\")\n",
        "plt.xlabel(\"Predicted Label\")\n",
        "plt.ylabel(\"Actual Label\")\n",
        "plt.show()"
      ]
    },
    {
      "cell_type": "code",
      "execution_count": null,
      "metadata": {
        "colab": {
          "base_uri": "https://localhost:8080/",
          "height": 677
        },
        "id": "p5zjZwg2pUG6",
        "outputId": "97bb23e2-b10f-41e3-aa68-6dd67784049a"
      },
      "outputs": [
        {
          "output_type": "stream",
          "name": "stdout",
          "text": [
            "Train Accuracy :  0.9949968730456535\n",
            "Test Accuracy :  0.935\n",
            "Train Precision :  0.9987389659520807\n",
            "Test Precision :  0.953125\n",
            "Train F1-score :  0.9949748743718592\n",
            "Test F1-score :  0.9336734693877552\n"
          ]
        },
        {
          "output_type": "display_data",
          "data": {
            "text/plain": [
              "<Figure size 432x288 with 2 Axes>"
            ],
            "image/png": "[encoded data removed]"
          },
          "metadata": {
            "needs_background": "light"
          }
        },
        {
          "output_type": "display_data",
          "data": {
            "text/plain": [
              "<Figure size 432x288 with 2 Axes>"
            ],
            "image/png": "[encoded data removed]"
          },
          "metadata": {
            "needs_background": "light"
          }
        }
      ],
      "source": [
        "# Gaussian Naive Bayes + Tfidf\n",
        "gnb = GaussianNB()\n",
        "gnb.fit(X_train_TFIDF,y_train)\n",
        "y_train_pred = gnb.predict(X_train_TFIDF)\n",
        "y_test_pred = gnb.predict(X_test_TFIDF)\n",
        "print(\"Train Accuracy : \",accuracy_score(y_train,y_train_pred))\n",
        "print(\"Test Accuracy : \",accuracy_score(y_test,y_test_pred))\n",
        "print(\"Train Precision : \",precision_score(y_train,y_train_pred))\n",
        "print(\"Test Precision : \",precision_score(y_test,y_test_pred))\n",
        "print(\"Train F1-score : \",f1_score(y_train , y_train_pred))\n",
        "print(\"Test F1-score : \",f1_score(y_test , y_test_pred))\n",
        "train_cm = confusion_matrix(y_train,y_train_pred)\n",
        "test_cm = confusion_matrix(y_test,y_test_pred)\n",
        "sns.heatmap(train_cm, annot=True)\n",
        "plt.title(\"Train Confusion Matrix\")\n",
        "plt.xlabel(\"Predicted Label\")\n",
        "plt.ylabel(\"Actual Label\")\n",
        "plt.show()\n",
        "sns.heatmap(test_cm, annot=True)\n",
        "plt.title(\"Test Confusion Matrix\")\n",
        "plt.xlabel(\"Predicted Label\")\n",
        "plt.ylabel(\"Actual Label\")\n",
        "plt.show()"
      ]
    },
    {
      "cell_type": "code",
      "execution_count": null,
      "metadata": {
        "colab": {
          "base_uri": "https://localhost:8080/",
          "height": 677
        },
        "id": "ir_1XcjRqiio",
        "outputId": "25793b9b-bd16-4534-8ef8-5951a004ced0"
      },
      "outputs": [
        {
          "output_type": "stream",
          "name": "stdout",
          "text": [
            "Train Accuracy :  0.9787367104440275\n",
            "Test Accuracy :  0.9625\n",
            "Train Precision :  0.9799247176913425\n",
            "Test Precision :  0.964824120603015\n",
            "Train F1-score :  0.9786967418546367\n",
            "Test F1-score :  0.9624060150375939\n"
          ]
        },
        {
          "output_type": "display_data",
          "data": {
            "text/plain": [
              "<Figure size 432x288 with 2 Axes>"
            ],
            "image/png": "[encoded data removed]"
          },
          "metadata": {
            "needs_background": "light"
          }
        },
        {
          "output_type": "display_data",
          "data": {
            "text/plain": [
              "<Figure size 432x288 with 2 Axes>"
            ],
            "image/png": "[encoded data removed]"
          },
          "metadata": {
            "needs_background": "light"
          }
        }
      ],
      "source": [
        "# Multinomial Naive Bayes + Bow\n",
        "mnb = MultinomialNB()\n",
        "mnb.fit(X_train_BOW,y_train)\n",
        "y_train_pred = mnb.predict(X_train_BOW)\n",
        "y_test_pred = mnb.predict(X_test_BOW)\n",
        "print(\"Train Accuracy : \",accuracy_score(y_train,y_train_pred))\n",
        "print(\"Test Accuracy : \",accuracy_score(y_test,y_test_pred))\n",
        "print(\"Train Precision : \",precision_score(y_train,y_train_pred))\n",
        "print(\"Test Precision : \",precision_score(y_test,y_test_pred))\n",
        "print(\"Train F1-score : \",f1_score(y_train , y_train_pred))\n",
        "print(\"Test F1-score : \",f1_score(y_test , y_test_pred))\n",
        "train_cm = confusion_matrix(y_train,y_train_pred)\n",
        "test_cm = confusion_matrix(y_test,y_test_pred)\n",
        "sns.heatmap(train_cm, annot=True)\n",
        "plt.title(\"Train Confusion Matrix\")\n",
        "plt.xlabel(\"Predicted Label\")\n",
        "plt.ylabel(\"Actual Label\")\n",
        "plt.show()\n",
        "sns.heatmap(test_cm, annot=True)\n",
        "plt.title(\"Test Confusion Matrix\")\n",
        "plt.xlabel(\"Predicted Label\")\n",
        "plt.ylabel(\"Actual Label\")\n",
        "plt.show()"
      ]
    },
    {
      "cell_type": "code",
      "execution_count": null,
      "metadata": {
        "colab": {
          "base_uri": "https://localhost:8080/",
          "height": 677
        },
        "id": "pvOZsgQNrq6C",
        "outputId": "40d88b03-c415-4b46-cf52-a06ed2da3788"
      },
      "outputs": [
        {
          "output_type": "stream",
          "name": "stdout",
          "text": [
            "Train Accuracy :  0.9956222639149468\n",
            "Test Accuracy :  0.9775\n",
            "Train Precision :  0.995\n",
            "Test Precision :  0.9751243781094527\n",
            "Train F1-score :  0.9956222639149468\n",
            "Test F1-score :  0.9775561097256857\n"
          ]
        },
        {
          "output_type": "display_data",
          "data": {
            "text/plain": [
              "<Figure size 432x288 with 2 Axes>"
            ],
            "image/png": "[encoded data removed]"
          },
          "metadata": {
            "needs_background": "light"
          }
        },
        {
          "output_type": "display_data",
          "data": {
            "text/plain": [
              "<Figure size 432x288 with 2 Axes>"
            ],
            "image/png": "[encoded data removed]"
          },
          "metadata": {
            "needs_background": "light"
          }
        }
      ],
      "source": [
        "# Multinomial Naive Bayes + BOW (ngram_range = (1,2))\n",
        "mnb = MultinomialNB()\n",
        "mnb.fit(X_train_BOW_2,y_train)\n",
        "y_train_pred = mnb.predict(X_train_BOW_2)\n",
        "y_test_pred = mnb.predict(X_test_BOW_2)\n",
        "print(\"Train Accuracy : \",accuracy_score(y_train,y_train_pred))\n",
        "print(\"Test Accuracy : \",accuracy_score(y_test,y_test_pred))\n",
        "print(\"Train Precision : \",precision_score(y_train,y_train_pred))\n",
        "print(\"Test Precision : \",precision_score(y_test,y_test_pred))\n",
        "print(\"Train F1-score : \",f1_score(y_train , y_train_pred))\n",
        "print(\"Test F1-score : \",f1_score(y_test , y_test_pred))\n",
        "train_cm = confusion_matrix(y_train,y_train_pred)\n",
        "test_cm = confusion_matrix(y_test,y_test_pred)\n",
        "sns.heatmap(train_cm, annot=True)\n",
        "plt.title(\"Train Confusion Matrix\")\n",
        "plt.xlabel(\"Predicted Label\")\n",
        "plt.ylabel(\"Actual Label\")\n",
        "plt.show()\n",
        "sns.heatmap(test_cm, annot=True)\n",
        "plt.title(\"Test Confusion Matrix\")\n",
        "plt.xlabel(\"Predicted Label\")\n",
        "plt.ylabel(\"Actual Label\")\n",
        "plt.show()"
      ]
    },
    {
      "cell_type": "code",
      "execution_count": null,
      "metadata": {
        "colab": {
          "base_uri": "https://localhost:8080/",
          "height": 677
        },
        "id": "bQOWzGwlsBdk",
        "outputId": "5e1286a8-b809-4a90-b4bc-270d57df922d"
      },
      "outputs": [
        {
          "output_type": "stream",
          "name": "stdout",
          "text": [
            "Train Accuracy :  0.9824890556597874\n",
            "Test Accuracy :  0.965\n",
            "Train Precision :  0.9873577749683944\n",
            "Test Precision :  0.9603960396039604\n",
            "Train F1-score :  0.9823899371069182\n",
            "Test F1-score :  0.9651741293532338\n"
          ]
        },
        {
          "output_type": "display_data",
          "data": {
            "text/plain": [
              "<Figure size 432x288 with 2 Axes>"
            ],
            "image/png": "[encoded data removed]"
          },
          "metadata": {
            "needs_background": "light"
          }
        },
        {
          "output_type": "display_data",
          "data": {
            "text/plain": [
              "<Figure size 432x288 with 2 Axes>"
            ],
            "image/png": "[encoded data removed]"
          },
          "metadata": {
            "needs_background": "light"
          }
        }
      ],
      "source": [
        "# Multinomial Naive Bayes + TFIDF\n",
        "mnb = MultinomialNB()\n",
        "mnb.fit(X_train_TFIDF,y_train)\n",
        "y_train_pred = mnb.predict(X_train_TFIDF)\n",
        "y_test_pred = mnb.predict(X_test_TFIDF)\n",
        "print(\"Train Accuracy : \",accuracy_score(y_train,y_train_pred))\n",
        "print(\"Test Accuracy : \",accuracy_score(y_test,y_test_pred))\n",
        "print(\"Train Precision : \",precision_score(y_train,y_train_pred))\n",
        "print(\"Test Precision : \",precision_score(y_test,y_test_pred))\n",
        "print(\"Train F1-score : \",f1_score(y_train , y_train_pred))\n",
        "print(\"Test F1-score : \",f1_score(y_test , y_test_pred))\n",
        "train_cm = confusion_matrix(y_train,y_train_pred)\n",
        "test_cm = confusion_matrix(y_test,y_test_pred)\n",
        "sns.heatmap(train_cm, annot=True)\n",
        "plt.title(\"Train Confusion Matrix\")\n",
        "plt.xlabel(\"Predicted Label\")\n",
        "plt.ylabel(\"Actual Label\")\n",
        "plt.show()\n",
        "sns.heatmap(test_cm, annot=True)\n",
        "plt.title(\"Test Confusion Matrix\")\n",
        "plt.xlabel(\"Predicted Label\")\n",
        "plt.ylabel(\"Actual Label\")\n",
        "plt.show()"
      ]
    },
    {
      "cell_type": "code",
      "execution_count": null,
      "metadata": {
        "colab": {
          "base_uri": "https://localhost:8080/",
          "height": 677
        },
        "id": "9u4aS6Z3s86I",
        "outputId": "3c298d5b-3a82-4471-a224-8081af64677f"
      },
      "outputs": [
        {
          "output_type": "stream",
          "name": "stdout",
          "text": [
            "Train Accuracy :  0.9831144465290806\n",
            "Test Accuracy :  0.97\n",
            "Train Precision :  0.9948717948717949\n",
            "Test Precision :  0.9795918367346939\n",
            "Train F1-score :  0.9829005699810006\n",
            "Test F1-score :  0.9696969696969697\n"
          ]
        },
        {
          "output_type": "display_data",
          "data": {
            "text/plain": [
              "<Figure size 432x288 with 2 Axes>"
            ],
            "image/png": "[encoded data removed]"
          },
          "metadata": {
            "needs_background": "light"
          }
        },
        {
          "output_type": "display_data",
          "data": {
            "text/plain": [
              "<Figure size 432x288 with 2 Axes>"
            ],
            "image/png": "[encoded data removed]"
          },
          "metadata": {
            "needs_background": "light"
          }
        }
      ],
      "source": [
        "# Bernoulli Naive Bayes + Bow\n",
        "bnb = BernoulliNB()\n",
        "bnb.fit(X_train_BOW,y_train)\n",
        "y_train_pred = bnb.predict(X_train_BOW)\n",
        "y_test_pred = bnb.predict(X_test_BOW)\n",
        "print(\"Train Accuracy : \",accuracy_score(y_train,y_train_pred))\n",
        "print(\"Test Accuracy : \",accuracy_score(y_test,y_test_pred))\n",
        "print(\"Train Precision : \",precision_score(y_train,y_train_pred))\n",
        "print(\"Test Precision : \",precision_score(y_test,y_test_pred))\n",
        "print(\"Train F1-score : \",f1_score(y_train , y_train_pred))\n",
        "print(\"Test F1-score : \",f1_score(y_test , y_test_pred))\n",
        "train_cm = confusion_matrix(y_train,y_train_pred)\n",
        "test_cm = confusion_matrix(y_test,y_test_pred)\n",
        "sns.heatmap(train_cm, annot=True)\n",
        "plt.title(\"Train Confusion Matrix\")\n",
        "plt.xlabel(\"Predicted Label\")\n",
        "plt.ylabel(\"Actual Label\")\n",
        "plt.show()\n",
        "sns.heatmap(test_cm, annot=True)\n",
        "plt.title(\"Test Confusion Matrix\")\n",
        "plt.xlabel(\"Predicted Label\")\n",
        "plt.ylabel(\"Actual Label\")\n",
        "plt.show()"
      ]
    },
    {
      "cell_type": "code",
      "execution_count": null,
      "metadata": {
        "colab": {
          "base_uri": "https://localhost:8080/",
          "height": 677
        },
        "id": "WcvVxPAuu9ze",
        "outputId": "760929df-3c95-446e-d242-9c9bc2f7ab41"
      },
      "outputs": [
        {
          "output_type": "stream",
          "name": "stdout",
          "text": [
            "Train Accuracy :  0.9949968730456535\n",
            "Test Accuracy :  0.9675\n",
            "Train Precision :  1.0\n",
            "Test Precision :  0.9844559585492227\n",
            "Train F1-score :  0.9949685534591194\n",
            "Test F1-score :  0.9669211195928753\n"
          ]
        },
        {
          "output_type": "display_data",
          "data": {
            "text/plain": [
              "<Figure size 432x288 with 2 Axes>"
            ],
            "image/png": "[encoded data removed]"
          },
          "metadata": {
            "needs_background": "light"
          }
        },
        {
          "output_type": "display_data",
          "data": {
            "text/plain": [
              "<Figure size 432x288 with 2 Axes>"
            ],
            "image/png": "[encoded data removed]"
          },
          "metadata": {
            "needs_background": "light"
          }
        }
      ],
      "source": [
        "# Bernoulli Naive Bayes + BOW(ngram_range = (1,2))\n",
        "bnb = BernoulliNB()\n",
        "bnb.fit(X_train_BOW_2,y_train)\n",
        "y_train_pred = bnb.predict(X_train_BOW_2)\n",
        "y_test_pred = bnb.predict(X_test_BOW_2)\n",
        "print(\"Train Accuracy : \",accuracy_score(y_train,y_train_pred))\n",
        "print(\"Test Accuracy : \",accuracy_score(y_test,y_test_pred))\n",
        "print(\"Train Precision : \",precision_score(y_train,y_train_pred))\n",
        "print(\"Test Precision : \",precision_score(y_test,y_test_pred))\n",
        "print(\"Train F1-score : \",f1_score(y_train , y_train_pred))\n",
        "print(\"Test F1-score : \",f1_score(y_test , y_test_pred))\n",
        "train_cm = confusion_matrix(y_train,y_train_pred)\n",
        "test_cm = confusion_matrix(y_test,y_test_pred)\n",
        "sns.heatmap(train_cm, annot=True)\n",
        "plt.title(\"Train Confusion Matrix\")\n",
        "plt.xlabel(\"Predicted Label\")\n",
        "plt.ylabel(\"Actual Label\")\n",
        "plt.show()\n",
        "sns.heatmap(test_cm, annot=True)\n",
        "plt.title(\"Test Confusion Matrix\")\n",
        "plt.xlabel(\"Predicted Label\")\n",
        "plt.ylabel(\"Actual Label\")\n",
        "plt.show()"
      ]
    },
    {
      "cell_type": "code",
      "execution_count": null,
      "metadata": {
        "colab": {
          "base_uri": "https://localhost:8080/",
          "height": 677
        },
        "id": "cFixMCCyv0JY",
        "outputId": "bed109f7-2332-4037-c999-1329b962a39c"
      },
      "outputs": [
        {
          "output_type": "stream",
          "name": "stdout",
          "text": [
            "Train Accuracy :  0.9831144465290806\n",
            "Test Accuracy :  0.97\n",
            "Train Precision :  0.9948717948717949\n",
            "Test Precision :  0.9795918367346939\n",
            "Train F1-score :  0.9829005699810006\n",
            "Test F1-score :  0.9696969696969697\n"
          ]
        },
        {
          "output_type": "display_data",
          "data": {
            "text/plain": [
              "<Figure size 432x288 with 2 Axes>"
            ],
            "image/png": "[encoded data removed]"
          },
          "metadata": {
            "needs_background": "light"
          }
        },
        {
          "output_type": "display_data",
          "data": {
            "text/plain": [
              "<Figure size 432x288 with 2 Axes>"
            ],
            "image/png": "[encoded data removed]"
          },
          "metadata": {
            "needs_background": "light"
          }
        }
      ],
      "source": [
        "# Bernoulli Naive Bayes + TFIDF\n",
        "bnb = BernoulliNB()\n",
        "bnb.fit(X_train_TFIDF,y_train)\n",
        "y_train_pred = bnb.predict(X_train_TFIDF)\n",
        "y_test_pred = bnb.predict(X_test_TFIDF)\n",
        "print(\"Train Accuracy : \",accuracy_score(y_train,y_train_pred))\n",
        "print(\"Test Accuracy : \",accuracy_score(y_test,y_test_pred))\n",
        "print(\"Train Precision : \",precision_score(y_train,y_train_pred))\n",
        "print(\"Test Precision : \",precision_score(y_test,y_test_pred))\n",
        "print(\"Train F1-score : \",f1_score(y_train , y_train_pred))\n",
        "print(\"Test F1-score : \",f1_score(y_test , y_test_pred))\n",
        "train_cm = confusion_matrix(y_train,y_train_pred)\n",
        "test_cm = confusion_matrix(y_test,y_test_pred)\n",
        "sns.heatmap(train_cm, annot=True)\n",
        "plt.title(\"Train Confusion Matrix\")\n",
        "plt.xlabel(\"Predicted Label\")\n",
        "plt.ylabel(\"Actual Label\")\n",
        "plt.show()\n",
        "sns.heatmap(test_cm, annot=True)\n",
        "plt.title(\"Test Confusion Matrix\")\n",
        "plt.xlabel(\"Predicted Label\")\n",
        "plt.ylabel(\"Actual Label\")\n",
        "plt.show()"
      ]
    },
    {
      "cell_type": "markdown",
      "metadata": {
        "id": "dSNgRmfGQrck"
      },
      "source": [
        "Logistic Regression"
      ]
    },
    {
      "cell_type": "code",
      "execution_count": null,
      "metadata": {
        "colab": {
          "base_uri": "https://localhost:8080/",
          "height": 677
        },
        "id": "nkfpr5h4T2-s",
        "outputId": "8ceda844-729b-4913-efaa-fab4bf157e93"
      },
      "outputs": [
        {
          "output_type": "stream",
          "name": "stdout",
          "text": [
            "Train Accuracy :  0.99812382739212\n",
            "Test Accuracy :  0.9525\n",
            "Train Precision :  1.0\n",
            "Test Precision :  0.9641025641025641\n",
            "Train F1-score :  0.9981191222570532\n",
            "Test F1-score :  0.9518987341772152\n"
          ]
        },
        {
          "output_type": "display_data",
          "data": {
            "text/plain": [
              "<Figure size 432x288 with 2 Axes>"
            ],
            "image/png": "[encoded data removed]"
          },
          "metadata": {
            "needs_background": "light"
          }
        },
        {
          "output_type": "display_data",
          "data": {
            "text/plain": [
              "<Figure size 432x288 with 2 Axes>"
            ],
            "image/png": "[encoded data removed]"
          },
          "metadata": {
            "needs_background": "light"
          }
        }
      ],
      "source": [
        "# Logistic Regression + BOW\n",
        "from sklearn.linear_model import SGDClassifier\n",
        "sgd =   SGDClassifier(loss = \"log\")\n",
        "sgd.fit(X_train_BOW,y_train)\n",
        "y_train_pred = sgd.predict(X_train_BOW)\n",
        "y_test_pred = sgd.predict(X_test_BOW)\n",
        "print(\"Train Accuracy : \",accuracy_score(y_train,y_train_pred))\n",
        "print(\"Test Accuracy : \",accuracy_score(y_test,y_test_pred))\n",
        "print(\"Train Precision : \",precision_score(y_train,y_train_pred))\n",
        "print(\"Test Precision : \",precision_score(y_test,y_test_pred))\n",
        "print(\"Train F1-score : \",f1_score(y_train , y_train_pred))\n",
        "print(\"Test F1-score : \",f1_score(y_test , y_test_pred))\n",
        "train_cm = confusion_matrix(y_train,y_train_pred)\n",
        "test_cm = confusion_matrix(y_test,y_test_pred)\n",
        "sns.heatmap(train_cm, annot=True)\n",
        "plt.title(\"Train Confusion Matrix\")\n",
        "plt.xlabel(\"Predicted Label\")\n",
        "plt.ylabel(\"Actual Label\")\n",
        "plt.show()\n",
        "sns.heatmap(test_cm, annot=True)\n",
        "plt.title(\"Test Confusion Matrix\")\n",
        "plt.xlabel(\"Predicted Label\")\n",
        "plt.ylabel(\"Actual Label\")\n",
        "plt.show()"
      ]
    },
    {
      "cell_type": "code",
      "execution_count": null,
      "metadata": {
        "colab": {
          "base_uri": "https://localhost:8080/",
          "height": 677
        },
        "id": "cshpVBgnVaxl",
        "outputId": "1bcedace-7bed-4485-eed4-664fd45bbfb4"
      },
      "outputs": [
        {
          "output_type": "stream",
          "name": "stdout",
          "text": [
            "Train Accuracy :  0.9987492182614134\n",
            "Test Accuracy :  0.9475\n",
            "Train Precision :  1.0\n",
            "Test Precision :  0.9685863874345549\n",
            "Train F1-score :  0.9987468671679198\n",
            "Test F1-score :  0.9462915601023018\n"
          ]
        },
        {
          "output_type": "display_data",
          "data": {
            "text/plain": [
              "<Figure size 432x288 with 2 Axes>"
            ],
            "image/png": "[encoded data removed]"
          },
          "metadata": {
            "needs_background": "light"
          }
        },
        {
          "output_type": "display_data",
          "data": {
            "text/plain": [
              "<Figure size 432x288 with 2 Axes>"
            ],
            "image/png": "[encoded data removed]"
          },
          "metadata": {
            "needs_background": "light"
          }
        }
      ],
      "source": [
        "# logistic regression + BOW(ngram_range = (1,2))\n",
        "from sklearn.linear_model import SGDClassifier\n",
        "sgd =   SGDClassifier(loss = \"log\")\n",
        "sgd.fit(X_train_BOW_2,y_train)\n",
        "y_train_pred = sgd.predict(X_train_BOW_2)\n",
        "y_test_pred = sgd.predict(X_test_BOW_2)\n",
        "print(\"Train Accuracy : \",accuracy_score(y_train,y_train_pred))\n",
        "print(\"Test Accuracy : \",accuracy_score(y_test,y_test_pred))\n",
        "print(\"Train Precision : \",precision_score(y_train,y_train_pred))\n",
        "print(\"Test Precision : \",precision_score(y_test,y_test_pred))\n",
        "print(\"Train F1-score : \",f1_score(y_train , y_train_pred))\n",
        "print(\"Test F1-score : \",f1_score(y_test , y_test_pred))\n",
        "train_cm = confusion_matrix(y_train,y_train_pred)\n",
        "test_cm = confusion_matrix(y_test,y_test_pred)\n",
        "sns.heatmap(train_cm, annot=True)\n",
        "plt.title(\"Train Confusion Matrix\")\n",
        "plt.xlabel(\"Predicted Label\")\n",
        "plt.ylabel(\"Actual Label\")\n",
        "plt.show()\n",
        "sns.heatmap(test_cm, annot=True)\n",
        "plt.title(\"Test Confusion Matrix\")\n",
        "plt.xlabel(\"Predicted Label\")\n",
        "plt.ylabel(\"Actual Label\")\n",
        "plt.show()"
      ]
    },
    {
      "cell_type": "code",
      "execution_count": null,
      "metadata": {
        "colab": {
          "base_uri": "https://localhost:8080/",
          "height": 677
        },
        "id": "02qBVKLpVsBS",
        "outputId": "3d25e512-427d-4d54-ae32-1fea4b2c34fd"
      },
      "outputs": [
        {
          "output_type": "stream",
          "name": "stdout",
          "text": [
            "Train Accuracy :  0.9968730456535334\n",
            "Test Accuracy :  0.965\n",
            "Train Precision :  0.9974937343358395\n",
            "Test Precision :  0.9514563106796117\n",
            "Train F1-score :  0.9968691296180338\n",
            "Test F1-score :  0.9655172413793104\n"
          ]
        },
        {
          "output_type": "display_data",
          "data": {
            "text/plain": [
              "<Figure size 432x288 with 2 Axes>"
            ],
            "image/png": "[encoded data removed]"
          },
          "metadata": {
            "needs_background": "light"
          }
        },
        {
          "output_type": "display_data",
          "data": {
            "text/plain": [
              "<Figure size 432x288 with 2 Axes>"
            ],
            "image/png": "[encoded data removed]"
          },
          "metadata": {
            "needs_background": "light"
          }
        }
      ],
      "source": [
        "# logisti  regression + Tfidf\n",
        "from sklearn.linear_model import SGDClassifier\n",
        "sgd =   SGDClassifier(loss = \"log\")\n",
        "sgd.fit(X_train_TFIDF,y_train)\n",
        "y_train_pred = sgd.predict(X_train_TFIDF)\n",
        "y_test_pred = sgd.predict(X_test_TFIDF)\n",
        "print(\"Train Accuracy : \",accuracy_score(y_train,y_train_pred))\n",
        "print(\"Test Accuracy : \",accuracy_score(y_test,y_test_pred))\n",
        "print(\"Train Precision : \",precision_score(y_train,y_train_pred))\n",
        "print(\"Test Precision : \",precision_score(y_test,y_test_pred))\n",
        "print(\"Train F1-score : \",f1_score(y_train , y_train_pred))\n",
        "print(\"Test F1-score : \",f1_score(y_test , y_test_pred))\n",
        "train_cm = confusion_matrix(y_train,y_train_pred)\n",
        "test_cm = confusion_matrix(y_test,y_test_pred)\n",
        "sns.heatmap(train_cm, annot=True)\n",
        "plt.title(\"Train Confusion Matrix\")\n",
        "plt.xlabel(\"Predicted Label\")\n",
        "plt.ylabel(\"Actual Label\")\n",
        "plt.show()\n",
        "sns.heatmap(test_cm, annot=True)\n",
        "plt.title(\"Test Confusion Matrix\")\n",
        "plt.xlabel(\"Predicted Label\")\n",
        "plt.ylabel(\"Actual Label\")\n",
        "plt.show()"
      ]
    },
    {
      "cell_type": "markdown",
      "metadata": {
        "id": "YabLyN0aQ1ar"
      },
      "source": [
        "Support Vector Machine"
      ]
    },
    {
      "cell_type": "code",
      "execution_count": null,
      "metadata": {
        "colab": {
          "base_uri": "https://localhost:8080/",
          "height": 677
        },
        "id": "y9D1Vn-H85lt",
        "outputId": "7d2950ae-c5fc-4751-8cce-14662a90436a"
      },
      "outputs": [
        {
          "output_type": "stream",
          "name": "stdout",
          "text": [
            "Train Accuracy :  0.8236397748592871\n",
            "Test Accuracy :  0.7925\n",
            "Train Precision :  0.781897491821156\n",
            "Test Precision :  0.7671232876712328\n",
            "Train F1-score :  0.8356643356643357\n",
            "Test F1-score :  0.8019093078758951\n"
          ]
        },
        {
          "output_type": "display_data",
          "data": {
            "text/plain": [
              "<Figure size 432x288 with 2 Axes>"
            ],
            "image/png": "[encoded data removed]"
          },
          "metadata": {
            "needs_background": "light"
          }
        },
        {
          "output_type": "display_data",
          "data": {
            "text/plain": [
              "<Figure size 432x288 with 2 Axes>"
            ],
            "image/png": "[encoded data removed]"
          },
          "metadata": {
            "needs_background": "light"
          }
        }
      ],
      "source": [
        "#Svm + Bow\n",
        "from sklearn.svm import SVC\n",
        "svm = SVC(C=0.1)\n",
        "svm.fit(X_train_BOW,y_train)\n",
        "y_train_pred = svm.predict(X_train_BOW)\n",
        "y_test_pred = svm.predict(X_test_BOW)\n",
        "print(\"Train Accuracy : \",accuracy_score(y_train,y_train_pred))\n",
        "print(\"Test Accuracy : \",accuracy_score(y_test,y_test_pred))\n",
        "print(\"Train Precision : \",precision_score(y_train,y_train_pred))\n",
        "print(\"Test Precision : \",precision_score(y_test,y_test_pred))\n",
        "print(\"Train F1-score : \",f1_score(y_train , y_train_pred))\n",
        "print(\"Test F1-score : \",f1_score(y_test , y_test_pred))\n",
        "train_cm = confusion_matrix(y_train,y_train_pred)\n",
        "test_cm = confusion_matrix(y_test,y_test_pred)\n",
        "sns.heatmap(train_cm, annot=True)\n",
        "plt.title(\"Train Confusion Matrix\")\n",
        "plt.xlabel(\"Predicted Label\")\n",
        "plt.ylabel(\"Actual Label\")\n",
        "plt.show()\n",
        "sns.heatmap(test_cm, annot=True)\n",
        "plt.title(\"Test Confusion Matrix\")\n",
        "plt.xlabel(\"Predicted Label\")\n",
        "plt.ylabel(\"Actual Label\")\n",
        "plt.show()"
      ]
    },
    {
      "cell_type": "code",
      "execution_count": null,
      "metadata": {
        "colab": {
          "base_uri": "https://localhost:8080/",
          "height": 677
        },
        "id": "6LvXVkjCI4Ny",
        "outputId": "f129ecaf-529d-48cc-e191-d7322a4d56ba"
      },
      "outputs": [
        {
          "output_type": "stream",
          "name": "stdout",
          "text": [
            "Train Accuracy :  0.7554721701063164\n",
            "Test Accuracy :  0.7325\n",
            "Train Precision :  0.6827956989247311\n",
            "Test Precision :  0.7657142857142857\n",
            "Train F1-score :  0.7958224543080938\n",
            "Test F1-score :  0.7146666666666666\n"
          ]
        },
        {
          "output_type": "display_data",
          "data": {
            "text/plain": [
              "<Figure size 432x288 with 2 Axes>"
            ],
            "image/png": "[encoded data removed]"
          },
          "metadata": {
            "needs_background": "light"
          }
        },
        {
          "output_type": "display_data",
          "data": {
            "text/plain": [
              "<Figure size 432x288 with 2 Axes>"
            ],
            "image/png": "[encoded data removed]"
          },
          "metadata": {
            "needs_background": "light"
          }
        }
      ],
      "source": [
        "#svm +bow(ngram range = (1,2))\n",
        "svm = SVC(C=0.1)\n",
        "svm.fit(X_train_BOW_2,y_train)\n",
        "y_train_pred = svm.predict(X_train_BOW_2)\n",
        "y_test_pred = svm.predict(X_test_BOW_2)\n",
        "print(\"Train Accuracy : \",accuracy_score(y_train,y_train_pred))\n",
        "print(\"Test Accuracy : \",accuracy_score(y_test,y_test_pred))\n",
        "print(\"Train Precision : \",precision_score(y_train,y_train_pred))\n",
        "print(\"Test Precision : \",precision_score(y_test,y_test_pred))\n",
        "print(\"Train F1-score : \",f1_score(y_train , y_train_pred))\n",
        "print(\"Test F1-score : \",f1_score(y_test , y_test_pred))\n",
        "train_cm = confusion_matrix(y_train,y_train_pred)\n",
        "test_cm = confusion_matrix(y_test,y_test_pred)\n",
        "sns.heatmap(train_cm, annot=True)\n",
        "plt.title(\"Train Confusion Matrix\")\n",
        "plt.xlabel(\"Predicted Label\")\n",
        "plt.ylabel(\"Actual Label\")\n",
        "plt.show()\n",
        "sns.heatmap(test_cm, annot=True)\n",
        "plt.title(\"Test Confusion Matrix\")\n",
        "plt.xlabel(\"Predicted Label\")\n",
        "plt.ylabel(\"Actual Label\")\n",
        "plt.show()"
      ]
    },
    {
      "cell_type": "code",
      "execution_count": null,
      "metadata": {
        "colab": {
          "base_uri": "https://localhost:8080/",
          "height": 677
        },
        "id": "VfFgmGG9Mym-",
        "outputId": "dd73e415-0a22-4c16-92eb-b390df8053fc"
      },
      "outputs": [
        {
          "output_type": "stream",
          "name": "stdout",
          "text": [
            "Train Accuracy :  0.6516572858036273\n",
            "Test Accuracy :  0.64\n",
            "Train Precision :  0.9959016393442623\n",
            "Test Precision :  0.9827586206896551\n",
            "Train F1-score :  0.4659635666347076\n",
            "Test F1-score :  0.44186046511627897\n"
          ]
        },
        {
          "output_type": "display_data",
          "data": {
            "text/plain": [
              "<Figure size 432x288 with 2 Axes>"
            ],
            "image/png": "[encoded data removed]"
          },
          "metadata": {
            "needs_background": "light"
          }
        },
        {
          "output_type": "display_data",
          "data": {
            "text/plain": [
              "<Figure size 432x288 with 2 Axes>"
            ],
            "image/png": "[encoded data removed]"
          },
          "metadata": {
            "needs_background": "light"
          }
        }
      ],
      "source": [
        "#svm + TFIDF\n",
        "svm = SVC(C=0.1)\n",
        "svm.fit(X_train_TFIDF,y_train)\n",
        "y_train_pred = svm.predict(X_train_TFIDF)\n",
        "y_test_pred = svm.predict(X_test_TFIDF)\n",
        "print(\"Train Accuracy : \",accuracy_score(y_train,y_train_pred))\n",
        "print(\"Test Accuracy : \",accuracy_score(y_test,y_test_pred))\n",
        "print(\"Train Precision : \",precision_score(y_train,y_train_pred))\n",
        "print(\"Test Precision : \",precision_score(y_test,y_test_pred))\n",
        "print(\"Train F1-score : \",f1_score(y_train , y_train_pred))\n",
        "print(\"Test F1-score : \",f1_score(y_test , y_test_pred))\n",
        "train_cm = confusion_matrix(y_train,y_train_pred)\n",
        "test_cm = confusion_matrix(y_test,y_test_pred)\n",
        "sns.heatmap(train_cm, annot=True)\n",
        "plt.title(\"Train Confusion Matrix\")\n",
        "plt.xlabel(\"Predicted Label\")\n",
        "plt.ylabel(\"Actual Label\")\n",
        "plt.show()\n",
        "sns.heatmap(test_cm, annot=True)\n",
        "plt.title(\"Test Confusion Matrix\")\n",
        "plt.xlabel(\"Predicted Label\")\n",
        "plt.ylabel(\"Actual Label\")\n",
        "plt.show()"
      ]
    },
    {
      "cell_type": "markdown",
      "metadata": {
        "id": "Ya_tZTYpQ-Ca"
      },
      "source": [
        "K-Nearest Neighbors"
      ]
    },
    {
      "cell_type": "code",
      "execution_count": null,
      "metadata": {
        "colab": {
          "base_uri": "https://localhost:8080/",
          "height": 677
        },
        "id": "vf35fPXPNfgF",
        "outputId": "560cbc59-2b10-4c6f-e531-42508c7452ad"
      },
      "outputs": [
        {
          "output_type": "stream",
          "name": "stdout",
          "text": [
            "Train Accuracy :  0.6635397123202001\n",
            "test_Accuracy :  0.63\n",
            "Train Precision :  0.9851301115241635\n",
            "Test Precision :  1.0\n",
            "Train F1-score : 0.49625468164794007\n",
            "Test F1-score : 0.41269841269841273\n"
          ]
        },
        {
          "output_type": "display_data",
          "data": {
            "text/plain": [
              "<Figure size 432x288 with 2 Axes>"
            ],
            "image/png": "[encoded data removed]"
          },
          "metadata": {
            "needs_background": "light"
          }
        },
        {
          "output_type": "display_data",
          "data": {
            "text/plain": [
              "<Figure size 432x288 with 2 Axes>"
            ],
            "image/png": "[encoded data removed]"
          },
          "metadata": {
            "needs_background": "light"
          }
        }
      ],
      "source": [
        "# KNN + BOW\n",
        "from sklearn.neighbors import KNeighborsClassifier\n",
        "knn = KNeighborsClassifier()\n",
        "knn.fit(X_train_BOW,y_train)\n",
        "y_train_pred = knn.predict(X_train_BOW)\n",
        "y_test_pred = knn.predict(X_test_BOW)\n",
        "print(\"Train Accuracy : \",accuracy_score(y_train,y_train_pred))\n",
        "print(\"test_Accuracy : \" ,accuracy_score(y_test,y_test_pred))\n",
        "print(\"Train Precision : \",precision_score(y_train,y_train_pred))\n",
        "print(\"Test Precision : \",precision_score(y_test,y_test_pred))\n",
        "print(\"Train F1-score :\",f1_score(y_train , y_train_pred))\n",
        "print(\"Test F1-score :\",f1_score(y_test,y_test_pred))\n",
        "train_cm = confusion_matrix(y_train,y_train_pred)\n",
        "test_cm = confusion_matrix(y_test,y_test_pred)\n",
        "sns.heatmap(train_cm , annot = True)\n",
        "plt.title(\"Train Confusion Matrix\")\n",
        "plt.xlabel(\"Predicted Label\")\n",
        "plt.ylabel(\"Actual Label\")\n",
        "plt.show()\n",
        "sns.heatmap(test_cm, annot = True)\n",
        "plt.title(\"Test Confusion Matrix\")\n",
        "plt.xlabel(\"Predicted Label\")\n",
        "plt.ylabel(\"Actual Label\")\n",
        "plt.show()"
      ]
    },
    {
      "cell_type": "code",
      "execution_count": null,
      "metadata": {
        "colab": {
          "base_uri": "https://localhost:8080/",
          "height": 677
        },
        "id": "X9t2ni3TyVYM",
        "outputId": "f8feb120-b409-4dad-c46c-67db9070e88f"
      },
      "outputs": [
        {
          "output_type": "stream",
          "name": "stdout",
          "text": [
            "Train Accuracy :  0.6848030018761726\n",
            "test_Accuracy :  0.5875\n",
            "Train Precision :  0.9933110367892977\n",
            "Test Precision :  1.0\n",
            "Train F1-score : 0.5409836065573771\n",
            "Test F1-score : 0.2978723404255319\n"
          ]
        },
        {
          "output_type": "display_data",
          "data": {
            "text/plain": [
              "<Figure size 432x288 with 2 Axes>"
            ],
            "image/png": "[encoded data removed]"
          },
          "metadata": {
            "needs_background": "light"
          }
        },
        {
          "output_type": "display_data",
          "data": {
            "text/plain": [
              "<Figure size 432x288 with 2 Axes>"
            ],
            "image/png": "[encoded data removed]"
          },
          "metadata": {
            "needs_background": "light"
          }
        }
      ],
      "source": [
        "# KNN + BOW(ngram range = (1,2))\n",
        "from sklearn.neighbors import KNeighborsClassifier\n",
        "knn = KNeighborsClassifier()\n",
        "knn.fit(X_train_BOW_2,y_train)\n",
        "y_train_pred = knn.predict(X_train_BOW_2)\n",
        "y_test_pred = knn.predict(X_test_BOW_2)\n",
        "print(\"Train Accuracy : \",accuracy_score(y_train,y_train_pred))\n",
        "print(\"test_Accuracy : \" ,accuracy_score(y_test,y_test_pred))\n",
        "print(\"Train Precision : \",precision_score(y_train,y_train_pred))\n",
        "print(\"Test Precision : \",precision_score(y_test,y_test_pred))\n",
        "print(\"Train F1-score :\",f1_score(y_train , y_train_pred))\n",
        "print(\"Test F1-score :\",f1_score(y_test,y_test_pred))\n",
        "train_cm = confusion_matrix(y_train,y_train_pred)\n",
        "test_cm = confusion_matrix(y_test,y_test_pred)\n",
        "sns.heatmap(train_cm , annot = True)\n",
        "plt.title(\"Train Confusion Matrix\")\n",
        "plt.xlabel(\"Predicted Label\")\n",
        "plt.ylabel(\"Actual Label\")\n",
        "plt.show()\n",
        "sns.heatmap(test_cm, annot = True)\n",
        "plt.title(\"Test Confusion Matrix\")\n",
        "plt.xlabel(\"Predicted Label\")\n",
        "plt.ylabel(\"Actual Label\")\n",
        "plt.show()"
      ]
    },
    {
      "cell_type": "code",
      "execution_count": null,
      "metadata": {
        "colab": {
          "base_uri": "https://localhost:8080/",
          "height": 677
        },
        "id": "XqFJpTDO0fXF",
        "outputId": "318965d0-c30d-42d3-ac15-05f66a8f61e8"
      },
      "outputs": [
        {
          "output_type": "stream",
          "name": "stdout",
          "text": [
            "Train Accuracy :  0.632895559724828\n",
            "test_Accuracy :  0.58\n",
            "Train Precision :  0.9907407407407407\n",
            "Test Precision :  1.0\n",
            "Train F1-score : 0.4216748768472907\n",
            "Test F1-score : 0.2758620689655173\n"
          ]
        },
        {
          "output_type": "display_data",
          "data": {
            "text/plain": [
              "<Figure size 432x288 with 2 Axes>"
            ],
            "image/png": "[encoded data removed]"
          },
          "metadata": {
            "needs_background": "light"
          }
        },
        {
          "output_type": "display_data",
          "data": {
            "text/plain": [
              "<Figure size 432x288 with 2 Axes>"
            ],
            "image/png": "[encoded data removed]"
          },
          "metadata": {
            "needs_background": "light"
          }
        }
      ],
      "source": [
        "# KNN + TFIDF\n",
        "from sklearn.neighbors import KNeighborsClassifier\n",
        "knn = KNeighborsClassifier()\n",
        "knn.fit(X_train_TFIDF,y_train)\n",
        "y_train_pred = knn.predict(X_train_TFIDF)\n",
        "y_test_pred = knn.predict(X_test_TFIDF)\n",
        "print(\"Train Accuracy : \",accuracy_score(y_train,y_train_pred))\n",
        "print(\"test_Accuracy : \" ,accuracy_score(y_test,y_test_pred))\n",
        "print(\"Train Precision : \",precision_score(y_train,y_train_pred))\n",
        "print(\"Test Precision : \",precision_score(y_test,y_test_pred))\n",
        "print(\"Train F1-score :\",f1_score(y_train , y_train_pred))\n",
        "print(\"Test F1-score :\",f1_score(y_test,y_test_pred))\n",
        "train_cm = confusion_matrix(y_train,y_train_pred)\n",
        "test_cm = confusion_matrix(y_test,y_test_pred)\n",
        "sns.heatmap(train_cm , annot = True)\n",
        "plt.title(\"Train Confusion Matrix\")\n",
        "plt.xlabel(\"Predicted Label\")\n",
        "plt.ylabel(\"Actual Label\")\n",
        "plt.show()\n",
        "sns.heatmap(test_cm, annot = True)\n",
        "plt.title(\"Test Confusion Matrix\")\n",
        "plt.xlabel(\"Predicted Label\")\n",
        "plt.ylabel(\"Actual Label\")\n",
        "plt.show()"
      ]
    },
    {
      "cell_type": "markdown",
      "metadata": {
        "id": "0iTA7WlCRGFb"
      },
      "source": [
        "Random Forest"
      ]
    },
    {
      "cell_type": "code",
      "execution_count": null,
      "metadata": {
        "colab": {
          "base_uri": "https://localhost:8080/",
          "height": 677
        },
        "id": "RrTMFDHu0Tlx",
        "outputId": "2b843d25-0c92-47a1-8fc8-db66a386264e"
      },
      "outputs": [
        {
          "output_type": "stream",
          "name": "stdout",
          "text": [
            "Train Accuracy :  0.99812382739212\n",
            "test_Accuracy :  0.955\n",
            "Train Precision :  1.0\n",
            "Test Precision :  0.9840425531914894\n",
            "Train F1-score : 0.9981191222570532\n",
            "Test F1-score : 0.9536082474226805\n"
          ]
        },
        {
          "output_type": "display_data",
          "data": {
            "text/plain": [
              "<Figure size 432x288 with 2 Axes>"
            ],
            "image/png": "[encoded data removed]"
          },
          "metadata": {
            "needs_background": "light"
          }
        },
        {
          "output_type": "display_data",
          "data": {
            "text/plain": [
              "<Figure size 432x288 with 2 Axes>"
            ],
            "image/png": "[encoded data removed]"
          },
          "metadata": {
            "needs_background": "light"
          }
        }
      ],
      "source": [
        "#random forest + BOW\n",
        "from sklearn.ensemble import RandomForestClassifier\n",
        "rfc = RandomForestClassifier()\n",
        "rfc.fit(X_train_BOW , y_train)\n",
        "y_train_pred = rfc.predict(X_train_BOW)\n",
        "y_test_pred = rfc.predict(X_test_BOW)\n",
        "print(\"Train Accuracy : \",accuracy_score(y_train,y_train_pred))\n",
        "print(\"test_Accuracy : \" ,accuracy_score(y_test,y_test_pred))\n",
        "print(\"Train Precision : \",precision_score(y_train,y_train_pred))\n",
        "print(\"Test Precision : \",precision_score(y_test,y_test_pred))\n",
        "print(\"Train F1-score :\",f1_score(y_train , y_train_pred))\n",
        "print(\"Test F1-score :\",f1_score(y_test,y_test_pred))\n",
        "train_cm = confusion_matrix(y_train,y_train_pred)\n",
        "test_cm = confusion_matrix(y_test,y_test_pred)\n",
        "sns.heatmap(train_cm , annot = True)\n",
        "plt.title(\"Train Confusion Matrix\")\n",
        "plt.xlabel(\"Predicted Label\")\n",
        "plt.ylabel(\"Actual Label\")\n",
        "plt.show()\n",
        "sns.heatmap(test_cm, annot = True)\n",
        "plt.title(\"Test Confusion Matrix\")\n",
        "plt.xlabel(\"Predicted Label\")\n",
        "plt.ylabel(\"Actual Label\")\n",
        "plt.show()"
      ]
    },
    {
      "cell_type": "code",
      "execution_count": null,
      "metadata": {
        "colab": {
          "base_uri": "https://localhost:8080/",
          "height": 677
        },
        "id": "VmnYKSVk2YZg",
        "outputId": "ed11f8e9-75f4-43de-d6f3-3ce046c246ee"
      },
      "outputs": [
        {
          "output_type": "stream",
          "name": "stdout",
          "text": [
            "Train Accuracy :  0.9987492182614134\n",
            "test_Accuracy :  0.9375\n",
            "Train Precision :  1.0\n",
            "Test Precision :  0.9888268156424581\n",
            "Train F1-score : 0.9987468671679198\n",
            "Test F1-score : 0.9340369393139841\n"
          ]
        },
        {
          "output_type": "display_data",
          "data": {
            "text/plain": [
              "<Figure size 432x288 with 2 Axes>"
            ],
            "image/png": "[encoded data removed]"
          },
          "metadata": {
            "needs_background": "light"
          }
        },
        {
          "output_type": "display_data",
          "data": {
            "text/plain": [
              "<Figure size 432x288 with 2 Axes>"
            ],
            "image/png": "[encoded data removed]"
          },
          "metadata": {
            "needs_background": "light"
          }
        }
      ],
      "source": [
        "#random forest + BOW(ngram range = (1,2))\n",
        "from sklearn.ensemble import RandomForestClassifier\n",
        "rfc = RandomForestClassifier()\n",
        "rfc.fit(X_train_BOW_2 , y_train)\n",
        "y_train_pred = rfc.predict(X_train_BOW_2)\n",
        "y_test_pred = rfc.predict(X_test_BOW_2)\n",
        "print(\"Train Accuracy : \",accuracy_score(y_train,y_train_pred))\n",
        "print(\"test_Accuracy : \" ,accuracy_score(y_test,y_test_pred))\n",
        "print(\"Train Precision : \",precision_score(y_train,y_train_pred))\n",
        "print(\"Test Precision : \",precision_score(y_test,y_test_pred))\n",
        "print(\"Train F1-score :\",f1_score(y_train , y_train_pred))\n",
        "print(\"Test F1-score :\",f1_score(y_test,y_test_pred))\n",
        "train_cm = confusion_matrix(y_train,y_train_pred)\n",
        "test_cm = confusion_matrix(y_test,y_test_pred)\n",
        "sns.heatmap(train_cm , annot = True)\n",
        "plt.title(\"Train Confusion Matrix\")\n",
        "plt.xlabel(\"Predicted Label\")\n",
        "plt.ylabel(\"Actual Label\")\n",
        "plt.show()\n",
        "sns.heatmap(test_cm, annot = True)\n",
        "plt.title(\"Test Confusion Matrix\")\n",
        "plt.xlabel(\"Predicted Label\")\n",
        "plt.ylabel(\"Actual Label\")\n",
        "plt.show()"
      ]
    },
    {
      "cell_type": "code",
      "execution_count": null,
      "metadata": {
        "colab": {
          "base_uri": "https://localhost:8080/",
          "height": 677
        },
        "id": "EigN9iJF2w7t",
        "outputId": "924231af-5530-4d9b-f857-ef6a6c26b5a3"
      },
      "outputs": [
        {
          "output_type": "stream",
          "name": "stdout",
          "text": [
            "Train Accuracy :  0.99812382739212\n",
            "test_Accuracy :  0.945\n",
            "Train Precision :  1.0\n",
            "Test Precision :  0.9587628865979382\n",
            "Train F1-score : 0.9981191222570532\n",
            "Test F1-score : 0.9441624365482233\n"
          ]
        },
        {
          "output_type": "display_data",
          "data": {
            "text/plain": [
              "<Figure size 432x288 with 2 Axes>"
            ],
            "image/png": "[encoded data removed]"
          },
          "metadata": {
            "needs_background": "light"
          }
        },
        {
          "output_type": "display_data",
          "data": {
            "text/plain": [
              "<Figure size 432x288 with 2 Axes>"
            ],
            "image/png": "[encoded data removed]"
          },
          "metadata": {
            "needs_background": "light"
          }
        }
      ],
      "source": [
        "#random forest + TFIDF\n",
        "from sklearn.ensemble import RandomForestClassifier\n",
        "rfc = RandomForestClassifier()\n",
        "rfc.fit(X_train_TFIDF , y_train)\n",
        "y_train_pred = rfc.predict(X_train_TFIDF)\n",
        "y_test_pred = rfc.predict(X_test_TFIDF)\n",
        "print(\"Train Accuracy : \",accuracy_score(y_train,y_train_pred))\n",
        "print(\"test_Accuracy : \" ,accuracy_score(y_test,y_test_pred))\n",
        "print(\"Train Precision : \",precision_score(y_train,y_train_pred))\n",
        "print(\"Test Precision : \",precision_score(y_test,y_test_pred))\n",
        "print(\"Train F1-score :\",f1_score(y_train , y_train_pred))\n",
        "print(\"Test F1-score :\",f1_score(y_test,y_test_pred))\n",
        "train_cm = confusion_matrix(y_train,y_train_pred)\n",
        "test_cm = confusion_matrix(y_test,y_test_pred)\n",
        "sns.heatmap(train_cm , annot = True)\n",
        "plt.title(\"Train Confusion Matrix\")\n",
        "plt.xlabel(\"Predicted Label\")\n",
        "plt.ylabel(\"Actual Label\")\n",
        "plt.show()\n",
        "sns.heatmap(test_cm, annot = True)\n",
        "plt.title(\"Test Confusion Matrix\")\n",
        "plt.xlabel(\"Predicted Label\")\n",
        "plt.ylabel(\"Actual Label\")\n",
        "plt.show()"
      ]
    },
    {
      "cell_type": "markdown",
      "metadata": {
        "id": "6kNGDydqRO_j"
      },
      "source": [
        "XGboost"
      ]
    },
    {
      "cell_type": "code",
      "execution_count": null,
      "metadata": {
        "colab": {
          "base_uri": "https://localhost:8080/",
          "height": 677
        },
        "id": "35-wT7EJ3giP",
        "outputId": "27f86ad7-ec36-4562-ca05-03774cd13eff"
      },
      "outputs": [
        {
          "output_type": "stream",
          "name": "stdout",
          "text": [
            "Train Accuracy :  0.8999374609130707\n",
            "test_Accuracy :  0.8725\n",
            "Train Precision :  0.9597122302158273\n",
            "Test Precision :  0.9209039548022598\n",
            "Train F1-score : 0.892904953145917\n",
            "Test F1-score : 0.8647214854111405\n"
          ]
        },
        {
          "output_type": "display_data",
          "data": {
            "text/plain": [
              "<Figure size 432x288 with 2 Axes>"
            ],
            "image/png": "[encoded data removed]"
          },
          "metadata": {
            "needs_background": "light"
          }
        },
        {
          "output_type": "display_data",
          "data": {
            "text/plain": [
              "<Figure size 432x288 with 2 Axes>"
            ],
            "image/png": "[encoded data removed]"
          },
          "metadata": {
            "needs_background": "light"
          }
        }
      ],
      "source": [
        "# XGB + BOW\n",
        "from xgboost import XGBClassifier\n",
        "xgb = XGBClassifier()\n",
        "xgb.fit(X_train_BOW , y_train)\n",
        "y_train_pred = xgb.predict(X_train_BOW)\n",
        "y_test_pred = xgb.predict(X_test_BOW)\n",
        "print(\"Train Accuracy : \",accuracy_score(y_train,y_train_pred))\n",
        "print(\"test_Accuracy : \" ,accuracy_score(y_test,y_test_pred))\n",
        "print(\"Train Precision : \",precision_score(y_train,y_train_pred))\n",
        "print(\"Test Precision : \",precision_score(y_test,y_test_pred))\n",
        "print(\"Train F1-score :\",f1_score(y_train , y_train_pred))\n",
        "print(\"Test F1-score :\",f1_score(y_test,y_test_pred))\n",
        "train_cm = confusion_matrix(y_train,y_train_pred)\n",
        "test_cm = confusion_matrix(y_test,y_test_pred)\n",
        "sns.heatmap(train_cm , annot = True)\n",
        "plt.title(\"Train Confusion Matrix\")\n",
        "plt.xlabel(\"Predicted Label\")\n",
        "plt.ylabel(\"Actual Label\")\n",
        "plt.show()\n",
        "sns.heatmap(test_cm, annot = True)\n",
        "plt.title(\"Test Confusion Matrix\")\n",
        "plt.xlabel(\"Predicted Label\")\n",
        "plt.ylabel(\"Actual Label\")\n",
        "plt.show()"
      ]
    },
    {
      "cell_type": "code",
      "execution_count": null,
      "metadata": {
        "colab": {
          "base_uri": "https://localhost:8080/",
          "height": 677
        },
        "id": "D3I3POnO4b8u",
        "outputId": "6ddd23cf-a699-4e10-c360-e2cdc71012cd"
      },
      "outputs": [
        {
          "output_type": "stream",
          "name": "stdout",
          "text": [
            "Train Accuracy :  0.8980612883051907\n",
            "test_Accuracy :  0.875\n",
            "Train Precision :  0.9555873925501432\n",
            "Test Precision :  0.9166666666666666\n",
            "Train F1-score : 0.8911155644622578\n",
            "Test F1-score : 0.8684210526315789\n"
          ]
        },
        {
          "output_type": "display_data",
          "data": {
            "text/plain": [
              "<Figure size 432x288 with 2 Axes>"
            ],
            "image/png": "[encoded data removed]"
          },
          "metadata": {
            "needs_background": "light"
          }
        },
        {
          "output_type": "display_data",
          "data": {
            "text/plain": [
              "<Figure size 432x288 with 2 Axes>"
            ],
            "image/png": "[encoded data removed]"
          },
          "metadata": {
            "needs_background": "light"
          }
        }
      ],
      "source": [
        "# XGB + BOW(ngram_range = (1,2))\n",
        "from xgboost import XGBClassifier\n",
        "xgb = XGBClassifier()\n",
        "xgb.fit(X_train_BOW_2 , y_train)\n",
        "y_train_pred = xgb.predict(X_train_BOW_2)\n",
        "y_test_pred = xgb.predict(X_test_BOW_2)\n",
        "print(\"Train Accuracy : \",accuracy_score(y_train,y_train_pred))\n",
        "print(\"test_Accuracy : \" ,accuracy_score(y_test,y_test_pred))\n",
        "print(\"Train Precision : \",precision_score(y_train,y_train_pred))\n",
        "print(\"Test Precision : \",precision_score(y_test,y_test_pred))\n",
        "print(\"Train F1-score :\",f1_score(y_train , y_train_pred))\n",
        "print(\"Test F1-score :\",f1_score(y_test,y_test_pred))\n",
        "train_cm = confusion_matrix(y_train,y_train_pred)\n",
        "test_cm = confusion_matrix(y_test,y_test_pred)\n",
        "sns.heatmap(train_cm , annot = True)\n",
        "plt.title(\"Train Confusion Matrix\")\n",
        "plt.xlabel(\"Predicted Label\")\n",
        "plt.ylabel(\"Actual Label\")\n",
        "plt.show()\n",
        "sns.heatmap(test_cm, annot = True)\n",
        "plt.title(\"Test Confusion Matrix\")\n",
        "plt.xlabel(\"Predicted Label\")\n",
        "plt.ylabel(\"Actual Label\")\n",
        "plt.show()"
      ]
    },
    {
      "cell_type": "code",
      "execution_count": null,
      "metadata": {
        "colab": {
          "base_uri": "https://localhost:8080/",
          "height": 677
        },
        "id": "5G05h3wW4qDA",
        "outputId": "ba074b84-e494-424a-fa12-6ddc073310e4"
      },
      "outputs": [
        {
          "output_type": "stream",
          "name": "stdout",
          "text": [
            "Train Accuracy :  0.99812382739212\n",
            "test_Accuracy :  0.945\n",
            "Train Precision :  1.0\n",
            "Test Precision :  0.9587628865979382\n",
            "Train F1-score : 0.9981191222570532\n",
            "Test F1-score : 0.9441624365482233\n"
          ]
        },
        {
          "output_type": "display_data",
          "data": {
            "text/plain": [
              "<Figure size 432x288 with 2 Axes>"
            ],
            "image/png": "[encoded data removed]"
          },
          "metadata": {
            "needs_background": "light"
          }
        },
        {
          "output_type": "display_data",
          "data": {
            "text/plain": [
              "<Figure size 432x288 with 2 Axes>"
            ],
            "image/png": "[encoded data removed]"
          },
          "metadata": {
            "needs_background": "light"
          }
        }
      ],
      "source": [
        "# XGB + TFIDF\n",
        "from xgboost import XGBClassifier\n",
        "xgb = XGBClassifier()\n",
        "xgb.fit(X_train_TFIDF , y_train)\n",
        "y_train_pred = rfc.predict(X_train_TFIDF)\n",
        "y_test_pred = rfc.predict(X_test_TFIDF)\n",
        "print(\"Train Accuracy : \",accuracy_score(y_train,y_train_pred))\n",
        "print(\"test_Accuracy : \",accuracy_score(y_test,y_test_pred))\n",
        "print(\"Train Precision : \",precision_score(y_train,y_train_pred))\n",
        "print(\"Test Precision : \",precision_score(y_test,y_test_pred))\n",
        "print(\"Train F1-score :\",f1_score(y_train , y_train_pred))\n",
        "print(\"Test F1-score :\",f1_score(y_test,y_test_pred))\n",
        "train_cm = confusion_matrix(y_train,y_train_pred)\n",
        "test_cm = confusion_matrix(y_test,y_test_pred)\n",
        "sns.heatmap(train_cm , annot = True)\n",
        "plt.title(\"Train Confusion Matrix\")\n",
        "plt.xlabel(\"Predicted Label\")\n",
        "plt.ylabel(\"Actual Label\")\n",
        "plt.show()\n",
        "sns.heatmap(test_cm, annot = True)\n",
        "plt.title(\"Test Confusion Matrix\")\n",
        "plt.xlabel(\"Predicted Label\")\n",
        "plt.ylabel(\"Actual Label\")\n",
        "plt.show()\n"
      ]
    },
    {
      "cell_type": "markdown",
      "metadata": {
        "id": "-9qAV0iVRU_1"
      },
      "source": [
        "Extra Trees Classifier"
      ]
    },
    {
      "cell_type": "code",
      "execution_count": null,
      "metadata": {
        "colab": {
          "base_uri": "https://localhost:8080/",
          "height": 677
        },
        "id": "YaBNgb_WOdJq",
        "outputId": "335df0b0-5622-4b29-a4da-19a101b67441"
      },
      "outputs": [
        {
          "output_type": "stream",
          "name": "stdout",
          "text": [
            "Train Accuracy :  0.99812382739212\n",
            "test_Accuracy :  0.9525\n",
            "Train Precision :  1.0\n",
            "Test Precision :  0.9641025641025641\n",
            "Train F1-score : 0.9981191222570532\n",
            "Test F1-score : 0.9518987341772152\n"
          ]
        },
        {
          "output_type": "display_data",
          "data": {
            "text/plain": [
              "<Figure size 432x288 with 2 Axes>"
            ],
            "image/png": "[encoded data removed]"
          },
          "metadata": {
            "needs_background": "light"
          }
        },
        {
          "output_type": "display_data",
          "data": {
            "text/plain": [
              "<Figure size 432x288 with 2 Axes>"
            ],
            "image/png": "[encoded data removed]"
          },
          "metadata": {
            "needs_background": "light"
          }
        }
      ],
      "source": [
        "# Extra Trees Classifer + BOW\n",
        "from sklearn.ensemble import ExtraTreesClassifier\n",
        "etc = ExtraTreesClassifier()\n",
        "etc.fit(X_train_BOW,y_train)\n",
        "y_train_pred = etc.predict(X_train_BOW)\n",
        "y_test_pred = etc.predict(X_test_BOW)\n",
        "print(\"Train Accuracy : \",accuracy_score(y_train,y_train_pred))\n",
        "print(\"test_Accuracy : \" ,accuracy_score(y_test,y_test_pred))\n",
        "print(\"Train Precision : \",precision_score(y_train,y_train_pred))\n",
        "print(\"Test Precision : \",precision_score(y_test,y_test_pred))\n",
        "print(\"Train F1-score :\",f1_score(y_train , y_train_pred))\n",
        "print(\"Test F1-score :\",f1_score(y_test,y_test_pred))\n",
        "train_cm = confusion_matrix(y_train,y_train_pred)\n",
        "test_cm = confusion_matrix(y_test,y_test_pred)\n",
        "sns.heatmap(train_cm , annot = True)\n",
        "plt.title(\"Train Confusion Matrix\")\n",
        "plt.xlabel(\"Predicted Label\")\n",
        "plt.ylabel(\"Actual Label\")\n",
        "plt.show()\n",
        "sns.heatmap(test_cm, annot = True)\n",
        "plt.title(\"Test Confusion Matrix\")\n",
        "plt.xlabel(\"Predicted Label\")\n",
        "plt.ylabel(\"Actual Label\")\n",
        "plt.show()"
      ]
    },
    {
      "cell_type": "code",
      "execution_count": null,
      "metadata": {
        "colab": {
          "base_uri": "https://localhost:8080/",
          "height": 677
        },
        "id": "3kXv25DpQ1QE",
        "outputId": "a6ea2f2c-71b7-44ea-d786-5d20b55b46f0"
      },
      "outputs": [
        {
          "output_type": "stream",
          "name": "stdout",
          "text": [
            "Train Accuracy :  0.9987492182614134\n",
            "test_Accuracy :  0.9275\n",
            "Train Precision :  1.0\n",
            "Test Precision :  0.9723756906077348\n",
            "Train F1-score : 0.9987468671679198\n",
            "Test F1-score : 0.9238845144356955\n"
          ]
        },
        {
          "output_type": "display_data",
          "data": {
            "text/plain": [
              "<Figure size 432x288 with 2 Axes>"
            ],
            "image/png": "[encoded data removed]"
          },
          "metadata": {
            "needs_background": "light"
          }
        },
        {
          "output_type": "display_data",
          "data": {
            "text/plain": [
              "<Figure size 432x288 with 2 Axes>"
            ],
            "image/png": "[encoded data removed]"
          },
          "metadata": {
            "needs_background": "light"
          }
        }
      ],
      "source": [
        "# Extra Trees Classifer + BOW(ngram range = (1,2))\n",
        "from sklearn.ensemble import ExtraTreesClassifier\n",
        "etc = ExtraTreesClassifier()\n",
        "etc.fit(X_train_BOW_2,y_train)\n",
        "y_train_pred = etc.predict(X_train_BOW_2)\n",
        "y_test_pred = etc.predict(X_test_BOW_2)\n",
        "print(\"Train Accuracy : \",accuracy_score(y_train,y_train_pred))\n",
        "print(\"test_Accuracy : \" ,accuracy_score(y_test,y_test_pred))\n",
        "print(\"Train Precision : \",precision_score(y_train,y_train_pred))\n",
        "print(\"Test Precision : \",precision_score(y_test,y_test_pred))\n",
        "print(\"Train F1-score :\",f1_score(y_train , y_train_pred))\n",
        "print(\"Test F1-score :\",f1_score(y_test,y_test_pred))\n",
        "train_cm = confusion_matrix(y_train,y_train_pred)\n",
        "test_cm = confusion_matrix(y_test,y_test_pred)\n",
        "sns.heatmap(train_cm , annot = True)\n",
        "plt.title(\"Train Confusion Matrix\")\n",
        "plt.xlabel(\"Predicted Label\")\n",
        "plt.ylabel(\"Actual Label\")\n",
        "plt.show()\n",
        "sns.heatmap(test_cm, annot = True)\n",
        "plt.title(\"Test Confusion Matrix\")\n",
        "plt.xlabel(\"Predicted Label\")\n",
        "plt.ylabel(\"Actual Label\")\n",
        "plt.show()"
      ]
    },
    {
      "cell_type": "code",
      "execution_count": null,
      "metadata": {
        "colab": {
          "base_uri": "https://localhost:8080/",
          "height": 677
        },
        "id": "ca4scNevRDHa",
        "outputId": "f9f8989f-5770-4fc7-cefb-538186c074fb"
      },
      "outputs": [
        {
          "output_type": "stream",
          "name": "stdout",
          "text": [
            "Train Accuracy :  0.99812382739212\n",
            "test_Accuracy :  0.955\n",
            "Train Precision :  1.0\n",
            "Test Precision :  0.9504950495049505\n",
            "Train F1-score : 0.9981191222570532\n",
            "Test F1-score : 0.9552238805970149\n"
          ]
        },
        {
          "output_type": "display_data",
          "data": {
            "text/plain": [
              "<Figure size 432x288 with 2 Axes>"
            ],
            "image/png": "[encoded data removed]"
          },
          "metadata": {
            "needs_background": "light"
          }
        },
        {
          "output_type": "display_data",
          "data": {
            "text/plain": [
              "<Figure size 432x288 with 2 Axes>"
            ],
            "image/png": "[encoded data removed]"
          },
          "metadata": {
            "needs_background": "light"
          }
        }
      ],
      "source": [
        "# Extra Trees Classifer + TFIDF\n",
        "from sklearn.ensemble import ExtraTreesClassifier\n",
        "etc = ExtraTreesClassifier()\n",
        "etc.fit(X_train_TFIDF,y_train)\n",
        "y_train_pred = etc.predict(X_train_TFIDF)\n",
        "y_test_pred = etc.predict(X_test_TFIDF)\n",
        "print(\"Train Accuracy : \",accuracy_score(y_train,y_train_pred))\n",
        "print(\"test_Accuracy : \" ,accuracy_score(y_test,y_test_pred))\n",
        "print(\"Train Precision : \",precision_score(y_train,y_train_pred))\n",
        "print(\"Test Precision : \",precision_score(y_test,y_test_pred))\n",
        "print(\"Train F1-score :\",f1_score(y_train , y_train_pred))\n",
        "print(\"Test F1-score :\",f1_score(y_test,y_test_pred))\n",
        "train_cm = confusion_matrix(y_train,y_train_pred)\n",
        "test_cm = confusion_matrix(y_test,y_test_pred)\n",
        "sns.heatmap(train_cm , annot = True)\n",
        "plt.title(\"Train Confusion Matrix\")\n",
        "plt.xlabel(\"Predicted Label\")\n",
        "plt.ylabel(\"Actual Label\")\n",
        "plt.show()\n",
        "sns.heatmap(test_cm, annot = True)\n",
        "plt.title(\"Test Confusion Matrix\")\n",
        "plt.xlabel(\"Predicted Label\")\n",
        "plt.ylabel(\"Actual Label\")\n",
        "plt.show()"
      ]
    },
    {
      "cell_type": "code",
      "execution_count": null,
      "metadata": {
        "id": "8fC8JxM4mXPp"
      },
      "outputs": [],
      "source": [
        "# Tfidf + preprocessed_length\n",
        "X_train_TFIDF= hstack([X_train_tfidf,X_train['preprocessed_length'].values.reshape(-1,1)]).toarray()\n",
        "X_test_TFIDF = hstack([X_test_tfidf,X_test['preprocessed_length'].values.reshape(-1,1)]).toarray()\n",
        "print(X_train_TFIDF.shape)\n",
        "print(X_test_TFIDF.shape)"
      ]
    },
    {
      "cell_type": "code",
      "execution_count": null,
      "metadata": {
        "id": "aQAygZoonFWJ"
      },
      "outputs": [],
      "source": [
        "# import GridSearchCV\n",
        "from sklearn.model_selection import GridSearchCV\n",
        "from sklearn.ensemble import ExtraTreesClassifier\n",
        "# create a LogisticsRegression instance\n",
        "etc = ExtraTreesClassifier(random_state = 42)\n",
        "\n",
        "# define parameters grid\n",
        "parameters = [\n",
        "    {\n",
        "        'max_depth': [10, 20, 30, 40, 50, 60, 70, 80, 90, 100, None],\n",
        " 'max_features': ['auto', 'sqrt'],\n",
        " 'min_samples_leaf': [1, 2, 4],\n",
        " 'min_samples_split': [2, 5, 10],\n",
        " 'n_estimators': [50,100,150,200, 400, 600, 800, 1000, 1200]\n",
        "    }\n",
        "]\n",
        "\n",
        "# Define GridSearchCV\n",
        "grid_search = GridSearchCV(etc, param_grid = parameters)\n",
        "\n",
        "# fit GridSearchCV\n",
        "model = grid_search.fit(X_train_TFIDF,y_train)\n",
        "\n",
        "# find the best estimator \n",
        "print (model.best_estimator_)\n",
        "\n",
        "# predict y values\n",
        "# y_pred = model.predict(X_test)"
      ]
    },
    {
      "cell_type": "code",
      "execution_count": null,
      "metadata": {
        "id": "eYfi4BHak0MZ"
      },
      "outputs": [],
      "source": [
        "# Extra Trees Classifer + TFIDF\n",
        "from sklearn.ensemble import ExtraTreesClassifier\n",
        "etc = ExtraTreesClassifier(n_estimators = 250)\n",
        "etc.fit(X_train_TFIDF,y_train)\n",
        "y_train_pred = etc.predict(X_train_TFIDF)\n",
        "y_test_pred = etc.predict(X_test_TFIDF)\n",
        "print(\"Train Accuracy : \",accuracy_score(y_train,y_train_pred))\n",
        "print(\"test_Accuracy : \" ,accuracy_score(y_test,y_test_pred))\n",
        "print(\"Train Precision : \",precision_score(y_train,y_train_pred))\n",
        "print(\"Test Precision : \",precision_score(y_test,y_test_pred))\n",
        "print(\"Train F1-score :\",f1_score(y_train , y_train_pred))\n",
        "print(\"Test F1-score :\",f1_score(y_test,y_test_pred))\n",
        "train_cm = confusion_matrix(y_train,y_train_pred)\n",
        "test_cm = confusion_matrix(y_test,y_test_pred)\n",
        "sns.heatmap(train_cm , annot = True)\n",
        "plt.title(\"Train Confusion Matrix\")\n",
        "plt.xlabel(\"Predicted Label\")\n",
        "plt.ylabel(\"Actual Label\")\n",
        "plt.show()\n",
        "sns.heatmap(test_cm, annot = True)\n",
        "plt.title(\"Test Confusion Matrix\")\n",
        "plt.xlabel(\"Predicted Label\")\n",
        "plt.ylabel(\"Actual Label\")\n",
        "plt.show()"
      ]
    },
    {
      "cell_type": "markdown",
      "metadata": {
        "id": "1_IWE_EERegK"
      },
      "source": [
        "Modelling on Balanced Dataset"
      ]
    },
    {
      "cell_type": "code",
      "execution_count": null,
      "metadata": {
        "id": "HDaOvZXjtBVz"
      },
      "outputs": [],
      "source": [
        "# Balancing dataset\n",
        "import numpy as np\n",
        "from collections import Counter\n",
        "import matplotlib.pyplot as plt\n",
        "import seaborn as sns\n",
        "# The dataset is imbalanced\n",
        "# Random oversampling duplicates examples from the minority class in the training dataset\n",
        "from imblearn.over_sampling import RandomOverSampler\n",
        "os=RandomOverSampler(0.93)\n",
        "X_new,y_new=os.fit_resample(X,y)"
      ]
    },
    {
      "cell_type": "code",
      "execution_count": null,
      "metadata": {
        "id": "owwriDi_FpN5"
      },
      "outputs": [],
      "source": [
        "print(X_new.shape)\n",
        "print(y_new.shape)"
      ]
    },
    {
      "cell_type": "code",
      "execution_count": null,
      "metadata": {
        "id": "TWKMul36uvEQ",
        "colab": {
          "base_uri": "https://localhost:8080/",
          "height": 183
        },
        "outputId": "df1face4-1016-460c-dda8-9cd97257304e"
      },
      "outputs": [
        {
          "output_type": "error",
          "ename": "NameError",
          "evalue": "ignored",
          "traceback": [
            "\u001b[0;31m---------------------------------------------------------------------------\u001b[0m",
            "\u001b[0;31mNameError\u001b[0m                                 Traceback (most recent call last)",
            "\u001b[0;32m<ipython-input-120-207ab915ddba>\u001b[0m in \u001b[0;36m<module>\u001b[0;34m\u001b[0m\n\u001b[1;32m      1\u001b[0m \u001b[0;31m# Train test split\u001b[0m\u001b[0;34m\u001b[0m\u001b[0;34m\u001b[0m\u001b[0;34m\u001b[0m\u001b[0m\n\u001b[0;32m----> 2\u001b[0;31m \u001b[0mX_train\u001b[0m\u001b[0;34m,\u001b[0m\u001b[0mX_test\u001b[0m\u001b[0;34m,\u001b[0m\u001b[0my_train\u001b[0m\u001b[0;34m,\u001b[0m\u001b[0my_test\u001b[0m \u001b[0;34m=\u001b[0m \u001b[0mtrain_test_split\u001b[0m\u001b[0;34m(\u001b[0m\u001b[0mX_new\u001b[0m\u001b[0;34m,\u001b[0m\u001b[0my_new\u001b[0m\u001b[0;34m,\u001b[0m\u001b[0mtest_size\u001b[0m\u001b[0;34m=\u001b[0m\u001b[0;36m0.22\u001b[0m\u001b[0;34m,\u001b[0m\u001b[0mrandom_state\u001b[0m\u001b[0;34m=\u001b[0m\u001b[0;36m2\u001b[0m\u001b[0;34m,\u001b[0m\u001b[0mstratify\u001b[0m \u001b[0;34m=\u001b[0m \u001b[0my_new\u001b[0m \u001b[0;34m)\u001b[0m\u001b[0;34m\u001b[0m\u001b[0;34m\u001b[0m\u001b[0m\n\u001b[0m",
            "\u001b[0;31mNameError\u001b[0m: name 'X_new' is not defined"
          ]
        }
      ],
      "source": [
        "# Train test split\n",
        "X_train,X_test,y_train,y_test = train_test_split(X_new,y_new,test_size=0.22,random_state=2,stratify = y_new )"
      ]
    },
    {
      "cell_type": "code",
      "execution_count": null,
      "metadata": {
        "id": "X-uStW2qupvx"
      },
      "outputs": [],
      "source": [
        "# Tfidf Vectorizer\n",
        "tfidf = TfidfVectorizer()\n",
        "tfidf_vec = tfidf.fit(X_train['preprocessed_text'].values.astype('U'))\n",
        "X_train_tfidf = tfidf_vec.transform(X_train['preprocessed_text'].values.astype('U'))\n",
        "X_test_tfidf = tfidf_vec.transform(X_test['preprocessed_text'].values.astype('U'))"
      ]
    },
    {
      "cell_type": "code",
      "execution_count": null,
      "metadata": {
        "id": "fRqXZ9tGuNyM"
      },
      "outputs": [],
      "source": [
        "# Tfidf + Numerical features\n",
        "X_train_TFIDF= hstack([X_train_tfidf,X_train['preprocessed_length'].values.reshape(-1,1),X_train['digits_count'].values.reshape(-1,1)]).toarray()\n",
        "X_test_TFIDF = hstack([X_test_tfidf,X_test['preprocessed_length'].values.reshape(-1,1),X_test['digits_count'].values.reshape(-1,1)]).toarray()\n",
        "print(X_train_TFIDF.shape)\n",
        "print(X_test_TFIDF.shape)"
      ]
    },
    {
      "cell_type": "code",
      "execution_count": null,
      "metadata": {
        "id": "c3Xx5dF1vEvK"
      },
      "outputs": [],
      "source": [
        "# Extra Trees Classifer + TFIDF(with balanced dataset)\n",
        "from sklearn.ensemble import ExtraTreesClassifier\n",
        "etc = ExtraTreesClassifier()\n",
        "etc.fit(X_train_TFIDF,y_train)\n",
        "y_train_pred = etc.predict(X_train_TFIDF)\n",
        "y_test_pred = etc.predict(X_test_TFIDF)\n",
        "print(\"Train Accuracy : \",accuracy_score(y_train,y_train_pred))\n",
        "print(\"test_Accuracy : \" ,accuracy_score(y_test,y_test_pred))\n",
        "print(\"Train Precision : \",precision_score(y_train,y_train_pred))\n",
        "print(\"Test Precision : \",precision_score(y_test,y_test_pred))\n",
        "print(\"Train F1-score :\",f1_score(y_train , y_train_pred))\n",
        "print(\"Test F1-score :\",f1_score(y_test,y_test_pred))\n",
        "train_cm = confusion_matrix(y_train,y_train_pred)\n",
        "test_cm = confusion_matrix(y_test,y_test_pred)\n",
        "sns.heatmap(train_cm , annot = True)\n",
        "plt.title(\"Train Confusion Matrix\")\n",
        "plt.xlabel(\"Predicted Label\")\n",
        "plt.ylabel(\"Actual Label\")\n",
        "plt.show()\n",
        "sns.heatmap(test_cm, annot = True)\n",
        "plt.title(\"Test Confusion Matrix\")\n",
        "plt.xlabel(\"Predicted Label\")\n",
        "plt.ylabel(\"Actual Label\")\n",
        "plt.show()"
      ]
    },
    {
      "cell_type": "markdown",
      "metadata": {
        "id": "aNagDDDrR5wr"
      },
      "source": [
        "Prediction"
      ]
    },
    {
      "cell_type": "code",
      "execution_count": null,
      "metadata": {
        "id": "0MkhPPrASyKx"
      },
      "outputs": [],
      "source": [
        "import base64\n",
        "import pickle\n",
        "import string\n",
        "from nltk.corpus import stopwords\n",
        "import nltk\n",
        "from nltk.stem.porter import PorterStemmer\n",
        "import pandas as pd\n",
        "import numpy as np\n",
        "import nltk\n",
        "nltk.download('punkt')\n",
        "import re\n",
        "\n",
        "import string\n",
        "nltk.download('stopwords')\n",
        "from nltk.corpus import stopwords\n",
        "from scipy.sparse import hstack\n",
        "ps = PorterStemmer()\n",
        "def data_preprocessing(text):\n",
        "    '''\n",
        "    Function to prepreocess and clean the data\n",
        "    '''\n",
        "\n",
        "    # lowercasing the text\n",
        "    text = text.lower()\n",
        "\n",
        "    # Expanding Contractions(Decontractions)\n",
        "    def decontracted(text):\n",
        "        '''\n",
        "        Function to expand the contractions\n",
        "        '''\n",
        "        # specific\n",
        "        text = re.sub(r\"won't\", \"will not\", text)\n",
        "        text = re.sub(r\"can\\'t\", \"can not\", text)\n",
        "\n",
        "        # general\n",
        "        text = re.sub(r\"n\\'t\", \" not\", text)\n",
        "        text = re.sub(r\"\\'re\", \" are\", text)\n",
        "        text = re.sub(r\"\\'s\", \" is\", text)\n",
        "        text = re.sub(r\"\\'d\", \" would\", text)\n",
        "        text = re.sub(r\"\\'ll\", \" will\", text)\n",
        "        text = re.sub(r\"\\'t\", \" not\", text)\n",
        "        text = re.sub(r\"\\'ve\", \" have\", text)\n",
        "        text = re.sub(r\"\\'m\", \" am\", text)\n",
        "        return text\n",
        "    text = decontracted(text)\n",
        "\n",
        "    # remove text in square brackets\n",
        "    text = re.sub('\\[.*?\\]', '', text)\n",
        "\n",
        "    # remove links\n",
        "    text = re.sub('https?://\\S+|www\\.\\S+', '', text)\n",
        "\n",
        "    # remove punctuation and special characters\n",
        "    def remove_punctuation(text):\n",
        "        '''\n",
        "        Function to remove special character and punctuation from text\n",
        "        '''\n",
        "        text = nltk.word_tokenize(text)\n",
        "        lst = []\n",
        "        for i in text:\n",
        "            if i not in string.punctuation:\n",
        "                lst.append(i)\n",
        "        text = lst[:]\n",
        "        return ' '.join(lst)\n",
        "    text = remove_punctuation(text)\n",
        "\n",
        "    # remove stopwords\n",
        "    def remove_stopwords(text):\n",
        "        '''\n",
        "        Function to rmove stopwords from a given text\n",
        "        '''\n",
        "        lst = []\n",
        "        for char in text.split():\n",
        "            if char not in stopwords.words('english'):\n",
        "                lst.append(char)\n",
        "        return ' '.join(lst)\n",
        "\n",
        "    text = remove_stopwords(text)\n",
        "\n",
        "    # remove digits\n",
        "    def remove_digits(text):\n",
        "        '''\n",
        "        Fuction to remove digits from a given text\n",
        "        '''\n",
        "        lst = []\n",
        "        for char in text:\n",
        "            if not char.isdigit():\n",
        "                lst.append(char)\n",
        "        return ''.join(lst)\n",
        "    text = remove_digits(text)\n",
        "\n",
        "    # remove everything except alphabet\n",
        "    text = re.sub(r'[^a-zA-Z ]+', '', text)\n",
        "\n",
        "    # remove extra spaces from the text\n",
        "    text = re.sub(' +', ' ', text)\n",
        "\n",
        "    # Stemming\n",
        "    text = ' '.join(ps.stem(word) for word in text.split(' '))\n",
        "\n",
        "    return text"
      ]
    },
    {
      "cell_type": "markdown",
      "metadata": {
        "id": "kUze_XNlR4r6"
      },
      "source": []
    },
    {
      "cell_type": "code",
      "execution_count": null,
      "metadata": {
        "id": "jmzuhK3pMu24"
      },
      "outputs": [],
      "source": [
        "  # Prediction \n",
        "  msg = input(\"Enter the Message : \")\n",
        "  print(\"Message : {}\".format(msg))\n",
        "  preprocessed_message = data_preprocessing(msg)\n",
        "  vectorizer = tfidf_vec.transform([preprocessed_message])\n",
        "  def digits_count(string):\n",
        "        '''\n",
        "        Function to compute number of digits in a given text\n",
        "        '''\n",
        "        digit_count = 0\n",
        "        for i in range(len(string)):\n",
        "            if (string[i].isalpha()):\n",
        "                continue\n",
        "            elif (string[i].isdigit()):\n",
        "                digit_count += 1\n",
        "            elif (string[i] == ' '):\n",
        "                continue\n",
        "            else:\n",
        "                continue\n",
        "        return digit_count\n",
        "\n",
        "  length = len(preprocessed_message)\n",
        "  digits = digits_count(msg)\n",
        "  features = hstack([vectorizer,length,digits]).toarray()\n",
        "  result = etc.predict(features)[0]\n",
        "  probability_spam = etc.predict_proba(features)[0][1]\n",
        "  probability_ham = etc.predict_proba(features)[0][0]\n",
        "\n",
        "  if result == 0:\n",
        "    print(\"This is NOT a spam message\")\n",
        "    print(\"probability of ham : {}\",probability_ham)\n",
        "  else:\n",
        "    print(\"This is the SPAM message\")\n",
        "    print(\"Probability of spam : \", probability_spam)"
      ]
    },
    {
      "cell_type": "code",
      "execution_count": null,
      "metadata": {
        "id": "Ba7LL8nHaDYc"
      },
      "outputs": [],
      "source": [
        "from prettytable import PrettyTable\n",
        "  \n",
        "# Specify the Column Names while initializing the Table\n",
        "myTable = PrettyTable([\"Classifier\", \"Data\", \"Train Accuracy\", \"Test Accuracy\", \"Train Precision\", \"Test Precision\",\"Train F1-score\", \"Test F1-score\"])\n",
        "  \n",
        "# Add rows\n",
        "myTable.add_row([\"Gaussian Naive Bayes\",\"Numerical Features + BOW\" ,\"0.9315\", \"0.8820\", \"0.6484\", \"0.5198\",\"0.7867\",\"0.6592\"])\n",
        "myTable.add_row([\"Gaussian Naive Bayes\",\"Numerical Features + BOW(Bi-gram)\",\"0.9859\",\"0.9284\", \"0.9\", \"0.6401\",\"0.9473\",\"0.7730\",])\n",
        "myTable.add_row([\"Gaussian Naive Bayes\", \"Numrical Features + TFIDF\", \"0.9339\", \"0.8839\",\"0.6566\",\"0.5246\",\"0.7927\",\"0.6610\"])\n",
        "myTable.add_row([\"Multinomial Naive Bayes\", \"Numerical Features + BOW\", \"0.9862\", \"0.9845\",\"0.9567\",\"0.9457\",\"0.9447\",\"0.9384\"])\n",
        "myTable.add_row([\"Multinomial Naive Bayes\", \"Numerical Features + BOW(Bi-gram)\", \"0.9912\", \"0.9806\",\"0.9821\",\"0.9586\",\"0.9649\",\"0.9206\"])\n",
        "myTable.add_row([\"Multinomial Naive Bayes\",\"Numerical Features + TFIDF\" ,\"0.9685\", \"0.9748\", \"0.9100\", \"0.9411\",\"0.87\",\"0.896\"])\n",
        "myTable.add_row([\"Bernoulli Naive Bayes\", \"Numerical Features + BOW\", \"0.9828\", \"0.9806\",\"0.9870\",\"1.0\",\"0.9279\",\"0.9173\"])\n",
        "myTable.add_row([\"Bernoulli Naive Bayes\", \"Numerical Features + BOW(Bi-gram)\", \"0.9567\", \"0.9245\",\"0.9803\",\"1.0\",\"0.7963\",\"0.5760\"])\n",
        "myTable.add_row([\"Bernoulli Naive Bayes\",\"Numerical Features + TFIDF\" ,\"0.9828\", \"0.9806\", \"0.9870\", \"1.0\",\"0.9279\",\"0.9173\"])\n",
        "myTable.add_row([\"Logistic Regression\", \"Numerical Features + BOW\", \"0.9552\", \"0.9574\",\"0.9884\",\"0.9780\",\"0.7866\",\"0.8018\"])\n",
        "myTable.add_row([\"Logistic Regression\", \"Numerical Features + BOW(Bi-gram)\", \"0.9748\", \"0.9738\",\"0.9644\",\"0.9561\",\"0.8930\",\"0.8897\"])\n",
        "myTable.add_row([\"Logistic Regression\",\"Numerical Features + TFIDF\" ,\"0.9579\", \"0.9593\", \"0.7939\", \"0.7870\",\"0.8438\",\"0.8531\"])\n",
        "myTable.add_row([\"SVM\", \"Numerical Features + BOW\", \"0.9615\", \"0.9661\",\"0.9892\",\"0.9897\",\"0.8219\",\"0.8471\"])\n",
        "myTable.add_row([\"SVM\", \"Numerical Features + BOW(Bi-gram)\", \"0.9615\", \"0.9661\",\"0.9892\",\"0.9897\",\"0.8219\",\"0.8471\"])\n",
        "myTable.add_row([\"SVM\",\"Numerical Features + TFIDF\" ,\"0.9613\", \"0.9661\", \"0.9865\", \"0.9897\",\"0.8210\",\"0.8471\"])\n",
        "myTable.add_row([\"KNN\", \"Numerical Features + BOW\", \"0.9782\", \"0.9787\",\"0.9556\",\"0.9430\",\"0.9096\",\"0.9133\"])\n",
        "myTable.add_row([\"KNN\", \"Numerical Features + BOW(Bi-gram)\", \"0.9792\", \"0.9796\",\"0.9560\",\"0.9365\",\"0.9139\",\"0.9182\"])\n",
        "myTable.add_row([\"KNN\",\"Numerical Features + TFIDF\" ,\"0.9779\", \"0.9748\", \"0.9614\", \"0.9411\",\"0.9079\",\"0.8960\"])\n",
        "myTable.add_row([\"Random Forest\", \"Numerical Features + BOW\", \"1.0\", \"0.9893\",\"1.0\",\"0.9838\",\"1.0\",\"0.9568\"])\n",
        "myTable.add_row([\"Random Forest\", \"Numerical Features + BOW(Bi-gram)\", \"1.0\", \"0.9874\",\"1.0\",\"0.9916\",\"1.0\",\"0.9482\"])\n",
        "myTable.add_row([\"Random Forest\",\"Numerical Features + TFIDF\" ,\"1.0\", \"0.9864\", \"1.0\", \"0.9834\",\"1.0\",\"0.9444\"])\n",
        "myTable.add_row([\"XG Boost\", \"Numerical Features + BOW\", \"0.9850\", \"0.9854\",\"0.9831\",\"0.9754\",\"0.9378\",\"0.9407\"])\n",
        "myTable.add_row([\"XG Boost\", \"Numerical Features + BOW(Bi-gram)\", \"0.9850\", \"0.9854\",\"0.9831\",\"0.9754\",\"0.9378\",\"0.9407\"])\n",
        "myTable.add_row([\"XG Boost\",\"Numerical Features + TFIDF\" ,\"1.0\", \"0.9864\", \"1.0\", \"0.9834\",\"1.0\",\"0.9444\"])\n",
        "myTable.add_row([\"Extra Tree Classifier\", \"Numerical Features + BOW\", \"1.0\", \"0.9903\",\"1.0\",\"0.9918\",\"1.0\",\"0.9606\"])\n",
        "myTable.add_row([\"Extra Tree Classifier\", \"Numerical Features + BOW(Bi-gram)\", \"1.0\", \"0.9854\",\"1.0\",\"1.0\",\"1.0\",\"0.9392\"])\n",
        "myTable.add_row([\"Extra Tree Classifier\",\"Numerical Features + TFIDF\" ,\"1.0\", \"0.9912\", \"1.0\", \"0.9919\",\"1.0\",\"0.9647\"])\n",
        "myTable.add_row([\"Extra Tree Classifier\",\"Numerical Features + TFIDF(with balanced dataset)\" ,\"1.0\", \"0.9994\", \"1.0\", \"0.9989\",\"1.0\",\"0.9994\"])\n",
        "\n",
        "\n",
        "print(myTable)\n"
      ]
    },
    {
      "cell_type": "markdown",
      "metadata": {
        "id": "5J-1z8APp76s"
      },
      "source": [
        "We can clearly see that Extra Tree Classifier with TFIDF Vectorizer performs better than any other model"
      ]
    },
    {
      "cell_type": "code",
      "execution_count": null,
      "metadata": {
        "id": "q-TaWjGn6EEM"
      },
      "outputs": [],
      "source": [
        "import pickle\n",
        "import pickle\n",
        "pickle.dump(tfidf,open('vectorizer.pkl','wb'))\n",
        "pickle.dump(etc,open('model.pkl','wb'))"
      ]
    },
    {
      "cell_type": "code",
      "execution_count": null,
      "metadata": {
        "id": "032yFofL6tM0"
      },
      "outputs": [],
      "source": [
        "from google.colab import files\n",
        "files.download('model.pkl') "
      ]
    },
    {
      "cell_type": "code",
      "execution_count": null,
      "metadata": {
        "id": "r3KFRNSLUJMl"
      },
      "outputs": [],
      "source": [
        "from google.colab import files\n",
        "files.download('vectorizer.pkl') "
      ]
    },
    {
      "cell_type": "code",
      "source": [
        "import numpy as np \n",
        "import matplotlib.pyplot as plt \n",
        "  \n",
        "X = ['Linear Regression','Lasso Regression','Ridge Regression','Light GBM','Random Forest','K- Nearest Neighbors','Multi Layes Perceptron']\n",
        "Train_MAPE = [0.0415,0.0412,0.0415,0.0332,0.000086,0.000430,0.0361]\n",
        "Test_MAPE = [0.044,0.044,0.044,0.036,0.00536,0.0108,0.0407]\n",
        "  \n",
        "X_axis = 6\n",
        "  \n",
        "plt.bar(X_axis - 0.2, Train_MAPE, 0.4, label = 'Train_MAPE')\n",
        "plt.bar(X_axis + 0.2, Test_MAPE, 0.4, label = 'Test_MAPE')\n",
        "  \n",
        "plt.xticks(X_axis, X)\n",
        "plt.xlabel(\"Models\")\n",
        "plt.ylabel(\"MAPE\")\n",
        "plt.title(\"Train and Test MAPE of all the Models\")\n",
        "plt.legend()\n",
        "plt.show()"
      ],
      "metadata": {
        "colab": {
          "base_uri": "https://localhost:8080/",
          "height": 676
        },
        "id": "dtLQxLIZF5gu",
        "outputId": "cc7605d4-b322-458c-a8b4-b3aa8ce50a70"
      },
      "execution_count": null,
      "outputs": [
        {
          "output_type": "error",
          "ename": "TypeError",
          "evalue": "ignored",
          "traceback": [
            "\u001b[0;31m---------------------------------------------------------------------------\u001b[0m",
            "\u001b[0;31mUFuncTypeError\u001b[0m                            Traceback (most recent call last)",
            "\u001b[0;32m/usr/local/lib/python3.7/dist-packages/matplotlib/axes/_axes.py\u001b[0m in \u001b[0;36mbar\u001b[0;34m(self, x, height, width, bottom, align, **kwargs)\u001b[0m\n\u001b[1;32m   2369\u001b[0m                 \u001b[0;32mtry\u001b[0m\u001b[0;34m:\u001b[0m\u001b[0;34m\u001b[0m\u001b[0;34m\u001b[0m\u001b[0m\n\u001b[0;32m-> 2370\u001b[0;31m                     \u001b[0mleft\u001b[0m \u001b[0;34m=\u001b[0m \u001b[0mx\u001b[0m \u001b[0;34m-\u001b[0m \u001b[0mwidth\u001b[0m \u001b[0;34m/\u001b[0m \u001b[0;36m2\u001b[0m\u001b[0;34m\u001b[0m\u001b[0;34m\u001b[0m\u001b[0m\n\u001b[0m\u001b[1;32m   2371\u001b[0m                 \u001b[0;32mexcept\u001b[0m \u001b[0mTypeError\u001b[0m \u001b[0;32mas\u001b[0m \u001b[0me\u001b[0m\u001b[0;34m:\u001b[0m\u001b[0;34m\u001b[0m\u001b[0;34m\u001b[0m\u001b[0m\n",
            "\u001b[0;31mUFuncTypeError\u001b[0m: ufunc 'subtract' did not contain a loop with signature matching types (dtype('<U32'), dtype('float64')) -> None",
            "\nThe above exception was the direct cause of the following exception:\n",
            "\u001b[0;31mTypeError\u001b[0m                                 Traceback (most recent call last)",
            "\u001b[0;32m<ipython-input-142-5059e2377f4b>\u001b[0m in \u001b[0;36m<module>\u001b[0;34m\u001b[0m\n\u001b[1;32m      8\u001b[0m \u001b[0mX_axis\u001b[0m \u001b[0;34m=\u001b[0m \u001b[0;36m6\u001b[0m\u001b[0;34m\u001b[0m\u001b[0;34m\u001b[0m\u001b[0m\n\u001b[1;32m      9\u001b[0m \u001b[0;34m\u001b[0m\u001b[0m\n\u001b[0;32m---> 10\u001b[0;31m \u001b[0mplt\u001b[0m\u001b[0;34m.\u001b[0m\u001b[0mbar\u001b[0m\u001b[0;34m(\u001b[0m\u001b[0mTrain_MAPE\u001b[0m\u001b[0;34m,\u001b[0m \u001b[0;36m0.4\u001b[0m\u001b[0;34m,\u001b[0m \u001b[0mlabel\u001b[0m \u001b[0;34m=\u001b[0m \u001b[0;34m'Train_MAPE'\u001b[0m\u001b[0;34m)\u001b[0m\u001b[0;34m\u001b[0m\u001b[0;34m\u001b[0m\u001b[0m\n\u001b[0m\u001b[1;32m     11\u001b[0m \u001b[0mplt\u001b[0m\u001b[0;34m.\u001b[0m\u001b[0mbar\u001b[0m\u001b[0;34m(\u001b[0m\u001b[0mTest_MAPE\u001b[0m\u001b[0;34m,\u001b[0m \u001b[0;36m0.4\u001b[0m\u001b[0;34m,\u001b[0m \u001b[0mlabel\u001b[0m \u001b[0;34m=\u001b[0m \u001b[0;34m'Test_MAPE'\u001b[0m\u001b[0;34m)\u001b[0m\u001b[0;34m\u001b[0m\u001b[0;34m\u001b[0m\u001b[0m\n\u001b[1;32m     12\u001b[0m \u001b[0;34m\u001b[0m\u001b[0m\n",
            "\u001b[0;32m/usr/local/lib/python3.7/dist-packages/matplotlib/pyplot.py\u001b[0m in \u001b[0;36mbar\u001b[0;34m(x, height, width, bottom, align, data, **kwargs)\u001b[0m\n\u001b[1;32m   2407\u001b[0m     return gca().bar(\n\u001b[1;32m   2408\u001b[0m         \u001b[0mx\u001b[0m\u001b[0;34m,\u001b[0m \u001b[0mheight\u001b[0m\u001b[0;34m,\u001b[0m \u001b[0mwidth\u001b[0m\u001b[0;34m=\u001b[0m\u001b[0mwidth\u001b[0m\u001b[0;34m,\u001b[0m \u001b[0mbottom\u001b[0m\u001b[0;34m=\u001b[0m\u001b[0mbottom\u001b[0m\u001b[0;34m,\u001b[0m \u001b[0malign\u001b[0m\u001b[0;34m=\u001b[0m\u001b[0malign\u001b[0m\u001b[0;34m,\u001b[0m\u001b[0;34m\u001b[0m\u001b[0;34m\u001b[0m\u001b[0m\n\u001b[0;32m-> 2409\u001b[0;31m         **({\"data\": data} if data is not None else {}), **kwargs)\n\u001b[0m\u001b[1;32m   2410\u001b[0m \u001b[0;34m\u001b[0m\u001b[0m\n\u001b[1;32m   2411\u001b[0m \u001b[0;34m\u001b[0m\u001b[0m\n",
            "\u001b[0;32m/usr/local/lib/python3.7/dist-packages/matplotlib/__init__.py\u001b[0m in \u001b[0;36minner\u001b[0;34m(ax, data, *args, **kwargs)\u001b[0m\n\u001b[1;32m   1563\u001b[0m     \u001b[0;32mdef\u001b[0m \u001b[0minner\u001b[0m\u001b[0;34m(\u001b[0m\u001b[0max\u001b[0m\u001b[0;34m,\u001b[0m \u001b[0;34m*\u001b[0m\u001b[0margs\u001b[0m\u001b[0;34m,\u001b[0m \u001b[0mdata\u001b[0m\u001b[0;34m=\u001b[0m\u001b[0;32mNone\u001b[0m\u001b[0;34m,\u001b[0m \u001b[0;34m**\u001b[0m\u001b[0mkwargs\u001b[0m\u001b[0;34m)\u001b[0m\u001b[0;34m:\u001b[0m\u001b[0;34m\u001b[0m\u001b[0;34m\u001b[0m\u001b[0m\n\u001b[1;32m   1564\u001b[0m         \u001b[0;32mif\u001b[0m \u001b[0mdata\u001b[0m \u001b[0;32mis\u001b[0m \u001b[0;32mNone\u001b[0m\u001b[0;34m:\u001b[0m\u001b[0;34m\u001b[0m\u001b[0;34m\u001b[0m\u001b[0m\n\u001b[0;32m-> 1565\u001b[0;31m             \u001b[0;32mreturn\u001b[0m \u001b[0mfunc\u001b[0m\u001b[0;34m(\u001b[0m\u001b[0max\u001b[0m\u001b[0;34m,\u001b[0m \u001b[0;34m*\u001b[0m\u001b[0mmap\u001b[0m\u001b[0;34m(\u001b[0m\u001b[0msanitize_sequence\u001b[0m\u001b[0;34m,\u001b[0m \u001b[0margs\u001b[0m\u001b[0;34m)\u001b[0m\u001b[0;34m,\u001b[0m \u001b[0;34m**\u001b[0m\u001b[0mkwargs\u001b[0m\u001b[0;34m)\u001b[0m\u001b[0;34m\u001b[0m\u001b[0;34m\u001b[0m\u001b[0m\n\u001b[0m\u001b[1;32m   1566\u001b[0m \u001b[0;34m\u001b[0m\u001b[0m\n\u001b[1;32m   1567\u001b[0m         \u001b[0mbound\u001b[0m \u001b[0;34m=\u001b[0m \u001b[0mnew_sig\u001b[0m\u001b[0;34m.\u001b[0m\u001b[0mbind\u001b[0m\u001b[0;34m(\u001b[0m\u001b[0max\u001b[0m\u001b[0;34m,\u001b[0m \u001b[0;34m*\u001b[0m\u001b[0margs\u001b[0m\u001b[0;34m,\u001b[0m \u001b[0;34m**\u001b[0m\u001b[0mkwargs\u001b[0m\u001b[0;34m)\u001b[0m\u001b[0;34m\u001b[0m\u001b[0;34m\u001b[0m\u001b[0m\n",
            "\u001b[0;32m/usr/local/lib/python3.7/dist-packages/matplotlib/axes/_axes.py\u001b[0m in \u001b[0;36mbar\u001b[0;34m(self, x, height, width, bottom, align, **kwargs)\u001b[0m\n\u001b[1;32m   2372\u001b[0m                     raise TypeError(f'the dtypes of parameters x ({x.dtype}) '\n\u001b[1;32m   2373\u001b[0m                                     \u001b[0;34mf'and width ({width.dtype}) '\u001b[0m\u001b[0;34m\u001b[0m\u001b[0;34m\u001b[0m\u001b[0m\n\u001b[0;32m-> 2374\u001b[0;31m                                     f'are incompatible') from e\n\u001b[0m\u001b[1;32m   2375\u001b[0m                 \u001b[0mbottom\u001b[0m \u001b[0;34m=\u001b[0m \u001b[0my\u001b[0m\u001b[0;34m\u001b[0m\u001b[0;34m\u001b[0m\u001b[0m\n\u001b[1;32m   2376\u001b[0m             \u001b[0;32melif\u001b[0m \u001b[0morientation\u001b[0m \u001b[0;34m==\u001b[0m \u001b[0;34m'horizontal'\u001b[0m\u001b[0;34m:\u001b[0m\u001b[0;34m\u001b[0m\u001b[0;34m\u001b[0m\u001b[0m\n",
            "\u001b[0;31mTypeError\u001b[0m: the dtypes of parameters x (<U32) and width (float64) are incompatible"
          ]
        },
        {
          "output_type": "display_data",
          "data": {
            "text/plain": [
              "<Figure size 540x252 with 1 Axes>"
            ],
            "image/png": "[encoded data removed]"
          },
          "metadata": {
            "needs_background": "light"
          }
        }
      ]
    },
    {
      "cell_type": "code",
      "source": [
        "Train_MAPE = [0.0415,0.0412,0.0415,0.0332,0.000086,0.000430,0.0361]\n",
        "Test_MAPE = [0.044,0.044,0.044,0.036,0.00536,0.0108,0.0407]\n",
        "x = np.arange(10)\n",
        "ax1 = plt.subplot(1,1,1)\n",
        "w = 0.3\n",
        "#plt.xticks(), will label the bars on x axis with the respective country names.\n",
        "plt.xticks(x + w /2, ['Linear Regression','Lasso Regression','Ridge Regression','Light GBM','Random Forest','K- Nearest Neighbors','Multi Layes Perceptron'], rotation='vertical')\n",
        "train_mape =ax1.bar(x,Train_MAPE , width=w, color='b', align='center')\n",
        "#The trick is to use two different axes that share the same x axis, we have used ax1.twinx() method.\n",
        "ax2 = ax1.twinx()\n",
        "#We have calculated GDP by dividing gdpPerCapita to population.\n",
        "gdp =ax2.bar(x + w,[0.044,0.044,0.044,0.036,0.00536,0.0108,0.0407], width=w,color='g',align='center')\n",
        "#Set the Y axis label as GDP.\n",
        "plt.ylabel('GDP')\n",
        "#To set the legend on the plot we have used plt.legend()\n",
        "plt.legend([pop, gdp],['Population in Millions', 'GDP in Billions'])\n",
        "#To show the plot finally we have used plt.show().\n",
        "plt.show()"
      ],
      "metadata": {
        "colab": {
          "base_uri": "https://localhost:8080/",
          "height": 659
        },
        "id": "2RTmQVzPRIid",
        "outputId": "cb154f74-fbbe-48d7-d28b-d9a27a22b679"
      },
      "execution_count": null,
      "outputs": [
        {
          "output_type": "error",
          "ename": "ValueError",
          "evalue": "ignored",
          "traceback": [
            "\u001b[0;31m---------------------------------------------------------------------------\u001b[0m",
            "\u001b[0;31mValueError\u001b[0m                                Traceback (most recent call last)",
            "\u001b[0;32m<ipython-input-149-d75a3edea515>\u001b[0m in \u001b[0;36m<module>\u001b[0;34m\u001b[0m\n\u001b[1;32m      6\u001b[0m \u001b[0;31m#plt.xticks(), will label the bars on x axis with the respective country names.\u001b[0m\u001b[0;34m\u001b[0m\u001b[0;34m\u001b[0m\u001b[0;34m\u001b[0m\u001b[0m\n\u001b[1;32m      7\u001b[0m \u001b[0mplt\u001b[0m\u001b[0;34m.\u001b[0m\u001b[0mxticks\u001b[0m\u001b[0;34m(\u001b[0m\u001b[0mx\u001b[0m \u001b[0;34m+\u001b[0m \u001b[0mw\u001b[0m \u001b[0;34m/\u001b[0m\u001b[0;36m2\u001b[0m\u001b[0;34m,\u001b[0m \u001b[0;34m[\u001b[0m\u001b[0;34m'Linear Regression'\u001b[0m\u001b[0;34m,\u001b[0m\u001b[0;34m'Lasso Regression'\u001b[0m\u001b[0;34m,\u001b[0m\u001b[0;34m'Ridge Regression'\u001b[0m\u001b[0;34m,\u001b[0m\u001b[0;34m'Light GBM'\u001b[0m\u001b[0;34m,\u001b[0m\u001b[0;34m'Random Forest'\u001b[0m\u001b[0;34m,\u001b[0m\u001b[0;34m'K- Nearest Neighbors'\u001b[0m\u001b[0;34m,\u001b[0m\u001b[0;34m'Multi Layes Perceptron'\u001b[0m\u001b[0;34m]\u001b[0m\u001b[0;34m,\u001b[0m \u001b[0mrotation\u001b[0m\u001b[0;34m=\u001b[0m\u001b[0;34m'vertical'\u001b[0m\u001b[0;34m)\u001b[0m\u001b[0;34m\u001b[0m\u001b[0;34m\u001b[0m\u001b[0m\n\u001b[0;32m----> 8\u001b[0;31m \u001b[0mtrain_mape\u001b[0m \u001b[0;34m=\u001b[0m\u001b[0max1\u001b[0m\u001b[0;34m.\u001b[0m\u001b[0mbar\u001b[0m\u001b[0;34m(\u001b[0m\u001b[0mx\u001b[0m\u001b[0;34m,\u001b[0m\u001b[0mTrain_MAPE\u001b[0m \u001b[0;34m,\u001b[0m \u001b[0mwidth\u001b[0m\u001b[0;34m=\u001b[0m\u001b[0mw\u001b[0m\u001b[0;34m,\u001b[0m \u001b[0mcolor\u001b[0m\u001b[0;34m=\u001b[0m\u001b[0;34m'b'\u001b[0m\u001b[0;34m,\u001b[0m \u001b[0malign\u001b[0m\u001b[0;34m=\u001b[0m\u001b[0;34m'center'\u001b[0m\u001b[0;34m)\u001b[0m\u001b[0;34m\u001b[0m\u001b[0;34m\u001b[0m\u001b[0m\n\u001b[0m\u001b[1;32m      9\u001b[0m \u001b[0;31m#The trick is to use two different axes that share the same x axis, we have used ax1.twinx() method.\u001b[0m\u001b[0;34m\u001b[0m\u001b[0;34m\u001b[0m\u001b[0;34m\u001b[0m\u001b[0m\n\u001b[1;32m     10\u001b[0m \u001b[0max2\u001b[0m \u001b[0;34m=\u001b[0m \u001b[0max1\u001b[0m\u001b[0;34m.\u001b[0m\u001b[0mtwinx\u001b[0m\u001b[0;34m(\u001b[0m\u001b[0;34m)\u001b[0m\u001b[0;34m\u001b[0m\u001b[0;34m\u001b[0m\u001b[0m\n",
            "\u001b[0;32m/usr/local/lib/python3.7/dist-packages/matplotlib/__init__.py\u001b[0m in \u001b[0;36minner\u001b[0;34m(ax, data, *args, **kwargs)\u001b[0m\n\u001b[1;32m   1563\u001b[0m     \u001b[0;32mdef\u001b[0m \u001b[0minner\u001b[0m\u001b[0;34m(\u001b[0m\u001b[0max\u001b[0m\u001b[0;34m,\u001b[0m \u001b[0;34m*\u001b[0m\u001b[0margs\u001b[0m\u001b[0;34m,\u001b[0m \u001b[0mdata\u001b[0m\u001b[0;34m=\u001b[0m\u001b[0;32mNone\u001b[0m\u001b[0;34m,\u001b[0m \u001b[0;34m**\u001b[0m\u001b[0mkwargs\u001b[0m\u001b[0;34m)\u001b[0m\u001b[0;34m:\u001b[0m\u001b[0;34m\u001b[0m\u001b[0;34m\u001b[0m\u001b[0m\n\u001b[1;32m   1564\u001b[0m         \u001b[0;32mif\u001b[0m \u001b[0mdata\u001b[0m \u001b[0;32mis\u001b[0m \u001b[0;32mNone\u001b[0m\u001b[0;34m:\u001b[0m\u001b[0;34m\u001b[0m\u001b[0;34m\u001b[0m\u001b[0m\n\u001b[0;32m-> 1565\u001b[0;31m             \u001b[0;32mreturn\u001b[0m \u001b[0mfunc\u001b[0m\u001b[0;34m(\u001b[0m\u001b[0max\u001b[0m\u001b[0;34m,\u001b[0m \u001b[0;34m*\u001b[0m\u001b[0mmap\u001b[0m\u001b[0;34m(\u001b[0m\u001b[0msanitize_sequence\u001b[0m\u001b[0;34m,\u001b[0m \u001b[0margs\u001b[0m\u001b[0;34m)\u001b[0m\u001b[0;34m,\u001b[0m \u001b[0;34m**\u001b[0m\u001b[0mkwargs\u001b[0m\u001b[0;34m)\u001b[0m\u001b[0;34m\u001b[0m\u001b[0;34m\u001b[0m\u001b[0m\n\u001b[0m\u001b[1;32m   1566\u001b[0m \u001b[0;34m\u001b[0m\u001b[0m\n\u001b[1;32m   1567\u001b[0m         \u001b[0mbound\u001b[0m \u001b[0;34m=\u001b[0m \u001b[0mnew_sig\u001b[0m\u001b[0;34m.\u001b[0m\u001b[0mbind\u001b[0m\u001b[0;34m(\u001b[0m\u001b[0max\u001b[0m\u001b[0;34m,\u001b[0m \u001b[0;34m*\u001b[0m\u001b[0margs\u001b[0m\u001b[0;34m,\u001b[0m \u001b[0;34m**\u001b[0m\u001b[0mkwargs\u001b[0m\u001b[0;34m)\u001b[0m\u001b[0;34m\u001b[0m\u001b[0;34m\u001b[0m\u001b[0m\n",
            "\u001b[0;32m/usr/local/lib/python3.7/dist-packages/matplotlib/axes/_axes.py\u001b[0m in \u001b[0;36mbar\u001b[0;34m(self, x, height, width, bottom, align, **kwargs)\u001b[0m\n\u001b[1;32m   2340\u001b[0m         x, height, width, y, linewidth = np.broadcast_arrays(\n\u001b[1;32m   2341\u001b[0m             \u001b[0;31m# Make args iterable too.\u001b[0m\u001b[0;34m\u001b[0m\u001b[0;34m\u001b[0m\u001b[0;34m\u001b[0m\u001b[0m\n\u001b[0;32m-> 2342\u001b[0;31m             np.atleast_1d(x), height, width, y, linewidth)\n\u001b[0m\u001b[1;32m   2343\u001b[0m \u001b[0;34m\u001b[0m\u001b[0m\n\u001b[1;32m   2344\u001b[0m         \u001b[0;31m# Now that units have been converted, set the tick locations.\u001b[0m\u001b[0;34m\u001b[0m\u001b[0;34m\u001b[0m\u001b[0;34m\u001b[0m\u001b[0m\n",
            "\u001b[0;32m<__array_function__ internals>\u001b[0m in \u001b[0;36mbroadcast_arrays\u001b[0;34m(*args, **kwargs)\u001b[0m\n",
            "\u001b[0;32m/usr/local/lib/python3.7/dist-packages/numpy/lib/stride_tricks.py\u001b[0m in \u001b[0;36mbroadcast_arrays\u001b[0;34m(subok, *args)\u001b[0m\n\u001b[1;32m    536\u001b[0m     \u001b[0margs\u001b[0m \u001b[0;34m=\u001b[0m \u001b[0;34m[\u001b[0m\u001b[0mnp\u001b[0m\u001b[0;34m.\u001b[0m\u001b[0marray\u001b[0m\u001b[0;34m(\u001b[0m\u001b[0m_m\u001b[0m\u001b[0;34m,\u001b[0m \u001b[0mcopy\u001b[0m\u001b[0;34m=\u001b[0m\u001b[0;32mFalse\u001b[0m\u001b[0;34m,\u001b[0m \u001b[0msubok\u001b[0m\u001b[0;34m=\u001b[0m\u001b[0msubok\u001b[0m\u001b[0;34m)\u001b[0m \u001b[0;32mfor\u001b[0m \u001b[0m_m\u001b[0m \u001b[0;32min\u001b[0m \u001b[0margs\u001b[0m\u001b[0;34m]\u001b[0m\u001b[0;34m\u001b[0m\u001b[0;34m\u001b[0m\u001b[0m\n\u001b[1;32m    537\u001b[0m \u001b[0;34m\u001b[0m\u001b[0m\n\u001b[0;32m--> 538\u001b[0;31m     \u001b[0mshape\u001b[0m \u001b[0;34m=\u001b[0m \u001b[0m_broadcast_shape\u001b[0m\u001b[0;34m(\u001b[0m\u001b[0;34m*\u001b[0m\u001b[0margs\u001b[0m\u001b[0;34m)\u001b[0m\u001b[0;34m\u001b[0m\u001b[0;34m\u001b[0m\u001b[0m\n\u001b[0m\u001b[1;32m    539\u001b[0m \u001b[0;34m\u001b[0m\u001b[0m\n\u001b[1;32m    540\u001b[0m     \u001b[0;32mif\u001b[0m \u001b[0mall\u001b[0m\u001b[0;34m(\u001b[0m\u001b[0marray\u001b[0m\u001b[0;34m.\u001b[0m\u001b[0mshape\u001b[0m \u001b[0;34m==\u001b[0m \u001b[0mshape\u001b[0m \u001b[0;32mfor\u001b[0m \u001b[0marray\u001b[0m \u001b[0;32min\u001b[0m \u001b[0margs\u001b[0m\u001b[0;34m)\u001b[0m\u001b[0;34m:\u001b[0m\u001b[0;34m\u001b[0m\u001b[0;34m\u001b[0m\u001b[0m\n",
            "\u001b[0;32m/usr/local/lib/python3.7/dist-packages/numpy/lib/stride_tricks.py\u001b[0m in \u001b[0;36m_broadcast_shape\u001b[0;34m(*args)\u001b[0m\n\u001b[1;32m    418\u001b[0m     \u001b[0;31m# use the old-iterator because np.nditer does not handle size 0 arrays\u001b[0m\u001b[0;34m\u001b[0m\u001b[0;34m\u001b[0m\u001b[0;34m\u001b[0m\u001b[0m\n\u001b[1;32m    419\u001b[0m     \u001b[0;31m# consistently\u001b[0m\u001b[0;34m\u001b[0m\u001b[0;34m\u001b[0m\u001b[0;34m\u001b[0m\u001b[0m\n\u001b[0;32m--> 420\u001b[0;31m     \u001b[0mb\u001b[0m \u001b[0;34m=\u001b[0m \u001b[0mnp\u001b[0m\u001b[0;34m.\u001b[0m\u001b[0mbroadcast\u001b[0m\u001b[0;34m(\u001b[0m\u001b[0;34m*\u001b[0m\u001b[0margs\u001b[0m\u001b[0;34m[\u001b[0m\u001b[0;34m:\u001b[0m\u001b[0;36m32\u001b[0m\u001b[0;34m]\u001b[0m\u001b[0;34m)\u001b[0m\u001b[0;34m\u001b[0m\u001b[0;34m\u001b[0m\u001b[0m\n\u001b[0m\u001b[1;32m    421\u001b[0m     \u001b[0;31m# unfortunately, it cannot handle 32 or more arguments directly\u001b[0m\u001b[0;34m\u001b[0m\u001b[0;34m\u001b[0m\u001b[0;34m\u001b[0m\u001b[0m\n\u001b[1;32m    422\u001b[0m     \u001b[0;32mfor\u001b[0m \u001b[0mpos\u001b[0m \u001b[0;32min\u001b[0m \u001b[0mrange\u001b[0m\u001b[0;34m(\u001b[0m\u001b[0;36m32\u001b[0m\u001b[0;34m,\u001b[0m \u001b[0mlen\u001b[0m\u001b[0;34m(\u001b[0m\u001b[0margs\u001b[0m\u001b[0;34m)\u001b[0m\u001b[0;34m,\u001b[0m \u001b[0;36m31\u001b[0m\u001b[0;34m)\u001b[0m\u001b[0;34m:\u001b[0m\u001b[0;34m\u001b[0m\u001b[0;34m\u001b[0m\u001b[0m\n",
            "\u001b[0;31mValueError\u001b[0m: shape mismatch: objects cannot be broadcast to a single shape"
          ]
        },
        {
          "output_type": "display_data",
          "data": {
            "text/plain": [
              "<Figure size 540x252 with 1 Axes>"
            ],
            "image/png": "[encoded data removed]"
          },
          "metadata": {
            "needs_background": "light"
          }
        }
      ]
    },
    {
      "cell_type": "code",
      "source": [
        "import pandas\n",
        "import matplotlib.pyplot as plt\n",
        "import numpy as np\n",
        "\n",
        "# Set the figure size\n",
        "plt.rcParams[\"figure.figsize\"] = [7.50, 3.50]\n",
        "plt.rcParams[\"figure.autolayout\"] = True\n",
        "\n",
        "# Array for horizontal bar's position\n",
        "ind = np.array([0, 1, 2])\n",
        "\n",
        "# Bar's width\n",
        "width = 0.4\n",
        "\n",
        "fig, ax = plt.subplots()\n",
        "\n",
        "# Horizontal bar plot\n",
        "ax.barh(ind, np.array([1.1,1.2,1.3,1.4,1.5,1.6,1.7]), width, color='Train_MAPE', label='N')\n",
        "ax.barh(ind + width, np.array([0.044,0.044,0.044,0.036,0.00536,0.0108,0.0407]), width, color='Test_MAPE', label='M')\n",
        "\n",
        "# Set Y-axis ticks and ticklabels\n",
        "ax.set(yticks=ind + width, yticklabels=np.array(['Linear Regression','Lasso Regression','Ridge Regression','Light GBM','Random Forest','K- Nearest Neighbors','Multi Layes Perceptron']),ylim = [2*width - 1, len(ind)])\n",
        "\n",
        "# Legend at the upper right corner\n",
        "ax.legend(loc='upper right')\n",
        "\n",
        "# Display the plot\n",
        "plt.show()"
      ],
      "metadata": {
        "colab": {
          "base_uri": "https://localhost:8080/",
          "height": 659
        },
        "id": "sjPkk5pzN1oc",
        "outputId": "ac97ccd5-723d-475a-a2aa-3b8b2f7f1f1f"
      },
      "execution_count": null,
      "outputs": [
        {
          "output_type": "error",
          "ename": "ValueError",
          "evalue": "ignored",
          "traceback": [
            "\u001b[0;31m---------------------------------------------------------------------------\u001b[0m",
            "\u001b[0;31mValueError\u001b[0m                                Traceback (most recent call last)",
            "\u001b[0;32m<ipython-input-147-9f6d61591db1>\u001b[0m in \u001b[0;36m<module>\u001b[0;34m\u001b[0m\n\u001b[1;32m     16\u001b[0m \u001b[0;34m\u001b[0m\u001b[0m\n\u001b[1;32m     17\u001b[0m \u001b[0;31m# Horizontal bar plot\u001b[0m\u001b[0;34m\u001b[0m\u001b[0;34m\u001b[0m\u001b[0;34m\u001b[0m\u001b[0m\n\u001b[0;32m---> 18\u001b[0;31m \u001b[0max\u001b[0m\u001b[0;34m.\u001b[0m\u001b[0mbarh\u001b[0m\u001b[0;34m(\u001b[0m\u001b[0mind\u001b[0m\u001b[0;34m,\u001b[0m \u001b[0mnp\u001b[0m\u001b[0;34m.\u001b[0m\u001b[0marray\u001b[0m\u001b[0;34m(\u001b[0m\u001b[0;34m[\u001b[0m\u001b[0;36m1.1\u001b[0m\u001b[0;34m,\u001b[0m\u001b[0;36m1.2\u001b[0m\u001b[0;34m,\u001b[0m\u001b[0;36m1.3\u001b[0m\u001b[0;34m,\u001b[0m\u001b[0;36m1.4\u001b[0m\u001b[0;34m,\u001b[0m\u001b[0;36m1.5\u001b[0m\u001b[0;34m,\u001b[0m\u001b[0;36m1.6\u001b[0m\u001b[0;34m,\u001b[0m\u001b[0;36m1.7\u001b[0m\u001b[0;34m]\u001b[0m\u001b[0;34m)\u001b[0m\u001b[0;34m,\u001b[0m \u001b[0mwidth\u001b[0m\u001b[0;34m,\u001b[0m \u001b[0mcolor\u001b[0m\u001b[0;34m=\u001b[0m\u001b[0;34m'Train_MAPE'\u001b[0m\u001b[0;34m,\u001b[0m \u001b[0mlabel\u001b[0m\u001b[0;34m=\u001b[0m\u001b[0;34m'N'\u001b[0m\u001b[0;34m)\u001b[0m\u001b[0;34m\u001b[0m\u001b[0;34m\u001b[0m\u001b[0m\n\u001b[0m\u001b[1;32m     19\u001b[0m \u001b[0max\u001b[0m\u001b[0;34m.\u001b[0m\u001b[0mbarh\u001b[0m\u001b[0;34m(\u001b[0m\u001b[0mind\u001b[0m \u001b[0;34m+\u001b[0m \u001b[0mwidth\u001b[0m\u001b[0;34m,\u001b[0m \u001b[0mnp\u001b[0m\u001b[0;34m.\u001b[0m\u001b[0marray\u001b[0m\u001b[0;34m(\u001b[0m\u001b[0;34m[\u001b[0m\u001b[0;36m0.044\u001b[0m\u001b[0;34m,\u001b[0m\u001b[0;36m0.044\u001b[0m\u001b[0;34m,\u001b[0m\u001b[0;36m0.044\u001b[0m\u001b[0;34m,\u001b[0m\u001b[0;36m0.036\u001b[0m\u001b[0;34m,\u001b[0m\u001b[0;36m0.00536\u001b[0m\u001b[0;34m,\u001b[0m\u001b[0;36m0.0108\u001b[0m\u001b[0;34m,\u001b[0m\u001b[0;36m0.0407\u001b[0m\u001b[0;34m]\u001b[0m\u001b[0;34m)\u001b[0m\u001b[0;34m,\u001b[0m \u001b[0mwidth\u001b[0m\u001b[0;34m,\u001b[0m \u001b[0mcolor\u001b[0m\u001b[0;34m=\u001b[0m\u001b[0;34m'Test_MAPE'\u001b[0m\u001b[0;34m,\u001b[0m \u001b[0mlabel\u001b[0m\u001b[0;34m=\u001b[0m\u001b[0;34m'M'\u001b[0m\u001b[0;34m)\u001b[0m\u001b[0;34m\u001b[0m\u001b[0;34m\u001b[0m\u001b[0m\n\u001b[1;32m     20\u001b[0m \u001b[0;34m\u001b[0m\u001b[0m\n",
            "\u001b[0;32m/usr/local/lib/python3.7/dist-packages/matplotlib/axes/_axes.py\u001b[0m in \u001b[0;36mbarh\u001b[0;34m(self, y, width, height, left, align, **kwargs)\u001b[0m\n\u001b[1;32m   2545\u001b[0m         \u001b[0mkwargs\u001b[0m\u001b[0;34m.\u001b[0m\u001b[0msetdefault\u001b[0m\u001b[0;34m(\u001b[0m\u001b[0;34m'orientation'\u001b[0m\u001b[0;34m,\u001b[0m \u001b[0;34m'horizontal'\u001b[0m\u001b[0;34m)\u001b[0m\u001b[0;34m\u001b[0m\u001b[0;34m\u001b[0m\u001b[0m\n\u001b[1;32m   2546\u001b[0m         patches = self.bar(x=left, height=height, width=width, bottom=y,\n\u001b[0;32m-> 2547\u001b[0;31m                            align=align, **kwargs)\n\u001b[0m\u001b[1;32m   2548\u001b[0m         \u001b[0;32mreturn\u001b[0m \u001b[0mpatches\u001b[0m\u001b[0;34m\u001b[0m\u001b[0;34m\u001b[0m\u001b[0m\n\u001b[1;32m   2549\u001b[0m \u001b[0;34m\u001b[0m\u001b[0m\n",
            "\u001b[0;32m/usr/local/lib/python3.7/dist-packages/matplotlib/__init__.py\u001b[0m in \u001b[0;36minner\u001b[0;34m(ax, data, *args, **kwargs)\u001b[0m\n\u001b[1;32m   1563\u001b[0m     \u001b[0;32mdef\u001b[0m \u001b[0minner\u001b[0m\u001b[0;34m(\u001b[0m\u001b[0max\u001b[0m\u001b[0;34m,\u001b[0m \u001b[0;34m*\u001b[0m\u001b[0margs\u001b[0m\u001b[0;34m,\u001b[0m \u001b[0mdata\u001b[0m\u001b[0;34m=\u001b[0m\u001b[0;32mNone\u001b[0m\u001b[0;34m,\u001b[0m \u001b[0;34m**\u001b[0m\u001b[0mkwargs\u001b[0m\u001b[0;34m)\u001b[0m\u001b[0;34m:\u001b[0m\u001b[0;34m\u001b[0m\u001b[0;34m\u001b[0m\u001b[0m\n\u001b[1;32m   1564\u001b[0m         \u001b[0;32mif\u001b[0m \u001b[0mdata\u001b[0m \u001b[0;32mis\u001b[0m \u001b[0;32mNone\u001b[0m\u001b[0;34m:\u001b[0m\u001b[0;34m\u001b[0m\u001b[0;34m\u001b[0m\u001b[0m\n\u001b[0;32m-> 1565\u001b[0;31m             \u001b[0;32mreturn\u001b[0m \u001b[0mfunc\u001b[0m\u001b[0;34m(\u001b[0m\u001b[0max\u001b[0m\u001b[0;34m,\u001b[0m \u001b[0;34m*\u001b[0m\u001b[0mmap\u001b[0m\u001b[0;34m(\u001b[0m\u001b[0msanitize_sequence\u001b[0m\u001b[0;34m,\u001b[0m \u001b[0margs\u001b[0m\u001b[0;34m)\u001b[0m\u001b[0;34m,\u001b[0m \u001b[0;34m**\u001b[0m\u001b[0mkwargs\u001b[0m\u001b[0;34m)\u001b[0m\u001b[0;34m\u001b[0m\u001b[0;34m\u001b[0m\u001b[0m\n\u001b[0m\u001b[1;32m   1566\u001b[0m \u001b[0;34m\u001b[0m\u001b[0m\n\u001b[1;32m   1567\u001b[0m         \u001b[0mbound\u001b[0m \u001b[0;34m=\u001b[0m \u001b[0mnew_sig\u001b[0m\u001b[0;34m.\u001b[0m\u001b[0mbind\u001b[0m\u001b[0;34m(\u001b[0m\u001b[0max\u001b[0m\u001b[0;34m,\u001b[0m \u001b[0;34m*\u001b[0m\u001b[0margs\u001b[0m\u001b[0;34m,\u001b[0m \u001b[0;34m**\u001b[0m\u001b[0mkwargs\u001b[0m\u001b[0;34m)\u001b[0m\u001b[0;34m\u001b[0m\u001b[0;34m\u001b[0m\u001b[0m\n",
            "\u001b[0;32m/usr/local/lib/python3.7/dist-packages/matplotlib/axes/_axes.py\u001b[0m in \u001b[0;36mbar\u001b[0;34m(self, x, height, width, bottom, align, **kwargs)\u001b[0m\n\u001b[1;32m   2340\u001b[0m         x, height, width, y, linewidth = np.broadcast_arrays(\n\u001b[1;32m   2341\u001b[0m             \u001b[0;31m# Make args iterable too.\u001b[0m\u001b[0;34m\u001b[0m\u001b[0;34m\u001b[0m\u001b[0;34m\u001b[0m\u001b[0m\n\u001b[0;32m-> 2342\u001b[0;31m             np.atleast_1d(x), height, width, y, linewidth)\n\u001b[0m\u001b[1;32m   2343\u001b[0m \u001b[0;34m\u001b[0m\u001b[0m\n\u001b[1;32m   2344\u001b[0m         \u001b[0;31m# Now that units have been converted, set the tick locations.\u001b[0m\u001b[0;34m\u001b[0m\u001b[0;34m\u001b[0m\u001b[0;34m\u001b[0m\u001b[0m\n",
            "\u001b[0;32m<__array_function__ internals>\u001b[0m in \u001b[0;36mbroadcast_arrays\u001b[0;34m(*args, **kwargs)\u001b[0m\n",
            "\u001b[0;32m/usr/local/lib/python3.7/dist-packages/numpy/lib/stride_tricks.py\u001b[0m in \u001b[0;36mbroadcast_arrays\u001b[0;34m(subok, *args)\u001b[0m\n\u001b[1;32m    536\u001b[0m     \u001b[0margs\u001b[0m \u001b[0;34m=\u001b[0m \u001b[0;34m[\u001b[0m\u001b[0mnp\u001b[0m\u001b[0;34m.\u001b[0m\u001b[0marray\u001b[0m\u001b[0;34m(\u001b[0m\u001b[0m_m\u001b[0m\u001b[0;34m,\u001b[0m \u001b[0mcopy\u001b[0m\u001b[0;34m=\u001b[0m\u001b[0;32mFalse\u001b[0m\u001b[0;34m,\u001b[0m \u001b[0msubok\u001b[0m\u001b[0;34m=\u001b[0m\u001b[0msubok\u001b[0m\u001b[0;34m)\u001b[0m \u001b[0;32mfor\u001b[0m \u001b[0m_m\u001b[0m \u001b[0;32min\u001b[0m \u001b[0margs\u001b[0m\u001b[0;34m]\u001b[0m\u001b[0;34m\u001b[0m\u001b[0;34m\u001b[0m\u001b[0m\n\u001b[1;32m    537\u001b[0m \u001b[0;34m\u001b[0m\u001b[0m\n\u001b[0;32m--> 538\u001b[0;31m     \u001b[0mshape\u001b[0m \u001b[0;34m=\u001b[0m \u001b[0m_broadcast_shape\u001b[0m\u001b[0;34m(\u001b[0m\u001b[0;34m*\u001b[0m\u001b[0margs\u001b[0m\u001b[0;34m)\u001b[0m\u001b[0;34m\u001b[0m\u001b[0;34m\u001b[0m\u001b[0m\n\u001b[0m\u001b[1;32m    539\u001b[0m \u001b[0;34m\u001b[0m\u001b[0m\n\u001b[1;32m    540\u001b[0m     \u001b[0;32mif\u001b[0m \u001b[0mall\u001b[0m\u001b[0;34m(\u001b[0m\u001b[0marray\u001b[0m\u001b[0;34m.\u001b[0m\u001b[0mshape\u001b[0m \u001b[0;34m==\u001b[0m \u001b[0mshape\u001b[0m \u001b[0;32mfor\u001b[0m \u001b[0marray\u001b[0m \u001b[0;32min\u001b[0m \u001b[0margs\u001b[0m\u001b[0;34m)\u001b[0m\u001b[0;34m:\u001b[0m\u001b[0;34m\u001b[0m\u001b[0;34m\u001b[0m\u001b[0m\n",
            "\u001b[0;32m/usr/local/lib/python3.7/dist-packages/numpy/lib/stride_tricks.py\u001b[0m in \u001b[0;36m_broadcast_shape\u001b[0;34m(*args)\u001b[0m\n\u001b[1;32m    418\u001b[0m     \u001b[0;31m# use the old-iterator because np.nditer does not handle size 0 arrays\u001b[0m\u001b[0;34m\u001b[0m\u001b[0;34m\u001b[0m\u001b[0;34m\u001b[0m\u001b[0m\n\u001b[1;32m    419\u001b[0m     \u001b[0;31m# consistently\u001b[0m\u001b[0;34m\u001b[0m\u001b[0;34m\u001b[0m\u001b[0;34m\u001b[0m\u001b[0m\n\u001b[0;32m--> 420\u001b[0;31m     \u001b[0mb\u001b[0m \u001b[0;34m=\u001b[0m \u001b[0mnp\u001b[0m\u001b[0;34m.\u001b[0m\u001b[0mbroadcast\u001b[0m\u001b[0;34m(\u001b[0m\u001b[0;34m*\u001b[0m\u001b[0margs\u001b[0m\u001b[0;34m[\u001b[0m\u001b[0;34m:\u001b[0m\u001b[0;36m32\u001b[0m\u001b[0;34m]\u001b[0m\u001b[0;34m)\u001b[0m\u001b[0;34m\u001b[0m\u001b[0;34m\u001b[0m\u001b[0m\n\u001b[0m\u001b[1;32m    421\u001b[0m     \u001b[0;31m# unfortunately, it cannot handle 32 or more arguments directly\u001b[0m\u001b[0;34m\u001b[0m\u001b[0;34m\u001b[0m\u001b[0;34m\u001b[0m\u001b[0m\n\u001b[1;32m    422\u001b[0m     \u001b[0;32mfor\u001b[0m \u001b[0mpos\u001b[0m \u001b[0;32min\u001b[0m \u001b[0mrange\u001b[0m\u001b[0;34m(\u001b[0m\u001b[0;36m32\u001b[0m\u001b[0;34m,\u001b[0m \u001b[0mlen\u001b[0m\u001b[0;34m(\u001b[0m\u001b[0margs\u001b[0m\u001b[0;34m)\u001b[0m\u001b[0;34m,\u001b[0m \u001b[0;36m31\u001b[0m\u001b[0;34m)\u001b[0m\u001b[0;34m:\u001b[0m\u001b[0;34m\u001b[0m\u001b[0;34m\u001b[0m\u001b[0m\n",
            "\u001b[0;31mValueError\u001b[0m: shape mismatch: objects cannot be broadcast to a single shape"
          ]
        },
        {
          "output_type": "display_data",
          "data": {
            "text/plain": [
              "<Figure size 540x252 with 1 Axes>"
            ],
            "image/png": "[encoded data removed]"
          },
          "metadata": {
            "needs_background": "light"
          }
        }
      ]
    },
    {
      "cell_type": "code",
      "source": [
        "import matplotlib.pyplot as plt\n",
        "from matplotlib.dates import date2num\n",
        "import datetime\n",
        "\n",
        "x = [['Linear Regression','Lasso Regression','Ridge Regression','Light GBM','Random Forest','K- Nearest Neighbors','Multi Layes Perceptron']]\n",
        "x_axis = np.arange(len(x))\n",
        "y = [0.0415,0.0412,0.0415,0.0332,0.000086,0.000430,0.0361]\n",
        "z = [0.044,0.044,0.044,0.036,0.00536,0.0108,0.0407]\n",
        "\n",
        "ax = plt.subplot(111)\n",
        "ax.bar(x_axis-0.2, y, width=0.2, color='b', align='center')\n",
        "ax.bar(x_axis, z, width=0.2, color='g', align='center')\n",
        "\n",
        "\n",
        "\n",
        "plt.show()"
      ],
      "metadata": {
        "colab": {
          "base_uri": "https://localhost:8080/",
          "height": 261
        },
        "id": "jF7hDG-ROz85",
        "outputId": "25358aea-e51d-4707-ddc2-49b3bf29f986"
      },
      "execution_count": null,
      "outputs": [
        {
          "output_type": "display_data",
          "data": {
            "text/plain": [
              "<Figure size 540x252 with 1 Axes>"
            ],
            "image/png": "[encoded data removed]"
          },
          "metadata": {
            "needs_background": "light"
          }
        }
      ]
    },
    {
      "cell_type": "code",
      "source": [
        "import matplotlib.pyplot as plt \n",
        "import numpy as np\n",
        "w =0.4\n",
        "models = ['Linear Regression','Lasso Regression','Ridge Regression','Light GBM','Random Forest','K- Nearest Neighbors','Multi Layes Perceptron']\n",
        "\n",
        "train_mape = [0.0415,0.0412,0.0415,0.0332,0.000086,0.000430,0.0361]\n",
        "test_mape = [0.044,0.044,0.044,0.036,0.00536,0.0108,0.0407]\n",
        "plt.figure(figsize=(15,10))\n",
        "bar1 = np.arange(len(models))\n",
        "bar2 = [i+w for i in bar1]\n",
        "\n",
        "plt.bar(models,train_mape,w,label=\"train_MAPE\")\n",
        "plt.bar(bar2,test_mape,w ,label = \"test_MAPE\")\n",
        "plt.title(\"Train and Test MAPE of all the Models\")\n",
        "plt.xticks(bar1+w/2,models)\n",
        "plt.xlabel(\"Models\")\n",
        "plt.ylabel(\"MAPE\")\n",
        "plt.legend()"
      ],
      "metadata": {
        "colab": {
          "base_uri": "https://localhost:8080/",
          "height": 638
        },
        "id": "isIjBssAZTKm",
        "outputId": "ee8de529-e5ec-4255-f799-b4f1a029b194"
      },
      "execution_count": null,
      "outputs": [
        {
          "output_type": "execute_result",
          "data": {
            "text/plain": [
              "<matplotlib.legend.Legend at 0x7fd8ec90ba10>"
            ]
          },
          "metadata": {},
          "execution_count": 13
        },
        {
          "output_type": "display_data",
          "data": {
            "text/plain": [
              "<Figure size 1080x720 with 1 Axes>"
            ],
            "image/png": "[encoded data removed]"
          },
          "metadata": {
            "needs_background": "light"
          }
        }
      ]
    },
    {
      "cell_type": "code",
      "source": [
        "from prettytable import PrettyTable\n",
        "  \n",
        "# Specify the Column Names while initializing the Table\n",
        "myTable = PrettyTable([\"Classifier\", \"Feature Set\", \"Accuracy\", \"Precision\", \"F1-score\"])\n",
        "  \n",
        "# Add rows\n",
        "myTable.add_row([\"Gaussian Naive Bayes\",\"Count Vectorizer\", \"0.95\", \"0.95\",\"0.0.95\"])\n",
        "myTable.add_row([\"Gaussian Naive Bayes\",\"Count Vectorizer(n_gram range(1,2))\",\"0.9075\" , \"0.8654\",\"0.9125\",])\n",
        "myTable.add_row([\"Gaussian Naive Bayes\", \"TFIDF\", \"0.935\",\"0.9531\",\"0.9336\"])\n",
        "myTable.add_row([\"Multinomial Naive Bayes\", \"Count Vectorizer\", \"0.9625\",\"0.9648\",\"0.9624\"])\n",
        "myTable.add_row([\"Multinomial Naive Bayes\", \"Count Vectorizer(n_gram range(1,2))\", \"0.9775\",\"0.9751\",\"0.9775\"])\n",
        "myTable.add_row([\"Multinomial Naive Bayes\",\"TFIDF\" , \"0.965\", \"0.9603\",\"0.9651\"])\n",
        "myTable.add_row([\"Bernoulli Naive Bayes\", \"Count Vectorizer\", \"0.97\",\"0.9795\",\"0.9696\"])\n",
        "myTable.add_row([\"Bernoulli Naive Bayes\", \"Count Vectorizer(n_gram range(1,2))\", \"0.9675\",\"0.9844\",\"0.9669\"])\n",
        "myTable.add_row([\"Bernoulli Naive Bayes\",\"TFIDF\" , \"0.97\", \"0.9795\",\"0.9696\"])\n",
        "myTable.add_row([\"Logistic Regression\", \"Count Vectorizer\", \"0.9525\",\"0.9641\",\"0.9518\"])\n",
        "myTable.add_row([\"Logistic Regression\", \"Count Vectorizer(n_gram range(1,2))\", \"0.9475\",\"0.9685\",\"0.9462\"])\n",
        "myTable.add_row([\"Logistic Regression\",\"TFIDF\", \"0.965\", \"0.9514\",\"0.9655\"])\n",
        "myTable.add_row([\"SVM\", \"Count Vectorizer\", \"0.7925\",\"0.7671\",\"0.8019\"])\n",
        "myTable.add_row([\"SVM\", \"Count Vectorizer(n_gram range(1,2))\", \"0.7325\",\"0.7657\",\"0.7146\"])\n",
        "myTable.add_row([\"SVM\",\"TFIDF\" , \"0.64\", \"0.9827\",\"0.4418\"])\n",
        "myTable.add_row([\"KNN\", \"Count Vectorizer\", \"0.63\",\"1.0\",\"0.4126\"])\n",
        "myTable.add_row([\"KNN\", \"Count Vectorizer(n_gram range(1,2))\", \"0.5875\",\"1.0\",\"0.2978\"])\n",
        "myTable.add_row([\"KNN\",\"TFIDF\" , \"0.58\", \"1.0\",\"0.2758\"])\n",
        "myTable.add_row([\"Random Forest\", \"Count Vectorizer\", \"0.955\",\"0.9840\",\"0.9536\"])\n",
        "myTable.add_row([\"Random Forest\", \"Count Vectorizer(n_gram range(1,2))\", \"0.9375\",\"0.9888\",\"0.9340\"])\n",
        "myTable.add_row([\"Random Forest\",\"TFIDF\", \"0.945\", \"0.9587\",\"0.9441\"])\n",
        "myTable.add_row([\"XG Boost\", \"Count Vectorizer\", \"0.8725\",\"0.9209\",\"0.8647\"])\n",
        "myTable.add_row([\"XG Boost\", \"Count Vectorizer(n_gram range(1,2))\", \"0.875\",\"0.9166\",\"0.8684\"])\n",
        "myTable.add_row([\"XG Boost\",\"TFIDF\" , \"0.945\", \"0.9587\",\"0.9441\"])\n",
        "myTable.add_row([\"Extra Tree Classifier\", \"Count Vectorizer\", \"0.9525\",\"0.9641\",\"0.9518\"])\n",
        "myTable.add_row([\"Extra Tree Classifier\", \"Count Vectorizer(n_gram range(1,2))\", \"0.9275\",\"0.9723\",\"0.9238\"])\n",
        "myTable.add_row([\"Extra Tree Classifier\",\"TFIDF\" , \"0.955\", \"0.9504\",\"0.9552\"])\n",
        "#myTable.add_row([\"Extra Tree Classifier\",\"Numerical Features + TFIDF(with balanced dataset)\" ,\"1.0\", \"0.9994\", \"1.0\", \"0.9989\",\"1.0\",\"0.9994\"])\n",
        "\n",
        "\n",
        "print(myTable)"
      ],
      "metadata": {
        "colab": {
          "base_uri": "https://localhost:8080/"
        },
        "id": "2WpSeQNHFGB5",
        "outputId": "c0dce8fc-0043-4e4f-a414-11a920573c9d"
      },
      "execution_count": null,
      "outputs": [
        {
          "output_type": "stream",
          "name": "stdout",
          "text": [
            "+-------------------------+-------------------------------------+----------+-----------+----------+\n",
            "|        Classifier       |             Feature Set             | Accuracy | Precision | F1-score |\n",
            "+-------------------------+-------------------------------------+----------+-----------+----------+\n",
            "|   Gaussian Naive Bayes  |           Count Vectorizer          |   0.95   |    0.95   |  0.0.95  |\n",
            "|   Gaussian Naive Bayes  | Count Vectorizer(n_gram range(1,2)) |  0.9075  |   0.8654  |  0.9125  |\n",
            "|   Gaussian Naive Bayes  |                TFIDF                |  0.935   |   0.9531  |  0.9336  |\n",
            "| Multinomial Naive Bayes |           Count Vectorizer          |  0.9625  |   0.9648  |  0.9624  |\n",
            "| Multinomial Naive Bayes | Count Vectorizer(n_gram range(1,2)) |  0.9775  |   0.9751  |  0.9775  |\n",
            "| Multinomial Naive Bayes |                TFIDF                |  0.965   |   0.9603  |  0.9651  |\n",
            "|  Bernoulli Naive Bayes  |           Count Vectorizer          |   0.97   |   0.9795  |  0.9696  |\n",
            "|  Bernoulli Naive Bayes  | Count Vectorizer(n_gram range(1,2)) |  0.9675  |   0.9844  |  0.9669  |\n",
            "|  Bernoulli Naive Bayes  |                TFIDF                |   0.97   |   0.9795  |  0.9696  |\n",
            "|   Logistic Regression   |           Count Vectorizer          |  0.9525  |   0.9641  |  0.9518  |\n",
            "|   Logistic Regression   | Count Vectorizer(n_gram range(1,2)) |  0.9475  |   0.9685  |  0.9462  |\n",
            "|   Logistic Regression   |                TFIDF                |  0.965   |   0.9514  |  0.9655  |\n",
            "|           SVM           |           Count Vectorizer          |  0.7925  |   0.7671  |  0.8019  |\n",
            "|           SVM           | Count Vectorizer(n_gram range(1,2)) |  0.7325  |   0.7657  |  0.7146  |\n",
            "|           SVM           |                TFIDF                |   0.64   |   0.9827  |  0.4418  |\n",
            "|           KNN           |           Count Vectorizer          |   0.63   |    1.0    |  0.4126  |\n",
            "|           KNN           | Count Vectorizer(n_gram range(1,2)) |  0.5875  |    1.0    |  0.2978  |\n",
            "|           KNN           |                TFIDF                |   0.58   |    1.0    |  0.2758  |\n",
            "|      Random Forest      |           Count Vectorizer          |  0.955   |   0.9840  |  0.9536  |\n",
            "|      Random Forest      | Count Vectorizer(n_gram range(1,2)) |  0.9375  |   0.9888  |  0.9340  |\n",
            "|      Random Forest      |                TFIDF                |  0.945   |   0.9587  |  0.9441  |\n",
            "|         XG Boost        |           Count Vectorizer          |  0.8725  |   0.9209  |  0.8647  |\n",
            "|         XG Boost        | Count Vectorizer(n_gram range(1,2)) |  0.875   |   0.9166  |  0.8684  |\n",
            "|         XG Boost        |                TFIDF                |  0.945   |   0.9587  |  0.9441  |\n",
            "|  Extra Tree Classifier  |           Count Vectorizer          |  0.9525  |   0.9641  |  0.9518  |\n",
            "|  Extra Tree Classifier  | Count Vectorizer(n_gram range(1,2)) |  0.9275  |   0.9723  |  0.9238  |\n",
            "|  Extra Tree Classifier  |                TFIDF                |  0.955   |   0.9504  |  0.9552  |\n",
            "+-------------------------+-------------------------------------+----------+-----------+----------+\n"
          ]
        }
      ]
    },
    {
      "cell_type": "code",
      "source": [
        "from prettytable import PrettyTable\n",
        "  \n",
        "# Specify the Column Names while initializing the Table\n",
        "myTable = PrettyTable([\"Classifier\", \"Feature Set\", \"Accuracy\", \"Precision\", \"F1-score\"])\n",
        "  \n",
        "# Add rows\n",
        "myTable.add_row([\"Gaussian Naive Bayes\",\"Count Vectorizer\", \"0.95\", \"0.95\",\"0.0.95\"])\n",
        "\n",
        "myTable.add_row([\"Gaussian Naive Bayes\", \"TFIDF\", \"0.935\",\"0.9531\",\"0.9336\"])\n",
        "myTable.add_row([\"Multinomial Naive Bayes\", \"Count Vectorizer\", \"0.9625\",\"0.9648\",\"0.9624\"])\n",
        "\n",
        "myTable.add_row([\"Multinomial Naive Bayes\",\"TFIDF\" , \"0.965\", \"0.9603\",\"0.9651\"])\n",
        "myTable.add_row([\"Bernoulli Naive Bayes\", \"Count Vectorizer\", \"0.97\",\"0.9795\",\"0.9696\"])\n",
        "myTable.add_row([\"Bernoulli Naive Bayes\",\"TFIDF\" , \"0.97\", \"0.9795\",\"0.9696\"])\n",
        "myTable.add_row([\"Logistic Regression\", \"Count Vectorizer\", \"0.9525\",\"0.9641\",\"0.9518\"])\n",
        "myTable.add_row([\"Logistic Regression\",\"TFIDF\", \"0.965\", \"0.9514\",\"0.9655\"])\n",
        "myTable.add_row([\"SVM\", \"Count Vectorizer\", \"0.7925\",\"0.7671\",\"0.8019\"])\n",
        "myTable.add_row([\"SVM\",\"TFIDF\" , \"0.64\", \"0.9827\",\"0.4418\"])\n",
        "myTable.add_row([\"KNN\", \"Count Vectorizer\", \"0.63\",\"1.0\",\"0.4126\"])\n",
        "myTable.add_row([\"KNN\",\"TFIDF\" , \"0.58\", \"1.0\",\"0.2758\"])\n",
        "myTable.add_row([\"Random Forest\", \"Count Vectorizer\", \"0.955\",\"0.9840\",\"0.9536\"])\n",
        "myTable.add_row([\"Random Forest\",\"TFIDF\", \"0.945\", \"0.9587\",\"0.9441\"])\n",
        "myTable.add_row([\"XG Boost\", \"Count Vectorizer\", \"0.8725\",\"0.9209\",\"0.8647\"])\n",
        "myTable.add_row([\"XG Boost\",\"TFIDF\" , \"0.945\", \"0.9587\",\"0.9441\"])\n",
        "myTable.add_row([\"Extra Tree Classifier\", \"Count Vectorizer\", \"0.9525\",\"0.9641\",\"0.9518\"])\n",
        "myTable.add_row([\"Extra Tree Classifier\",\"TFIDF\" , \"0.955\", \"0.9504\",\"0.9552\"])\n",
        "\n",
        "print(myTable)"
      ],
      "metadata": {
        "colab": {
          "base_uri": "https://localhost:8080/"
        },
        "id": "EniMcPMiQ9Gh",
        "outputId": "93334ed6-9d51-4e3e-b9f0-ed9a2e4b6a65"
      },
      "execution_count": null,
      "outputs": [
        {
          "output_type": "stream",
          "name": "stdout",
          "text": [
            "+-------------------------+------------------+----------+-----------+----------+\n",
            "|        Classifier       |   Feature Set    | Accuracy | Precision | F1-score |\n",
            "+-------------------------+------------------+----------+-----------+----------+\n",
            "|   Gaussian Naive Bayes  | Count Vectorizer |   0.95   |    0.95   |  0.0.95  |\n",
            "|   Gaussian Naive Bayes  |      TFIDF       |  0.935   |   0.9531  |  0.9336  |\n",
            "| Multinomial Naive Bayes | Count Vectorizer |  0.9625  |   0.9648  |  0.9624  |\n",
            "| Multinomial Naive Bayes |      TFIDF       |  0.965   |   0.9603  |  0.9651  |\n",
            "|  Bernoulli Naive Bayes  | Count Vectorizer |   0.97   |   0.9795  |  0.9696  |\n",
            "|  Bernoulli Naive Bayes  |      TFIDF       |   0.97   |   0.9795  |  0.9696  |\n",
            "|   Logistic Regression   | Count Vectorizer |  0.9525  |   0.9641  |  0.9518  |\n",
            "|   Logistic Regression   |      TFIDF       |  0.965   |   0.9514  |  0.9655  |\n",
            "|           SVM           | Count Vectorizer |  0.7925  |   0.7671  |  0.8019  |\n",
            "|           SVM           |      TFIDF       |   0.64   |   0.9827  |  0.4418  |\n",
            "|           KNN           | Count Vectorizer |   0.63   |    1.0    |  0.4126  |\n",
            "|           KNN           |      TFIDF       |   0.58   |    1.0    |  0.2758  |\n",
            "|      Random Forest      | Count Vectorizer |  0.955   |   0.9840  |  0.9536  |\n",
            "|      Random Forest      |      TFIDF       |  0.945   |   0.9587  |  0.9441  |\n",
            "|         XG Boost        | Count Vectorizer |  0.8725  |   0.9209  |  0.8647  |\n",
            "|         XG Boost        |      TFIDF       |  0.945   |   0.9587  |  0.9441  |\n",
            "|  Extra Tree Classifier  | Count Vectorizer |  0.9525  |   0.9641  |  0.9518  |\n",
            "|  Extra Tree Classifier  |      TFIDF       |  0.955   |   0.9504  |  0.9552  |\n",
            "+-------------------------+------------------+----------+-----------+----------+\n"
          ]
        }
      ]
    },
    {
      "cell_type": "markdown",
      "source": [
        "Multinomial naive bayes with count vectorizer with ngram range = (1,2)"
      ],
      "metadata": {
        "id": "yiSwUmtyM-ti"
      }
    },
    {
      "cell_type": "code",
      "source": [
        "# RESULTS FOR ERON DATASET (DATASET )\n",
        "from prettytable import PrettyTable\n",
        "\n",
        "myTable = PrettyTable([\"Classifier\", \"Feature Set\", \"Accuracy\", \"Precision\", \"F1-score\"])\n",
        "  \n",
        "# Add rows\n",
        "myTable.add_row([\"Gaussian Naive Bayes\",\"Count Vectorizer\", \"0.9589\", \"0.9532\",\"0.9281\"])\n",
        "myTable.add_row([\"Gaussian Naive Bayes\",\"Count Vectorizer(n_gram range(1,2))\",\"0.9779\" , \"0.9856\",\"0.9615\",])\n",
        "myTable.add_row([\"Gaussian Naive Bayes\", \"TFIDF\", \"0.9539\",\"0.9303\",\"0.9206\"])\n",
        "myTable.add_row([\"Multinomial Naive Bayes\", \"Count Vectorizer\", \"0.9769\",\"0.9591\",\"0.9608\"])\n",
        "myTable.add_row([\"Multinomial Naive Bayes\", \"Count Vectorizer(n_gram range(1,2))\", \"0.9809\",\"0.9724\",\"0.9674\"])\n",
        "myTable.add_row([\"Multinomial Naive Bayes\",\"TFIDF\" , \"0.9119\", \"0.9951\",\"0.8240\"])\n",
        "myTable.add_row([\"Bernoulli Naive Bayes\", \"Count Vectorizer\", \"0.8338\",\"0.9044\",\"0.6311\"])\n",
        "myTable.add_row([\"Bernoulli Naive Bayes\", \"Count Vectorizer(n_gram range(1,2))\", \"0.7747\",\"0.9594\",\"0.3869\"])\n",
        "myTable.add_row([\"Bernoulli Naive Bayes\",\"TFIDF\" , \"0.8338\", \"0.9044\",\"0.6311\"])\n",
        "myTable.add_row([\"Logistic Regression\", \"Count Vectorizer\", \"0.9729\",\"0.9683\",\"0.9532\"])\n",
        "myTable.add_row([\"Logistic Regression\", \"Count Vectorizer(n_gram range(1,2))\", \"0.9779\",\"0.9624\",\"0.9624\"])\n",
        "myTable.add_row([\"Logistic Regression\",\"TFIDF\", \"0.9879\", \"0.9730\",\"0.9796\"])\n",
        "myTable.add_row([\"SVM\", \"Count Vectorizer\", \"0.7187\",\"1.0\",\"0.078\"])\n",
        "myTable.add_row([\"SVM\", \"Count Vectorizer(n_gram range(1,2))\", \"0.7137\",\"1.0\",\"0.0466\"])\n",
        "myTable.add_row([\"SVM\",\"TFIDF\" , \"0.7767\", \"1.0\",\"0.3856\"])\n",
        "myTable.add_row([\"KNN\", \"Count Vectorizer\", \"0.8588\",\"0.69\",\"0.7965\"])\n",
        "myTable.add_row([\"KNN\", \"Count Vectorizer(n_gram range(1,2))\", \"0.7497\",\"0.5411\",\"0.6936\"])\n",
        "myTable.add_row([\"KNN\",\"TFIDF\" , \"0.6226\", \"0.4373\",\"0.6085\"])\n",
        "myTable.add_row([\"Random Forest\", \"Count Vectorizer\", \"0.9729\",\"0.9586\",\"0.9536\"])\n",
        "myTable.add_row([\"Random Forest\", \"Count Vectorizer(n_gram range(1,2))\", \"0.9739\",\"0.9556\",\"0.9556\"])\n",
        "myTable.add_row([\"Random Forest\",\"TFIDF\", \"0.9709\", \"0.9429\",\"0.9509\"])\n",
        "myTable.add_row([\"XG Boost\", \"Count Vectorizer\", \"0.9669\",\"0.9391\",\"0.9439\"])\n",
        "myTable.add_row([\"XG Boost\", \"Count Vectorizer(n_gram range(1,2))\", \"0.9679\",\"0.9335\",\"0.9461\"])\n",
        "myTable.add_row([\"XG Boost\",\"TFIDF\" , \"0.9709\", \"0.9429\",\"0.9509\"])\n",
        "myTable.add_row([\"Extra Tree Classifier\", \"Count Vectorizer\", \"0.9759\",\"0.9559\",\"0.9591\"])\n",
        "myTable.add_row([\"Extra Tree Classifier\", \"Count Vectorizer(n_gram range(1,2))\", \"0.9719\",\"0.9431\",\"0.9527\"])\n",
        "myTable.add_row([\"Extra Tree Classifier\",\"TFIDF\" , \"0.9769\", \"0.9591\",\"0.9608\"])\n",
        "#myTable.add_row([\"Extra Tree Classifier\",\"Numerical Features + TFIDF(with balanced dataset)\" ,\"1.0\", \"0.9994\", \"1.0\", \"0.9989\",\"1.0\",\"0.9994\"])\n",
        "\n",
        "print(myTable)\n"
      ],
      "metadata": {
        "id": "Fj6i-Z2rMFoI",
        "colab": {
          "base_uri": "https://localhost:8080/"
        },
        "outputId": "6bc56d55-b489-4abc-9b3c-042afd59f1c1"
      },
      "execution_count": null,
      "outputs": [
        {
          "output_type": "stream",
          "name": "stdout",
          "text": [
            "+-------------------------+-------------------------------------+----------+-----------+----------+\n",
            "|        Classifier       |             Feature Set             | Accuracy | Precision | F1-score |\n",
            "+-------------------------+-------------------------------------+----------+-----------+----------+\n",
            "|   Gaussian Naive Bayes  |           Count Vectorizer          |  0.9589  |   0.9532  |  0.9281  |\n",
            "|   Gaussian Naive Bayes  | Count Vectorizer(n_gram range(1,2)) |  0.9779  |   0.9856  |  0.9615  |\n",
            "|   Gaussian Naive Bayes  |                TFIDF                |  0.9539  |   0.9303  |  0.9206  |\n",
            "| Multinomial Naive Bayes |           Count Vectorizer          |  0.9769  |   0.9591  |  0.9608  |\n",
            "| Multinomial Naive Bayes | Count Vectorizer(n_gram range(1,2)) |  0.9809  |   0.9724  |  0.9674  |\n",
            "| Multinomial Naive Bayes |                TFIDF                |  0.9119  |   0.9951  |  0.8240  |\n",
            "|  Bernoulli Naive Bayes  |           Count Vectorizer          |  0.8338  |   0.9044  |  0.6311  |\n",
            "|  Bernoulli Naive Bayes  | Count Vectorizer(n_gram range(1,2)) |  0.7747  |   0.9594  |  0.3869  |\n",
            "|  Bernoulli Naive Bayes  |                TFIDF                |  0.8338  |   0.9044  |  0.6311  |\n",
            "|   Logistic Regression   |           Count Vectorizer          |  0.9729  |   0.9683  |  0.9532  |\n",
            "|   Logistic Regression   | Count Vectorizer(n_gram range(1,2)) |  0.9779  |   0.9624  |  0.9624  |\n",
            "|   Logistic Regression   |                TFIDF                |  0.9879  |   0.9730  |  0.9796  |\n",
            "|           SVM           |           Count Vectorizer          |  0.7187  |    1.0    |  0.078   |\n",
            "|           SVM           | Count Vectorizer(n_gram range(1,2)) |  0.7137  |    1.0    |  0.0466  |\n",
            "|           SVM           |                TFIDF                |  0.7767  |    1.0    |  0.3856  |\n",
            "|           KNN           |           Count Vectorizer          |  0.8588  |    0.69   |  0.7965  |\n",
            "|           KNN           | Count Vectorizer(n_gram range(1,2)) |  0.7497  |   0.5411  |  0.6936  |\n",
            "|           KNN           |                TFIDF                |  0.6226  |   0.4373  |  0.6085  |\n",
            "|      Random Forest      |           Count Vectorizer          |  0.9729  |   0.9586  |  0.9536  |\n",
            "|      Random Forest      | Count Vectorizer(n_gram range(1,2)) |  0.9739  |   0.9556  |  0.9556  |\n",
            "|      Random Forest      |                TFIDF                |  0.9709  |   0.9429  |  0.9509  |\n",
            "|         XG Boost        |           Count Vectorizer          |  0.9669  |   0.9391  |  0.9439  |\n",
            "|         XG Boost        | Count Vectorizer(n_gram range(1,2)) |  0.9679  |   0.9335  |  0.9461  |\n",
            "|         XG Boost        |                TFIDF                |  0.9709  |   0.9429  |  0.9509  |\n",
            "|  Extra Tree Classifier  |           Count Vectorizer          |  0.9759  |   0.9559  |  0.9591  |\n",
            "|  Extra Tree Classifier  | Count Vectorizer(n_gram range(1,2)) |  0.9719  |   0.9431  |  0.9527  |\n",
            "|  Extra Tree Classifier  |                TFIDF                |  0.9769  |   0.9591  |  0.9608  |\n",
            "+-------------------------+-------------------------------------+----------+-----------+----------+\n"
          ]
        }
      ]
    },
    {
      "cell_type": "markdown",
      "source": [
        "Logistic regression with tfidf perfoems better for eron dataset"
      ],
      "metadata": {
        "id": "uIXi1VzaZrm9"
      }
    },
    {
      "cell_type": "code",
      "source": [],
      "metadata": {
        "id": "5s4soTSWYiYx"
      },
      "execution_count": null,
      "outputs": []
    }
  ],
  "metadata": {
    "colab": {
      "provenance": []
    },
    "kernelspec": {
      "display_name": "Python 3",
      "name": "python3"
    },
    "language_info": {
      "name": "python"
    }
  },
  "nbformat": 4,
  "nbformat_minor": 0
}